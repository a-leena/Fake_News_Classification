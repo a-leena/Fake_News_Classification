{
 "cells": [
  {
   "cell_type": "code",
   "execution_count": 1,
   "metadata": {
    "execution": {
     "iopub.execute_input": "2025-09-26T09:18:14.771276Z",
     "iopub.status.busy": "2025-09-26T09:18:14.771038Z",
     "iopub.status.idle": "2025-09-26T09:18:31.857674Z",
     "shell.execute_reply": "2025-09-26T09:18:31.857114Z",
     "shell.execute_reply.started": "2025-09-26T09:18:14.771250Z"
    }
   },
   "outputs": [
    {
     "name": "stderr",
     "output_type": "stream",
     "text": [
      "2025-09-26 09:18:18.776210: E external/local_xla/xla/stream_executor/cuda/cuda_fft.cc:477] Unable to register cuFFT factory: Attempting to register factory for plugin cuFFT when one has already been registered\n",
      "WARNING: All log messages before absl::InitializeLog() is called are written to STDERR\n",
      "E0000 00:00:1758878299.019586      36 cuda_dnn.cc:8310] Unable to register cuDNN factory: Attempting to register factory for plugin cuDNN when one has already been registered\n",
      "E0000 00:00:1758878299.082073      36 cuda_blas.cc:1418] Unable to register cuBLAS factory: Attempting to register factory for plugin cuBLAS when one has already been registered\n"
     ]
    }
   ],
   "source": [
    "import pandas as pd\n",
    "import pickle\n",
    "import keras\n",
    "from keras.models import Sequential\n",
    "from keras.layers import Input, Embedding, LSTM, Bidirectional, Dense, Dropout\n",
    "from keras.optimizers import Adam\n",
    "from keras.callbacks import EarlyStopping\n",
    "import keras_tuner as kt\n",
    "from sklearn.metrics import classification_report, confusion_matrix, ConfusionMatrixDisplay"
   ]
  },
  {
   "cell_type": "code",
   "execution_count": 2,
   "metadata": {
    "execution": {
     "iopub.execute_input": "2025-09-26T09:18:31.858846Z",
     "iopub.status.busy": "2025-09-26T09:18:31.858387Z",
     "iopub.status.idle": "2025-09-26T09:18:31.928772Z",
     "shell.execute_reply": "2025-09-26T09:18:31.928197Z",
     "shell.execute_reply.started": "2025-09-26T09:18:31.858826Z"
    }
   },
   "outputs": [],
   "source": [
    "from tensorflow.keras import mixed_precision\n",
    "mixed_precision.set_global_policy(\"mixed_float16\")"
   ]
  },
  {
   "cell_type": "code",
   "execution_count": 3,
   "metadata": {
    "execution": {
     "iopub.execute_input": "2025-09-26T09:18:31.930742Z",
     "iopub.status.busy": "2025-09-26T09:18:31.930519Z",
     "iopub.status.idle": "2025-09-26T09:18:31.934257Z",
     "shell.execute_reply": "2025-09-26T09:18:31.933619Z",
     "shell.execute_reply.started": "2025-09-26T09:18:31.930724Z"
    }
   },
   "outputs": [],
   "source": [
    "EPOCHS=20\n",
    "BATCH_SIZE=64\n",
    "PATIENCE=5"
   ]
  },
  {
   "cell_type": "code",
   "execution_count": 4,
   "metadata": {
    "execution": {
     "iopub.execute_input": "2025-09-26T09:18:31.935131Z",
     "iopub.status.busy": "2025-09-26T09:18:31.934914Z",
     "iopub.status.idle": "2025-09-26T09:18:31.950030Z",
     "shell.execute_reply": "2025-09-26T09:18:31.949312Z",
     "shell.execute_reply.started": "2025-09-26T09:18:31.935114Z"
    }
   },
   "outputs": [],
   "source": [
    "BASE_IN = '/kaggle/input/'\n",
    "BASE_OUT = '/kaggle/working/'"
   ]
  },
  {
   "cell_type": "markdown",
   "metadata": {},
   "source": [
    "# Load Embeddings & Inputs"
   ]
  },
  {
   "cell_type": "code",
   "execution_count": 5,
   "metadata": {
    "execution": {
     "iopub.execute_input": "2025-09-26T09:18:31.950865Z",
     "iopub.status.busy": "2025-09-26T09:18:31.950678Z",
     "iopub.status.idle": "2025-09-26T09:18:34.119895Z",
     "shell.execute_reply": "2025-09-26T09:18:34.119148Z",
     "shell.execute_reply.started": "2025-09-26T09:18:31.950852Z"
    }
   },
   "outputs": [],
   "source": [
    "with open(BASE_IN+'artifacts/embeddings_inputs.pkl', 'rb') as f:\n",
    "    loaded_input_items = pickle.load(f)"
   ]
  },
  {
   "cell_type": "code",
   "execution_count": 6,
   "metadata": {
    "execution": {
     "iopub.execute_input": "2025-09-26T09:18:34.120809Z",
     "iopub.status.busy": "2025-09-26T09:18:34.120612Z",
     "iopub.status.idle": "2025-09-26T09:18:34.124907Z",
     "shell.execute_reply": "2025-09-26T09:18:34.124138Z",
     "shell.execute_reply.started": "2025-09-26T09:18:34.120792Z"
    }
   },
   "outputs": [],
   "source": [
    "embedding_matrix = loaded_input_items['embedding_matrix']\n",
    "X_train_pad = loaded_input_items['X_train_pad']\n",
    "X_val_pad = loaded_input_items['X_val_pad']\n",
    "X_test_pad = loaded_input_items['X_test_pad']\n",
    "y_train = loaded_input_items['y_train']\n",
    "y_val = loaded_input_items['y_val']\n",
    "y_test = loaded_input_items['y_test']"
   ]
  },
  {
   "cell_type": "code",
   "execution_count": 7,
   "metadata": {
    "execution": {
     "iopub.execute_input": "2025-09-26T09:18:34.125813Z",
     "iopub.status.busy": "2025-09-26T09:18:34.125590Z",
     "iopub.status.idle": "2025-09-26T09:18:34.142195Z",
     "shell.execute_reply": "2025-09-26T09:18:34.141652Z",
     "shell.execute_reply.started": "2025-09-26T09:18:34.125793Z"
    }
   },
   "outputs": [
    {
     "name": "stdout",
     "output_type": "stream",
     "text": [
      "Embedding dimension: 500\n",
      "Vocab size: 35756\n",
      "Maximum input length: 588\n"
     ]
    }
   ],
   "source": [
    "VOCAB_SIZE = embedding_matrix.shape[0]\n",
    "EMBEDDING_DIM = embedding_matrix.shape[1]\n",
    "MAX_LEN = len(X_train_pad[0])\n",
    "print(f\"Embedding dimension: {EMBEDDING_DIM}\\nVocab size: {VOCAB_SIZE}\\nMaximum input length: {MAX_LEN}\")"
   ]
  },
  {
   "cell_type": "markdown",
   "metadata": {},
   "source": [
    "# LSTM"
   ]
  },
  {
   "cell_type": "markdown",
   "metadata": {},
   "source": [
    "* Each LSTM layer (that performs repeated operations for several time steps) has 4 distinct, interacting computational components. Each of these components act like a fully-connected neural network layer.\n",
    "* We have `forget gate` ($f_{t}$), `input gate` ($i_{t}$), and `output gate` ($o_{t}$), all of which are aggregations of the previous time step's hidden state and current time step's input with different weight matrices (and associated bias vectors). All these gates usually use sigmoid activation to output values between 0 and 1 indicating which information should be retained and which discarded.\n",
    "* Then, we have a layer that applies tanh activation function on another aggregation (because it uses different weight matrix and bias vector), called the `candidate cell state` ($\\tilde{C}_{t}$), which outputs vector of candidate values to add to the current time step's cell state.\n",
    "* Then, we find the new cell state ($C_{t}$) by doing pointwise addition of pointwise multiplications of $f_{t}$ and $C_{t-1}$ and $i_{t}$ and $\\tilde{C}_{t}$.\n",
    "* Finally,we find the current time step's hidden state by doing pointwise mutliplication of $o_{t}$ and tanh($C_{t}$). "
   ]
  },
  {
   "cell_type": "markdown",
   "metadata": {},
   "source": [
    "## Trainable = False"
   ]
  },
  {
   "cell_type": "code",
   "execution_count": 8,
   "metadata": {
    "execution": {
     "iopub.execute_input": "2025-09-26T09:18:34.143088Z",
     "iopub.status.busy": "2025-09-26T09:18:34.142893Z",
     "iopub.status.idle": "2025-09-26T09:18:36.705031Z",
     "shell.execute_reply": "2025-09-26T09:18:36.704489Z",
     "shell.execute_reply.started": "2025-09-26T09:18:34.143071Z"
    }
   },
   "outputs": [
    {
     "name": "stderr",
     "output_type": "stream",
     "text": [
      "I0000 00:00:1758878315.108981      36 gpu_device.cc:2022] Created device /job:localhost/replica:0/task:0/device:GPU:0 with 15513 MB memory:  -> device: 0, name: Tesla P100-PCIE-16GB, pci bus id: 0000:00:04.0, compute capability: 6.0\n"
     ]
    },
    {
     "data": {
      "text/html": [
       "<pre style=\"white-space:pre;overflow-x:auto;line-height:normal;font-family:Menlo,'DejaVu Sans Mono',consolas,'Courier New',monospace\"><span style=\"font-weight: bold\">Model: \"sequential\"</span>\n",
       "</pre>\n"
      ],
      "text/plain": [
       "\u001b[1mModel: \"sequential\"\u001b[0m\n"
      ]
     },
     "metadata": {},
     "output_type": "display_data"
    },
    {
     "data": {
      "text/html": [
       "<pre style=\"white-space:pre;overflow-x:auto;line-height:normal;font-family:Menlo,'DejaVu Sans Mono',consolas,'Courier New',monospace\">┏━━━━━━━━━━━━━━━━━━━━━━━━━━━━━━━━━┳━━━━━━━━━━━━━━━━━━━━━━━━┳━━━━━━━━━━━━━━━┓\n",
       "┃<span style=\"font-weight: bold\"> Layer (type)                    </span>┃<span style=\"font-weight: bold\"> Output Shape           </span>┃<span style=\"font-weight: bold\">       Param # </span>┃\n",
       "┡━━━━━━━━━━━━━━━━━━━━━━━━━━━━━━━━━╇━━━━━━━━━━━━━━━━━━━━━━━━╇━━━━━━━━━━━━━━━┩\n",
       "│ embedding (<span style=\"color: #0087ff; text-decoration-color: #0087ff\">Embedding</span>)           │ (<span style=\"color: #00d7ff; text-decoration-color: #00d7ff\">None</span>, <span style=\"color: #00af00; text-decoration-color: #00af00\">588</span>, <span style=\"color: #00af00; text-decoration-color: #00af00\">500</span>)       │    <span style=\"color: #00af00; text-decoration-color: #00af00\">17,878,000</span> │\n",
       "├─────────────────────────────────┼────────────────────────┼───────────────┤\n",
       "│ lstm (<span style=\"color: #0087ff; text-decoration-color: #0087ff\">LSTM</span>)                     │ (<span style=\"color: #00d7ff; text-decoration-color: #00d7ff\">None</span>, <span style=\"color: #00af00; text-decoration-color: #00af00\">128</span>)            │       <span style=\"color: #00af00; text-decoration-color: #00af00\">322,048</span> │\n",
       "├─────────────────────────────────┼────────────────────────┼───────────────┤\n",
       "│ dense (<span style=\"color: #0087ff; text-decoration-color: #0087ff\">Dense</span>)                   │ (<span style=\"color: #00d7ff; text-decoration-color: #00d7ff\">None</span>, <span style=\"color: #00af00; text-decoration-color: #00af00\">64</span>)             │         <span style=\"color: #00af00; text-decoration-color: #00af00\">8,256</span> │\n",
       "├─────────────────────────────────┼────────────────────────┼───────────────┤\n",
       "│ dropout (<span style=\"color: #0087ff; text-decoration-color: #0087ff\">Dropout</span>)               │ (<span style=\"color: #00d7ff; text-decoration-color: #00d7ff\">None</span>, <span style=\"color: #00af00; text-decoration-color: #00af00\">64</span>)             │             <span style=\"color: #00af00; text-decoration-color: #00af00\">0</span> │\n",
       "├─────────────────────────────────┼────────────────────────┼───────────────┤\n",
       "│ dense_1 (<span style=\"color: #0087ff; text-decoration-color: #0087ff\">Dense</span>)                 │ (<span style=\"color: #00d7ff; text-decoration-color: #00d7ff\">None</span>, <span style=\"color: #00af00; text-decoration-color: #00af00\">1</span>)              │            <span style=\"color: #00af00; text-decoration-color: #00af00\">65</span> │\n",
       "└─────────────────────────────────┴────────────────────────┴───────────────┘\n",
       "</pre>\n"
      ],
      "text/plain": [
       "┏━━━━━━━━━━━━━━━━━━━━━━━━━━━━━━━━━┳━━━━━━━━━━━━━━━━━━━━━━━━┳━━━━━━━━━━━━━━━┓\n",
       "┃\u001b[1m \u001b[0m\u001b[1mLayer (type)                   \u001b[0m\u001b[1m \u001b[0m┃\u001b[1m \u001b[0m\u001b[1mOutput Shape          \u001b[0m\u001b[1m \u001b[0m┃\u001b[1m \u001b[0m\u001b[1m      Param #\u001b[0m\u001b[1m \u001b[0m┃\n",
       "┡━━━━━━━━━━━━━━━━━━━━━━━━━━━━━━━━━╇━━━━━━━━━━━━━━━━━━━━━━━━╇━━━━━━━━━━━━━━━┩\n",
       "│ embedding (\u001b[38;5;33mEmbedding\u001b[0m)           │ (\u001b[38;5;45mNone\u001b[0m, \u001b[38;5;34m588\u001b[0m, \u001b[38;5;34m500\u001b[0m)       │    \u001b[38;5;34m17,878,000\u001b[0m │\n",
       "├─────────────────────────────────┼────────────────────────┼───────────────┤\n",
       "│ lstm (\u001b[38;5;33mLSTM\u001b[0m)                     │ (\u001b[38;5;45mNone\u001b[0m, \u001b[38;5;34m128\u001b[0m)            │       \u001b[38;5;34m322,048\u001b[0m │\n",
       "├─────────────────────────────────┼────────────────────────┼───────────────┤\n",
       "│ dense (\u001b[38;5;33mDense\u001b[0m)                   │ (\u001b[38;5;45mNone\u001b[0m, \u001b[38;5;34m64\u001b[0m)             │         \u001b[38;5;34m8,256\u001b[0m │\n",
       "├─────────────────────────────────┼────────────────────────┼───────────────┤\n",
       "│ dropout (\u001b[38;5;33mDropout\u001b[0m)               │ (\u001b[38;5;45mNone\u001b[0m, \u001b[38;5;34m64\u001b[0m)             │             \u001b[38;5;34m0\u001b[0m │\n",
       "├─────────────────────────────────┼────────────────────────┼───────────────┤\n",
       "│ dense_1 (\u001b[38;5;33mDense\u001b[0m)                 │ (\u001b[38;5;45mNone\u001b[0m, \u001b[38;5;34m1\u001b[0m)              │            \u001b[38;5;34m65\u001b[0m │\n",
       "└─────────────────────────────────┴────────────────────────┴───────────────┘\n"
      ]
     },
     "metadata": {},
     "output_type": "display_data"
    },
    {
     "data": {
      "text/html": [
       "<pre style=\"white-space:pre;overflow-x:auto;line-height:normal;font-family:Menlo,'DejaVu Sans Mono',consolas,'Courier New',monospace\"><span style=\"font-weight: bold\"> Total params: </span><span style=\"color: #00af00; text-decoration-color: #00af00\">18,208,369</span> (69.46 MB)\n",
       "</pre>\n"
      ],
      "text/plain": [
       "\u001b[1m Total params: \u001b[0m\u001b[38;5;34m18,208,369\u001b[0m (69.46 MB)\n"
      ]
     },
     "metadata": {},
     "output_type": "display_data"
    },
    {
     "data": {
      "text/html": [
       "<pre style=\"white-space:pre;overflow-x:auto;line-height:normal;font-family:Menlo,'DejaVu Sans Mono',consolas,'Courier New',monospace\"><span style=\"font-weight: bold\"> Trainable params: </span><span style=\"color: #00af00; text-decoration-color: #00af00\">330,369</span> (1.26 MB)\n",
       "</pre>\n"
      ],
      "text/plain": [
       "\u001b[1m Trainable params: \u001b[0m\u001b[38;5;34m330,369\u001b[0m (1.26 MB)\n"
      ]
     },
     "metadata": {},
     "output_type": "display_data"
    },
    {
     "data": {
      "text/html": [
       "<pre style=\"white-space:pre;overflow-x:auto;line-height:normal;font-family:Menlo,'DejaVu Sans Mono',consolas,'Courier New',monospace\"><span style=\"font-weight: bold\"> Non-trainable params: </span><span style=\"color: #00af00; text-decoration-color: #00af00\">17,878,000</span> (68.20 MB)\n",
       "</pre>\n"
      ],
      "text/plain": [
       "\u001b[1m Non-trainable params: \u001b[0m\u001b[38;5;34m17,878,000\u001b[0m (68.20 MB)\n"
      ]
     },
     "metadata": {},
     "output_type": "display_data"
    }
   ],
   "source": [
    "model = Sequential()\n",
    "model.add(Input(shape=(MAX_LEN,)))\n",
    "model.add(Embedding(input_dim=VOCAB_SIZE,\n",
    "                    output_dim=EMBEDDING_DIM,\n",
    "                    weights=[embedding_matrix],\n",
    "                    trainable=False))\n",
    "# params => 35756*500 = 17878000\n",
    "model.add(LSTM(128, dropout=0.3, recurrent_dropout=0.3))\n",
    "# params => ((500+128)*128+128)*4 = 322048\n",
    "model.add(Dense(64, activation='relu'))\n",
    "model.add(Dropout(0.3))\n",
    "model.add(Dense(1, activation='sigmoid'))\n",
    "model.summary()"
   ]
  },
  {
   "cell_type": "code",
   "execution_count": 9,
   "metadata": {
    "execution": {
     "iopub.execute_input": "2025-09-26T09:18:36.707521Z",
     "iopub.status.busy": "2025-09-26T09:18:36.707273Z",
     "iopub.status.idle": "2025-09-26T10:53:35.824893Z",
     "shell.execute_reply": "2025-09-26T10:53:35.824095Z",
     "shell.execute_reply.started": "2025-09-26T09:18:36.707504Z"
    }
   },
   "outputs": [
    {
     "name": "stdout",
     "output_type": "stream",
     "text": [
      "Epoch 1/20\n",
      "\u001b[1m206/206\u001b[0m \u001b[32m━━━━━━━━━━━━━━━━━━━━\u001b[0m\u001b[37m\u001b[0m \u001b[1m293s\u001b[0m 1s/step - accuracy: 0.5226 - loss: 0.6876 - val_accuracy: 0.5234 - val_loss: 0.6749\n",
      "Epoch 2/20\n",
      "\u001b[1m206/206\u001b[0m \u001b[32m━━━━━━━━━━━━━━━━━━━━\u001b[0m\u001b[37m\u001b[0m \u001b[1m282s\u001b[0m 1s/step - accuracy: 0.5274 - loss: 0.6653 - val_accuracy: 0.5514 - val_loss: 0.6521\n",
      "Epoch 3/20\n",
      "\u001b[1m206/206\u001b[0m \u001b[32m━━━━━━━━━━━━━━━━━━━━\u001b[0m\u001b[37m\u001b[0m \u001b[1m284s\u001b[0m 1s/step - accuracy: 0.6041 - loss: 0.6368 - val_accuracy: 0.7460 - val_loss: 0.5318\n",
      "Epoch 4/20\n",
      "\u001b[1m206/206\u001b[0m \u001b[32m━━━━━━━━━━━━━━━━━━━━\u001b[0m\u001b[37m\u001b[0m \u001b[1m283s\u001b[0m 1s/step - accuracy: 0.7070 - loss: 0.5646 - val_accuracy: 0.5195 - val_loss: 0.6806\n",
      "Epoch 5/20\n",
      "\u001b[1m206/206\u001b[0m \u001b[32m━━━━━━━━━━━━━━━━━━━━\u001b[0m\u001b[37m\u001b[0m \u001b[1m282s\u001b[0m 1s/step - accuracy: 0.5381 - loss: 0.6687 - val_accuracy: 0.7348 - val_loss: 0.5534\n",
      "Epoch 6/20\n",
      "\u001b[1m206/206\u001b[0m \u001b[32m━━━━━━━━━━━━━━━━━━━━\u001b[0m\u001b[37m\u001b[0m \u001b[1m285s\u001b[0m 1s/step - accuracy: 0.6883 - loss: 0.5998 - val_accuracy: 0.6588 - val_loss: 0.6317\n",
      "Epoch 7/20\n",
      "\u001b[1m206/206\u001b[0m \u001b[32m━━━━━━━━━━━━━━━━━━━━\u001b[0m\u001b[37m\u001b[0m \u001b[1m284s\u001b[0m 1s/step - accuracy: 0.6751 - loss: 0.5926 - val_accuracy: 0.6293 - val_loss: 0.6186\n",
      "Epoch 8/20\n",
      "\u001b[1m206/206\u001b[0m \u001b[32m━━━━━━━━━━━━━━━━━━━━\u001b[0m\u001b[37m\u001b[0m \u001b[1m284s\u001b[0m 1s/step - accuracy: 0.6695 - loss: 0.5681 - val_accuracy: 0.8972 - val_loss: 0.2700\n",
      "Epoch 9/20\n",
      "\u001b[1m206/206\u001b[0m \u001b[32m━━━━━━━━━━━━━━━━━━━━\u001b[0m\u001b[37m\u001b[0m \u001b[1m284s\u001b[0m 1s/step - accuracy: 0.8971 - loss: 0.2772 - val_accuracy: 0.9185 - val_loss: 0.2224\n",
      "Epoch 10/20\n",
      "\u001b[1m206/206\u001b[0m \u001b[32m━━━━━━━━━━━━━━━━━━━━\u001b[0m\u001b[37m\u001b[0m \u001b[1m284s\u001b[0m 1s/step - accuracy: 0.9211 - loss: 0.2186 - val_accuracy: 0.9328 - val_loss: 0.1875\n",
      "Epoch 11/20\n",
      "\u001b[1m206/206\u001b[0m \u001b[32m━━━━━━━━━━━━━━━━━━━━\u001b[0m\u001b[37m\u001b[0m \u001b[1m285s\u001b[0m 1s/step - accuracy: 0.9329 - loss: 0.1851 - val_accuracy: 0.9294 - val_loss: 0.1832\n",
      "Epoch 12/20\n",
      "\u001b[1m206/206\u001b[0m \u001b[32m━━━━━━━━━━━━━━━━━━━━\u001b[0m\u001b[37m\u001b[0m \u001b[1m285s\u001b[0m 1s/step - accuracy: 0.9422 - loss: 0.1629 - val_accuracy: 0.9474 - val_loss: 0.1520\n",
      "Epoch 13/20\n",
      "\u001b[1m206/206\u001b[0m \u001b[32m━━━━━━━━━━━━━━━━━━━━\u001b[0m\u001b[37m\u001b[0m \u001b[1m286s\u001b[0m 1s/step - accuracy: 0.9475 - loss: 0.1429 - val_accuracy: 0.9419 - val_loss: 0.1591\n",
      "Epoch 14/20\n",
      "\u001b[1m206/206\u001b[0m \u001b[32m━━━━━━━━━━━━━━━━━━━━\u001b[0m\u001b[37m\u001b[0m \u001b[1m288s\u001b[0m 1s/step - accuracy: 0.9533 - loss: 0.1332 - val_accuracy: 0.9456 - val_loss: 0.1416\n",
      "Epoch 15/20\n",
      "\u001b[1m206/206\u001b[0m \u001b[32m━━━━━━━━━━━━━━━━━━━━\u001b[0m\u001b[37m\u001b[0m \u001b[1m286s\u001b[0m 1s/step - accuracy: 0.9509 - loss: 0.1376 - val_accuracy: 0.9519 - val_loss: 0.1356\n",
      "Epoch 16/20\n",
      "\u001b[1m206/206\u001b[0m \u001b[32m━━━━━━━━━━━━━━━━━━━━\u001b[0m\u001b[37m\u001b[0m \u001b[1m286s\u001b[0m 1s/step - accuracy: 0.9596 - loss: 0.1174 - val_accuracy: 0.9383 - val_loss: 0.1551\n",
      "Epoch 17/20\n",
      "\u001b[1m206/206\u001b[0m \u001b[32m━━━━━━━━━━━━━━━━━━━━\u001b[0m\u001b[37m\u001b[0m \u001b[1m283s\u001b[0m 1s/step - accuracy: 0.9573 - loss: 0.1213 - val_accuracy: 0.9562 - val_loss: 0.1209\n",
      "Epoch 18/20\n",
      "\u001b[1m206/206\u001b[0m \u001b[32m━━━━━━━━━━━━━━━━━━━━\u001b[0m\u001b[37m\u001b[0m \u001b[1m283s\u001b[0m 1s/step - accuracy: 0.9557 - loss: 0.1145 - val_accuracy: 0.9580 - val_loss: 0.1162\n",
      "Epoch 19/20\n",
      "\u001b[1m206/206\u001b[0m \u001b[32m━━━━━━━━━━━━━━━━━━━━\u001b[0m\u001b[37m\u001b[0m \u001b[1m284s\u001b[0m 1s/step - accuracy: 0.9666 - loss: 0.0948 - val_accuracy: 0.9605 - val_loss: 0.1088\n",
      "Epoch 20/20\n",
      "\u001b[1m206/206\u001b[0m \u001b[32m━━━━━━━━━━━━━━━━━━━━\u001b[0m\u001b[37m\u001b[0m \u001b[1m286s\u001b[0m 1s/step - accuracy: 0.9702 - loss: 0.0868 - val_accuracy: 0.9553 - val_loss: 0.1243\n",
      "Restoring model weights from the end of the best epoch: 19.\n"
     ]
    },
    {
     "data": {
      "text/plain": [
       "<keras.src.callbacks.history.History at 0x7e4b2bfcbf90>"
      ]
     },
     "execution_count": 9,
     "metadata": {},
     "output_type": "execute_result"
    }
   ],
   "source": [
    "model.compile(optimizer='adam', loss='binary_crossentropy', metrics=['accuracy'])\n",
    "estop = EarlyStopping(monitor='val_loss', mode='min', \n",
    "                      min_delta=1e-5, patience=PATIENCE,\n",
    "                      restore_best_weights=True, verbose=1)\n",
    "model.fit(X_train_pad, y_train,\n",
    "          validation_data=(X_val_pad, y_val),\n",
    "          epochs=EPOCHS, batch_size=BATCH_SIZE,\n",
    "          callbacks=[estop], verbose=1)"
   ]
  },
  {
   "cell_type": "code",
   "execution_count": 10,
   "metadata": {
    "execution": {
     "iopub.execute_input": "2025-09-26T10:53:35.825958Z",
     "iopub.status.busy": "2025-09-26T10:53:35.825648Z",
     "iopub.status.idle": "2025-09-26T10:54:16.308869Z",
     "shell.execute_reply": "2025-09-26T10:54:16.308136Z",
     "shell.execute_reply.started": "2025-09-26T10:53:35.825941Z"
    }
   },
   "outputs": [
    {
     "name": "stdout",
     "output_type": "stream",
     "text": [
      "LSTM Test accuracy: 0.9552311301231384\n",
      "lSTM Test loss: 0.11885205656290054\n"
     ]
    }
   ],
   "source": [
    "lstm_loss, lstm_accuracy = model.evaluate(X_test_pad, y_test, verbose=0)\n",
    "print(\"LSTM Test accuracy:\", lstm_accuracy)\n",
    "print(\"lSTM Test loss:\", lstm_loss)"
   ]
  },
  {
   "cell_type": "code",
   "execution_count": 11,
   "metadata": {
    "execution": {
     "iopub.execute_input": "2025-09-26T10:54:16.309960Z",
     "iopub.status.busy": "2025-09-26T10:54:16.309683Z",
     "iopub.status.idle": "2025-09-26T10:54:16.696939Z",
     "shell.execute_reply": "2025-09-26T10:54:16.696344Z",
     "shell.execute_reply.started": "2025-09-26T10:54:16.309930Z"
    }
   },
   "outputs": [],
   "source": [
    "model.save(BASE_OUT+'simple_lstm.keras')"
   ]
  },
  {
   "cell_type": "code",
   "execution_count": 12,
   "metadata": {
    "execution": {
     "iopub.execute_input": "2025-09-26T10:54:16.697822Z",
     "iopub.status.busy": "2025-09-26T10:54:16.697641Z",
     "iopub.status.idle": "2025-09-26T10:54:16.701383Z",
     "shell.execute_reply": "2025-09-26T10:54:16.700821Z",
     "shell.execute_reply.started": "2025-09-26T10:54:16.697808Z"
    }
   },
   "outputs": [],
   "source": [
    "# def build_model(hp):\n",
    "#     model = Sequential()\n",
    "#     model.add(Input(shape=(MAX_LEN,)))\n",
    "#     model.add(Embedding(input_dim=VOCAB_SIZE,\n",
    "#                         output_dim=EMBEDDING_DIM,\n",
    "#                         weights=[embedding_matrix],\n",
    "#                         trainable=False))\n",
    "#     model.add(LSTM(units=hp.Choice('units', values=[64, 128, 256]), \n",
    "#                    dropout=hp.Float('dropout', min_value=0.2, max_value=0.5, step=0.1), \n",
    "#                    recurrent_dropout=hp.Float('recurrent_dropout', min_value=0.2, max_value=0.5, step=0.1)))\n",
    "    \n",
    "#     model.add(Dense(1, activation='sigmoid'))\n",
    "    \n",
    "#     model.compile(optimizer=Adam(learning_rate=hp.Choice('learning_rate', values=[1e-4, 1e-3, 1e-2])),\n",
    "#                                  loss='binary_crossentropy', metrics=['accuracy'])\n",
    "#     return model"
   ]
  },
  {
   "cell_type": "code",
   "execution_count": 13,
   "metadata": {
    "execution": {
     "iopub.execute_input": "2025-09-26T10:54:16.702429Z",
     "iopub.status.busy": "2025-09-26T10:54:16.702132Z",
     "iopub.status.idle": "2025-09-26T10:54:16.719453Z",
     "shell.execute_reply": "2025-09-26T10:54:16.718946Z",
     "shell.execute_reply.started": "2025-09-26T10:54:16.702405Z"
    }
   },
   "outputs": [],
   "source": [
    "# tuner = kt.RandomSearch(\n",
    "#     build_model,\n",
    "#     objective='val_accuracy',\n",
    "#     max_trials=25,\n",
    "#     executions_per_trial=1,\n",
    "#     directory=BASE_OUT+'tuner',\n",
    "#     project_name='lstm_randomsearch'\n",
    "# )"
   ]
  },
  {
   "cell_type": "code",
   "execution_count": 14,
   "metadata": {
    "execution": {
     "iopub.execute_input": "2025-09-26T10:54:16.720640Z",
     "iopub.status.busy": "2025-09-26T10:54:16.720165Z",
     "iopub.status.idle": "2025-09-26T10:54:16.737086Z",
     "shell.execute_reply": "2025-09-26T10:54:16.736479Z",
     "shell.execute_reply.started": "2025-09-26T10:54:16.720617Z"
    }
   },
   "outputs": [],
   "source": [
    "# tuner.search(X_train_pad, y_train,\n",
    "#             validation_data=(X_val_pad, y_val),\n",
    "#             epochs=EPOCHS, batch_size=BATCH_SIZE,\n",
    "#             verbose=1)"
   ]
  },
  {
   "cell_type": "code",
   "execution_count": 15,
   "metadata": {
    "execution": {
     "iopub.execute_input": "2025-09-26T10:54:16.737937Z",
     "iopub.status.busy": "2025-09-26T10:54:16.737731Z",
     "iopub.status.idle": "2025-09-26T10:54:16.751843Z",
     "shell.execute_reply": "2025-09-26T10:54:16.751308Z",
     "shell.execute_reply.started": "2025-09-26T10:54:16.737922Z"
    }
   },
   "outputs": [],
   "source": [
    "# best_model1 = tuner.get_best_models(num_models=1)[0]\n",
    "# best_hps1 = tuner.get_best_hyperparameters(num_trials=1)[0]\n",
    "# print(best_hps1.values)"
   ]
  },
  {
   "cell_type": "code",
   "execution_count": 16,
   "metadata": {
    "execution": {
     "iopub.execute_input": "2025-09-26T10:54:16.752668Z",
     "iopub.status.busy": "2025-09-26T10:54:16.752476Z",
     "iopub.status.idle": "2025-09-26T10:54:16.771992Z",
     "shell.execute_reply": "2025-09-26T10:54:16.771492Z",
     "shell.execute_reply.started": "2025-09-26T10:54:16.752654Z"
    }
   },
   "outputs": [],
   "source": [
    "# best_loss1, best_accuracy1 = best_model1.evaluate(X_test_pad, y_test, verbose=0)\n",
    "# print(\"Tuned LSTM (trainable=False) test accuracy:\",best_accuracy1)\n",
    "# print(\"Tuned LSTM (trainable=False) test loss:\", best_loss1)"
   ]
  },
  {
   "cell_type": "markdown",
   "metadata": {},
   "source": [
    "## Trainable = True"
   ]
  },
  {
   "cell_type": "code",
   "execution_count": 19,
   "metadata": {
    "execution": {
     "iopub.execute_input": "2025-09-26T11:28:29.676717Z",
     "iopub.status.busy": "2025-09-26T11:28:29.676069Z",
     "iopub.status.idle": "2025-09-26T11:28:29.906183Z",
     "shell.execute_reply": "2025-09-26T11:28:29.905655Z",
     "shell.execute_reply.started": "2025-09-26T11:28:29.676692Z"
    }
   },
   "outputs": [
    {
     "data": {
      "text/html": [
       "<pre style=\"white-space:pre;overflow-x:auto;line-height:normal;font-family:Menlo,'DejaVu Sans Mono',consolas,'Courier New',monospace\"><span style=\"font-weight: bold\">Model: \"sequential_2\"</span>\n",
       "</pre>\n"
      ],
      "text/plain": [
       "\u001b[1mModel: \"sequential_2\"\u001b[0m\n"
      ]
     },
     "metadata": {},
     "output_type": "display_data"
    },
    {
     "data": {
      "text/html": [
       "<pre style=\"white-space:pre;overflow-x:auto;line-height:normal;font-family:Menlo,'DejaVu Sans Mono',consolas,'Courier New',monospace\">┏━━━━━━━━━━━━━━━━━━━━━━━━━━━━━━━━━┳━━━━━━━━━━━━━━━━━━━━━━━━┳━━━━━━━━━━━━━━━┓\n",
       "┃<span style=\"font-weight: bold\"> Layer (type)                    </span>┃<span style=\"font-weight: bold\"> Output Shape           </span>┃<span style=\"font-weight: bold\">       Param # </span>┃\n",
       "┡━━━━━━━━━━━━━━━━━━━━━━━━━━━━━━━━━╇━━━━━━━━━━━━━━━━━━━━━━━━╇━━━━━━━━━━━━━━━┩\n",
       "│ embedding_2 (<span style=\"color: #0087ff; text-decoration-color: #0087ff\">Embedding</span>)         │ (<span style=\"color: #00d7ff; text-decoration-color: #00d7ff\">None</span>, <span style=\"color: #00af00; text-decoration-color: #00af00\">588</span>, <span style=\"color: #00af00; text-decoration-color: #00af00\">500</span>)       │    <span style=\"color: #00af00; text-decoration-color: #00af00\">17,878,000</span> │\n",
       "├─────────────────────────────────┼────────────────────────┼───────────────┤\n",
       "│ lstm_2 (<span style=\"color: #0087ff; text-decoration-color: #0087ff\">LSTM</span>)                   │ (<span style=\"color: #00d7ff; text-decoration-color: #00d7ff\">None</span>, <span style=\"color: #00af00; text-decoration-color: #00af00\">128</span>)            │       <span style=\"color: #00af00; text-decoration-color: #00af00\">322,048</span> │\n",
       "├─────────────────────────────────┼────────────────────────┼───────────────┤\n",
       "│ dense_3 (<span style=\"color: #0087ff; text-decoration-color: #0087ff\">Dense</span>)                 │ (<span style=\"color: #00d7ff; text-decoration-color: #00d7ff\">None</span>, <span style=\"color: #00af00; text-decoration-color: #00af00\">64</span>)             │         <span style=\"color: #00af00; text-decoration-color: #00af00\">8,256</span> │\n",
       "├─────────────────────────────────┼────────────────────────┼───────────────┤\n",
       "│ dropout_1 (<span style=\"color: #0087ff; text-decoration-color: #0087ff\">Dropout</span>)             │ (<span style=\"color: #00d7ff; text-decoration-color: #00d7ff\">None</span>, <span style=\"color: #00af00; text-decoration-color: #00af00\">64</span>)             │             <span style=\"color: #00af00; text-decoration-color: #00af00\">0</span> │\n",
       "├─────────────────────────────────┼────────────────────────┼───────────────┤\n",
       "│ dense_4 (<span style=\"color: #0087ff; text-decoration-color: #0087ff\">Dense</span>)                 │ (<span style=\"color: #00d7ff; text-decoration-color: #00d7ff\">None</span>, <span style=\"color: #00af00; text-decoration-color: #00af00\">1</span>)              │            <span style=\"color: #00af00; text-decoration-color: #00af00\">65</span> │\n",
       "└─────────────────────────────────┴────────────────────────┴───────────────┘\n",
       "</pre>\n"
      ],
      "text/plain": [
       "┏━━━━━━━━━━━━━━━━━━━━━━━━━━━━━━━━━┳━━━━━━━━━━━━━━━━━━━━━━━━┳━━━━━━━━━━━━━━━┓\n",
       "┃\u001b[1m \u001b[0m\u001b[1mLayer (type)                   \u001b[0m\u001b[1m \u001b[0m┃\u001b[1m \u001b[0m\u001b[1mOutput Shape          \u001b[0m\u001b[1m \u001b[0m┃\u001b[1m \u001b[0m\u001b[1m      Param #\u001b[0m\u001b[1m \u001b[0m┃\n",
       "┡━━━━━━━━━━━━━━━━━━━━━━━━━━━━━━━━━╇━━━━━━━━━━━━━━━━━━━━━━━━╇━━━━━━━━━━━━━━━┩\n",
       "│ embedding_2 (\u001b[38;5;33mEmbedding\u001b[0m)         │ (\u001b[38;5;45mNone\u001b[0m, \u001b[38;5;34m588\u001b[0m, \u001b[38;5;34m500\u001b[0m)       │    \u001b[38;5;34m17,878,000\u001b[0m │\n",
       "├─────────────────────────────────┼────────────────────────┼───────────────┤\n",
       "│ lstm_2 (\u001b[38;5;33mLSTM\u001b[0m)                   │ (\u001b[38;5;45mNone\u001b[0m, \u001b[38;5;34m128\u001b[0m)            │       \u001b[38;5;34m322,048\u001b[0m │\n",
       "├─────────────────────────────────┼────────────────────────┼───────────────┤\n",
       "│ dense_3 (\u001b[38;5;33mDense\u001b[0m)                 │ (\u001b[38;5;45mNone\u001b[0m, \u001b[38;5;34m64\u001b[0m)             │         \u001b[38;5;34m8,256\u001b[0m │\n",
       "├─────────────────────────────────┼────────────────────────┼───────────────┤\n",
       "│ dropout_1 (\u001b[38;5;33mDropout\u001b[0m)             │ (\u001b[38;5;45mNone\u001b[0m, \u001b[38;5;34m64\u001b[0m)             │             \u001b[38;5;34m0\u001b[0m │\n",
       "├─────────────────────────────────┼────────────────────────┼───────────────┤\n",
       "│ dense_4 (\u001b[38;5;33mDense\u001b[0m)                 │ (\u001b[38;5;45mNone\u001b[0m, \u001b[38;5;34m1\u001b[0m)              │            \u001b[38;5;34m65\u001b[0m │\n",
       "└─────────────────────────────────┴────────────────────────┴───────────────┘\n"
      ]
     },
     "metadata": {},
     "output_type": "display_data"
    },
    {
     "data": {
      "text/html": [
       "<pre style=\"white-space:pre;overflow-x:auto;line-height:normal;font-family:Menlo,'DejaVu Sans Mono',consolas,'Courier New',monospace\"><span style=\"font-weight: bold\"> Total params: </span><span style=\"color: #00af00; text-decoration-color: #00af00\">18,208,369</span> (69.46 MB)\n",
       "</pre>\n"
      ],
      "text/plain": [
       "\u001b[1m Total params: \u001b[0m\u001b[38;5;34m18,208,369\u001b[0m (69.46 MB)\n"
      ]
     },
     "metadata": {},
     "output_type": "display_data"
    },
    {
     "data": {
      "text/html": [
       "<pre style=\"white-space:pre;overflow-x:auto;line-height:normal;font-family:Menlo,'DejaVu Sans Mono',consolas,'Courier New',monospace\"><span style=\"font-weight: bold\"> Trainable params: </span><span style=\"color: #00af00; text-decoration-color: #00af00\">18,208,369</span> (69.46 MB)\n",
       "</pre>\n"
      ],
      "text/plain": [
       "\u001b[1m Trainable params: \u001b[0m\u001b[38;5;34m18,208,369\u001b[0m (69.46 MB)\n"
      ]
     },
     "metadata": {},
     "output_type": "display_data"
    },
    {
     "data": {
      "text/html": [
       "<pre style=\"white-space:pre;overflow-x:auto;line-height:normal;font-family:Menlo,'DejaVu Sans Mono',consolas,'Courier New',monospace\"><span style=\"font-weight: bold\"> Non-trainable params: </span><span style=\"color: #00af00; text-decoration-color: #00af00\">0</span> (0.00 B)\n",
       "</pre>\n"
      ],
      "text/plain": [
       "\u001b[1m Non-trainable params: \u001b[0m\u001b[38;5;34m0\u001b[0m (0.00 B)\n"
      ]
     },
     "metadata": {},
     "output_type": "display_data"
    }
   ],
   "source": [
    "model = Sequential()\n",
    "model.add(Input(shape=(MAX_LEN,)))\n",
    "model.add(Embedding(input_dim=VOCAB_SIZE,\n",
    "                    output_dim=EMBEDDING_DIM,\n",
    "                    weights=[embedding_matrix],\n",
    "                    trainable=True))\n",
    "# params => 35756*500 = 17878000\n",
    "model.add(LSTM(128, dropout=0.3, recurrent_dropout=0.3))\n",
    "# params => ((500+128)*128+128)*4 = 322048\n",
    "model.add(Dense(64, activation='relu'))\n",
    "model.add(Dropout(0.3))\n",
    "model.add(Dense(1, activation='sigmoid'))\n",
    "# params => 128*1 + 1 = 129\n",
    "model.summary()"
   ]
  },
  {
   "cell_type": "code",
   "execution_count": 20,
   "metadata": {
    "execution": {
     "iopub.execute_input": "2025-09-26T11:28:30.995460Z",
     "iopub.status.busy": "2025-09-26T11:28:30.994913Z",
     "iopub.status.idle": "2025-09-26T12:33:53.028148Z",
     "shell.execute_reply": "2025-09-26T12:33:53.027355Z",
     "shell.execute_reply.started": "2025-09-26T11:28:30.995418Z"
    }
   },
   "outputs": [
    {
     "name": "stdout",
     "output_type": "stream",
     "text": [
      "Epoch 1/20\n",
      "\u001b[1m206/206\u001b[0m \u001b[32m━━━━━━━━━━━━━━━━━━━━\u001b[0m\u001b[37m\u001b[0m \u001b[1m337s\u001b[0m 2s/step - accuracy: 0.5125 - loss: 0.6811 - val_accuracy: 0.5325 - val_loss: 0.6606\n",
      "Epoch 2/20\n",
      "\u001b[1m206/206\u001b[0m \u001b[32m━━━━━━━━━━━━━━━━━━━━\u001b[0m\u001b[37m\u001b[0m \u001b[1m328s\u001b[0m 2s/step - accuracy: 0.5431 - loss: 0.6451 - val_accuracy: 0.5420 - val_loss: 0.6519\n",
      "Epoch 3/20\n",
      "\u001b[1m206/206\u001b[0m \u001b[32m━━━━━━━━━━━━━━━━━━━━\u001b[0m\u001b[37m\u001b[0m \u001b[1m329s\u001b[0m 2s/step - accuracy: 0.5501 - loss: 0.6327 - val_accuracy: 0.5471 - val_loss: 0.6447\n",
      "Epoch 4/20\n",
      "\u001b[1m206/206\u001b[0m \u001b[32m━━━━━━━━━━━━━━━━━━━━\u001b[0m\u001b[37m\u001b[0m \u001b[1m329s\u001b[0m 2s/step - accuracy: 0.5618 - loss: 0.6224 - val_accuracy: 0.5459 - val_loss: 0.5923\n",
      "Epoch 5/20\n",
      "\u001b[1m206/206\u001b[0m \u001b[32m━━━━━━━━━━━━━━━━━━━━\u001b[0m\u001b[37m\u001b[0m \u001b[1m325s\u001b[0m 2s/step - accuracy: 0.7803 - loss: 0.4607 - val_accuracy: 0.9036 - val_loss: 0.2691\n",
      "Epoch 6/20\n",
      "\u001b[1m206/206\u001b[0m \u001b[32m━━━━━━━━━━━━━━━━━━━━\u001b[0m\u001b[37m\u001b[0m \u001b[1m323s\u001b[0m 2s/step - accuracy: 0.9112 - loss: 0.2344 - val_accuracy: 0.9188 - val_loss: 0.2392\n",
      "Epoch 7/20\n",
      "\u001b[1m206/206\u001b[0m \u001b[32m━━━━━━━━━━━━━━━━━━━━\u001b[0m\u001b[37m\u001b[0m \u001b[1m324s\u001b[0m 2s/step - accuracy: 0.9531 - loss: 0.1419 - val_accuracy: 0.9334 - val_loss: 0.2053\n",
      "Epoch 8/20\n",
      "\u001b[1m206/206\u001b[0m \u001b[32m━━━━━━━━━━━━━━━━━━━━\u001b[0m\u001b[37m\u001b[0m \u001b[1m325s\u001b[0m 2s/step - accuracy: 0.9833 - loss: 0.0645 - val_accuracy: 0.9179 - val_loss: 0.2322\n",
      "Epoch 9/20\n",
      "\u001b[1m206/206\u001b[0m \u001b[32m━━━━━━━━━━━━━━━━━━━━\u001b[0m\u001b[37m\u001b[0m \u001b[1m327s\u001b[0m 2s/step - accuracy: 0.9870 - loss: 0.0459 - val_accuracy: 0.9240 - val_loss: 0.2618\n",
      "Epoch 10/20\n",
      "\u001b[1m206/206\u001b[0m \u001b[32m━━━━━━━━━━━━━━━━━━━━\u001b[0m\u001b[37m\u001b[0m \u001b[1m324s\u001b[0m 2s/step - accuracy: 0.9950 - loss: 0.0217 - val_accuracy: 0.9325 - val_loss: 0.3300\n",
      "Epoch 11/20\n",
      "\u001b[1m206/206\u001b[0m \u001b[32m━━━━━━━━━━━━━━━━━━━━\u001b[0m\u001b[37m\u001b[0m \u001b[1m325s\u001b[0m 2s/step - accuracy: 0.9960 - loss: 0.0163 - val_accuracy: 0.9279 - val_loss: 0.3290\n",
      "Epoch 12/20\n",
      "\u001b[1m206/206\u001b[0m \u001b[32m━━━━━━━━━━━━━━━━━━━━\u001b[0m\u001b[37m\u001b[0m \u001b[1m326s\u001b[0m 2s/step - accuracy: 0.9968 - loss: 0.0124 - val_accuracy: 0.9258 - val_loss: 0.4546\n",
      "Epoch 12: early stopping\n",
      "Restoring model weights from the end of the best epoch: 7.\n"
     ]
    },
    {
     "data": {
      "text/plain": [
       "<keras.src.callbacks.history.History at 0x7e4a3edf1490>"
      ]
     },
     "execution_count": 20,
     "metadata": {},
     "output_type": "execute_result"
    }
   ],
   "source": [
    "model.compile(optimizer='adam', loss='binary_crossentropy', metrics=['accuracy'])\n",
    "estop = EarlyStopping(monitor='val_loss', mode='min', \n",
    "                      min_delta=1e-5, patience=PATIENCE,\n",
    "                      restore_best_weights=True, verbose=1)\n",
    "model.fit(X_train_pad, y_train,\n",
    "          validation_data=(X_val_pad, y_val),\n",
    "          epochs=EPOCHS, batch_size=BATCH_SIZE,\n",
    "          callbacks=[estop], verbose=1)"
   ]
  },
  {
   "cell_type": "code",
   "execution_count": 23,
   "metadata": {
    "execution": {
     "iopub.execute_input": "2025-09-26T12:53:33.738049Z",
     "iopub.status.busy": "2025-09-26T12:53:33.737305Z",
     "iopub.status.idle": "2025-09-26T12:54:14.450754Z",
     "shell.execute_reply": "2025-09-26T12:54:14.450090Z",
     "shell.execute_reply.started": "2025-09-26T12:53:33.738026Z"
    }
   },
   "outputs": [
    {
     "name": "stdout",
     "output_type": "stream",
     "text": [
      "LSTM Test accuracy: 0.9350364804267883\n",
      "lSTM Test loss: 0.2032657414674759\n"
     ]
    }
   ],
   "source": [
    "lstm_loss, lstm_accuracy = model.evaluate(X_test_pad, y_test, verbose=0)\n",
    "print(\"LSTM Test accuracy:\", lstm_accuracy)\n",
    "print(\"lSTM Test loss:\", lstm_loss)"
   ]
  },
  {
   "cell_type": "code",
   "execution_count": 24,
   "metadata": {
    "execution": {
     "iopub.execute_input": "2025-09-26T12:54:14.452421Z",
     "iopub.status.busy": "2025-09-26T12:54:14.451889Z",
     "iopub.status.idle": "2025-09-26T12:54:16.404759Z",
     "shell.execute_reply": "2025-09-26T12:54:16.403854Z",
     "shell.execute_reply.started": "2025-09-26T12:54:14.452401Z"
    }
   },
   "outputs": [],
   "source": [
    "model.save(BASE_OUT+'simple_lstm_trainable.keras')"
   ]
  },
  {
   "cell_type": "code",
   "execution_count": null,
   "metadata": {},
   "outputs": [],
   "source": []
  }
 ],
 "metadata": {
  "kaggle": {
   "accelerator": "gpu",
   "dataSources": [
    {
     "datasetId": 8315849,
     "sourceId": 13127082,
     "sourceType": "datasetVersion"
    }
   ],
   "dockerImageVersionId": 31090,
   "isGpuEnabled": true,
   "isInternetEnabled": true,
   "language": "python",
   "sourceType": "notebook"
  },
  "kernelspec": {
   "display_name": "Python 3 (ipykernel)",
   "language": "python",
   "name": "python3"
  },
  "language_info": {
   "codemirror_mode": {
    "name": "ipython",
    "version": 3
   },
   "file_extension": ".py",
   "mimetype": "text/x-python",
   "name": "python",
   "nbconvert_exporter": "python",
   "pygments_lexer": "ipython3",
   "version": "3.12.6"
  }
 },
 "nbformat": 4,
 "nbformat_minor": 4
}
