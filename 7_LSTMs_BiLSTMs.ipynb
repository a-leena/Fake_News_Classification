{
 "cells": [
  {
   "cell_type": "code",
   "execution_count": 1,
   "id": "e807dcab-8988-43ba-95de-b47926314e92",
   "metadata": {},
   "outputs": [],
   "source": [
    "import pandas as pd\n",
    "import pickle\n",
    "import keras\n",
    "from keras.models import Sequential\n",
    "from keras.layers import Input, Embedding, LSTM, Bidirectional, Dense, Dropout\n",
    "from keras.optimizers import Adam\n",
    "from keras.callbacks import EarlyStopping\n",
    "from sklearn.metrics import classification_report, confusion_matrix, ConfusionMatrixDisplay"
   ]
  },
  {
   "cell_type": "markdown",
   "id": "017511a8-38fa-4e6b-b94d-aa6ebf2fec37",
   "metadata": {},
   "source": [
    "# Load Embeddings & Inputs"
   ]
  },
  {
   "cell_type": "code",
   "execution_count": null,
   "id": "36de8b62-4aff-4d22-a122-dfc8f058b23b",
   "metadata": {},
   "outputs": [],
   "source": [
    "with open(base_path+'artifacts/embeddings_input_best_params.pkl', 'rb') as f:\n",
    "    loaded_input_items = pickle.load(f)"
   ]
  },
  {
   "cell_type": "code",
   "execution_count": null,
   "id": "eb8683d5-5fe2-4804-ac40-65fe48ecf8d3",
   "metadata": {},
   "outputs": [],
   "source": [
    "embedding_matrix = loaded_input_items['embedding_matrix']\n",
    "X_train_pad = loaded_input_items['X_train_pad']\n",
    "X_val_pad = loaded_input_items['X_val_pad']\n",
    "X_test_pad = loaded_input_items['X_test_pad']\n",
    "y_train = loaded_input_items['y_train']\n",
    "y_val = loaded_input_items['y_val']\n",
    "y_test = loaded_input_items['y_test']"
   ]
  },
  {
   "cell_type": "code",
   "execution_count": null,
   "id": "0e1f33fa-5efe-4307-8ed3-a06db25a4ac0",
   "metadata": {},
   "outputs": [],
   "source": [
    "VOCAB_SIZE = embedding_matrix.shape[0]\n",
    "EMBEDDING_DIM = embedding_matrix.shape[1]\n",
    "MAX_LEN = len(X_train_pad)\n",
    "print(f\"Embedding dimension: {EMBEDDING_DIM}\\nVocab size: {VOCAB_SIZE}\\nMaximum input length: {MAX_LEN}\")"
   ]
  },
  {
   "cell_type": "markdown",
   "id": "639574fe-8afd-4105-ad4b-7ef32c4b7e47",
   "metadata": {},
   "source": [
    "# LSTM"
   ]
  },
  {
   "cell_type": "code",
   "execution_count": null,
   "id": "60fb83c5-8dfa-4480-8b41-e29326ef8bff",
   "metadata": {},
   "outputs": [],
   "source": []
  }
 ],
 "metadata": {
  "kernelspec": {
   "display_name": "Python 3 (ipykernel)",
   "language": "python",
   "name": "python3"
  },
  "language_info": {
   "codemirror_mode": {
    "name": "ipython",
    "version": 3
   },
   "file_extension": ".py",
   "mimetype": "text/x-python",
   "name": "python",
   "nbconvert_exporter": "python",
   "pygments_lexer": "ipython3",
   "version": "3.12.6"
  }
 },
 "nbformat": 4,
 "nbformat_minor": 5
}
