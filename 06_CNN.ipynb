{
 "cells": [
  {
   "cell_type": "code",
   "execution_count": 1,
   "id": "a961245d-b652-47a7-b1e5-53e76f21a382",
   "metadata": {
    "id": "a961245d-b652-47a7-b1e5-53e76f21a382"
   },
   "outputs": [],
   "source": [
    "import numpy as np\n",
    "import pandas as pd\n",
    "import matplotlib.pyplot as plt\n",
    "import ast\n",
    "import pickle\n",
    "from sklearn.model_selection import train_test_split\n",
    "from gensim.models import Word2Vec\n",
    "from tensorflow.keras.preprocessing.text import Tokenizer\n",
    "from tensorflow.keras.preprocessing.sequence import pad_sequences\n",
    "import keras\n",
    "from keras.models import Sequential\n",
    "from keras.layers import Input, Embedding, Conv1D, MaxPool1D, GlobalMaxPooling1D, Dense, Dropout\n",
    "from keras.callbacks import EarlyStopping\n",
    "from keras.optimizers import Adam\n",
    "import keras_tuner as kt\n",
    "from sklearn.metrics import accuracy_score, classification_report, confusion_matrix, ConfusionMatrixDisplay"
   ]
  },
  {
   "cell_type": "code",
   "execution_count": 2,
   "id": "JQ-_SHfGdQQ3",
   "metadata": {
    "colab": {
     "base_uri": "https://localhost:8080/"
    },
    "id": "JQ-_SHfGdQQ3",
    "outputId": "b0c38a37-4d99-4d7b-8ad6-7d32581e60d5"
   },
   "outputs": [],
   "source": [
    "# from google.colab import drive\n",
    "# drive.mount('/content/drive')"
   ]
  },
  {
   "cell_type": "code",
   "execution_count": 3,
   "id": "75097071-2fa1-4d8d-ac36-6ae41dc2751d",
   "metadata": {
    "id": "75097071-2fa1-4d8d-ac36-6ae41dc2751d"
   },
   "outputs": [],
   "source": [
    "EPOCHS=500\n",
    "BATCH_SIZE=128\n",
    "PATIENCE=5"
   ]
  },
  {
   "cell_type": "code",
   "execution_count": 4,
   "id": "Js8S_DIeekK7",
   "metadata": {
    "id": "Js8S_DIeekK7"
   },
   "outputs": [],
   "source": [
    "# base_path = '/content/drive/MyDrive/fake_news/'\n",
    "base_path = ''"
   ]
  },
  {
   "cell_type": "markdown",
   "id": "909b3501-47a9-4a62-a8f8-f1f62350335c",
   "metadata": {
    "id": "909b3501-47a9-4a62-a8f8-f1f62350335c"
   },
   "source": [
    "# Load Embeddings & Inputs"
   ]
  },
  {
   "cell_type": "code",
   "execution_count": 5,
   "id": "4a74def8-6dc2-47ee-a578-a7ac0b77cdbb",
   "metadata": {
    "id": "4a74def8-6dc2-47ee-a578-a7ac0b77cdbb"
   },
   "outputs": [],
   "source": [
    "with open(base_path+'artifacts/embeddings_inputs.pkl', 'rb') as f:\n",
    "    loaded_input_items = pickle.load(f)"
   ]
  },
  {
   "cell_type": "code",
   "execution_count": 6,
   "id": "37e73226-1a13-4c85-9943-38ba673d911e",
   "metadata": {},
   "outputs": [],
   "source": [
    "embedding_matrix = loaded_input_items['embedding_matrix']\n",
    "X_train_pad = loaded_input_items['X_train_pad']\n",
    "X_val_pad = loaded_input_items['X_val_pad']\n",
    "X_test_pad = loaded_input_items['X_test_pad']\n",
    "y_train = loaded_input_items['y_train']\n",
    "y_val = loaded_input_items['y_val']\n",
    "y_test = loaded_input_items['y_test']"
   ]
  },
  {
   "cell_type": "code",
   "execution_count": 7,
   "id": "dbccad53-6c3c-4f11-9ec6-ebc7e4d7d74d",
   "metadata": {
    "id": "dbccad53-6c3c-4f11-9ec6-ebc7e4d7d74d"
   },
   "outputs": [],
   "source": [
    "VOCAB_SIZE = embedding_matrix.shape[0]\n",
    "EMBEDDING_DIM = embedding_matrix.shape[1]\n",
    "MAX_LEN = len(X_train_pad[0])"
   ]
  },
  {
   "cell_type": "code",
   "execution_count": 8,
   "id": "65d4ddfc-ab68-40c0-b455-9df92032dec7",
   "metadata": {
    "colab": {
     "base_uri": "https://localhost:8080/"
    },
    "id": "65d4ddfc-ab68-40c0-b455-9df92032dec7",
    "outputId": "a8d27d52-4884-4add-f511-abdb2603a0f7"
   },
   "outputs": [
    {
     "name": "stdout",
     "output_type": "stream",
     "text": [
      "Embedding dimension: 500\n",
      "Vocab size: 35756\n",
      "Maximum input length: 588\n"
     ]
    }
   ],
   "source": [
    "print(f\"Embedding dimension: {EMBEDDING_DIM}\\nVocab size: {VOCAB_SIZE}\\nMaximum input length: {MAX_LEN}\")"
   ]
  },
  {
   "cell_type": "markdown",
   "id": "f6b0ec52-9dfa-47c4-8089-871104d64859",
   "metadata": {
    "id": "f6b0ec52-9dfa-47c4-8089-871104d64859"
   },
   "source": [
    "# Tuning CNN - 1 Convolution layer"
   ]
  },
  {
   "cell_type": "code",
   "execution_count": 10,
   "id": "f1dc42eb-0ca2-40f8-94f3-93ade101a9cb",
   "metadata": {},
   "outputs": [],
   "source": [
    "def build_model1(hp):\n",
    "    model = Sequential()\n",
    "    model.add(Input(shape=(MAX_LEN,)))\n",
    "    model.add(Embedding(input_dim=VOCAB_SIZE, output_dim=EMBEDDING_DIM,\n",
    "                            weights=[embedding_matrix],\n",
    "                            trainable=hp.Choice('embeddings_trainable', values=[True, False])))\n",
    "    \n",
    "    model.add(Conv1D(filters=hp.Choice(f'conv1_filters', values=[64, 128, 256, 512]),\n",
    "                         kernel_size=hp.Int(f'conv1_kernel_size', min_value=2, max_value=5, step=1),\n",
    "                         strides=1, padding='valid', activation='relu'))\n",
    "\n",
    "    model.add(GlobalMaxPooling1D())\n",
    "\n",
    "    model.add(Dense(units=hp.Choice(f'dense_units', values=[16, 32, 64, 128]),\n",
    "                        activation='relu'))\n",
    "    model.add(Dropout(hp.Float(f'dense_dropout', min_value=0.2, max_value=0.5, step=0.1)))\n",
    "\n",
    "    model.add(Dense(1, activation='sigmoid'))\n",
    "\n",
    "    model.compile(optimizer=Adam(learning_rate=hp.Choice('learning_rate', values=[0.001, 0.005, 0.01, 0.05, 0.1])),\n",
    "                      loss='binary_crossentropy',\n",
    "                      metrics=['accuracy'])\n",
    "    return model"
   ]
  },
  {
   "cell_type": "code",
   "execution_count": 13,
   "id": "90cbdd57-52f2-4b1a-94bf-2f9e8c38cc75",
   "metadata": {
    "id": "90cbdd57-52f2-4b1a-94bf-2f9e8c38cc75"
   },
   "outputs": [
    {
     "name": "stdout",
     "output_type": "stream",
     "text": [
      "Reloading Tuner from tuner_results\\cnn1_randomSearch\\tuner0.json\n"
     ]
    }
   ],
   "source": [
    "# tuner = kt.Hyperband(\n",
    "#     build_model,\n",
    "#     objective='val_accuracy',\n",
    "#     max_epochs=EPOCHS,\n",
    "#     factor=3,\n",
    "#     directory='tuner_results',\n",
    "#     project_name='cnn_hyperband')\n",
    "tuner = kt.RandomSearch(\n",
    "    build_model1,\n",
    "    objective='val_accuracy',\n",
    "    max_trials=33,\n",
    "    executions_per_trial=1,\n",
    "    directory=base_path+'tuner_results',\n",
    "    project_name='cnn1_randomSearch')"
   ]
  },
  {
   "cell_type": "code",
   "execution_count": 14,
   "id": "202020af-c9cb-4cbd-bae8-b6d053fb073d",
   "metadata": {
    "colab": {
     "base_uri": "https://localhost:8080/"
    },
    "id": "202020af-c9cb-4cbd-bae8-b6d053fb073d",
    "outputId": "aec54988-8b91-4d04-b4ac-5d0c9ad07ce5"
   },
   "outputs": [
    {
     "name": "stdout",
     "output_type": "stream",
     "text": [
      "Trial 33 Complete [00h 02m 18s]\n",
      "val_accuracy: 0.5054744482040405\n",
      "\n",
      "Best val_accuracy So Far: 0.9656326174736023\n",
      "Total elapsed time: 16h 06m 48s\n"
     ]
    }
   ],
   "source": [
    "estop = EarlyStopping(monitor='val_loss', mode='min',\n",
    "                      min_delta=1e-5, patience=PATIENCE,\n",
    "                      restore_best_weights=True, verbose=1)\n",
    "tuner.search(X_train_pad, y_train,\n",
    "             validation_data=(X_val_pad, y_val),\n",
    "             epochs=EPOCHS, batch_size=BATCH_SIZE,\n",
    "             callbacks=[estop], verbose=1)"
   ]
  },
  {
   "cell_type": "code",
   "execution_count": 15,
   "id": "9240b82d-a7c1-48c8-bd08-be8acf0bbe17",
   "metadata": {
    "colab": {
     "base_uri": "https://localhost:8080/"
    },
    "id": "9240b82d-a7c1-48c8-bd08-be8acf0bbe17",
    "outputId": "cdace408-b9df-40d3-82ec-715e1972f26a"
   },
   "outputs": [
    {
     "name": "stdout",
     "output_type": "stream",
     "text": [
      "{'embeddings_trainable': 1, 'conv1_filters': 512, 'conv1_kernel_size': 4, 'dense_units': 16, 'dense_dropout': 0.30000000000000004, 'learning_rate': 0.001}\n"
     ]
    },
    {
     "name": "stderr",
     "output_type": "stream",
     "text": [
      "C:\\Users\\aleen\\AppData\\Local\\Programs\\Python\\Python312\\Lib\\site-packages\\keras\\src\\saving\\saving_lib.py:797: UserWarning: Skipping variable loading for optimizer 'adam', because it has 2 variables whereas the saved optimizer has 16 variables. \n",
      "  saveable.load_own_variables(weights_store.get(inner_path))\n"
     ]
    }
   ],
   "source": [
    "best_model1 = tuner.get_best_models(num_models=1)[0]\n",
    "best_hp1 = tuner.get_best_hyperparameters(num_trials=1)[0]\n",
    "print(best_hp1.values)"
   ]
  },
  {
   "cell_type": "code",
   "execution_count": 16,
   "id": "44c272f1-ed87-4ad7-9b16-44a2a742168f",
   "metadata": {
    "colab": {
     "base_uri": "https://localhost:8080/"
    },
    "id": "44c272f1-ed87-4ad7-9b16-44a2a742168f",
    "outputId": "d6a2841e-b6dd-4b77-ef54-a125bf9a7594"
   },
   "outputs": [
    {
     "name": "stdout",
     "output_type": "stream",
     "text": [
      "Best CNN Accuracy: 0.9627737402915955\n",
      "Best CNN Loss: 0.12475183606147766\n"
     ]
    }
   ],
   "source": [
    "best_loss1, best_accuracy1 = best_model1.evaluate(X_test_pad, y_test, verbose=0)\n",
    "print(\"Best CNN Accuracy:\", best_accuracy1)\n",
    "print(\"Best CNN Loss:\", best_loss1)"
   ]
  },
  {
   "cell_type": "markdown",
   "id": "46169045-13b8-4763-8767-f883332d3fc8",
   "metadata": {
    "id": "f6b0ec52-9dfa-47c4-8089-871104d64859"
   },
   "source": [
    "# Tuning CNN - 2 Convolution layers"
   ]
  },
  {
   "cell_type": "code",
   "execution_count": 17,
   "id": "1d829a56-a1bd-4d55-a8d4-48f7b5c81f41",
   "metadata": {},
   "outputs": [],
   "source": [
    "def build_model2(hp):\n",
    "    model = Sequential()\n",
    "    model.add(Input(shape=(MAX_LEN,)))\n",
    "    model.add(Embedding(input_dim=VOCAB_SIZE, output_dim=EMBEDDING_DIM,\n",
    "                            weights=[embedding_matrix],\n",
    "                            trainable=hp.Choice('embeddings_trainable', values=[True, False])))\n",
    "    \n",
    "    model.add(Conv1D(filters=hp.Choice(f'conv1_filters', values=[64, 128, 256, 512]),\n",
    "                         kernel_size=hp.Int(f'conv1_kernel_size', min_value=2, max_value=5, step=1),\n",
    "                         strides=1, padding='valid', activation='relu'))\n",
    "    model.add(MaxPool1D(pool_size=2))\n",
    "\n",
    "    model.add(Conv1D(filters=hp.Choice(f'conv2_filters', values=[64, 128, 256, 512]),\n",
    "                         kernel_size=hp.Int(f'conv2_kernel_size', min_value=2, max_value=5, step=1),\n",
    "                         strides=1, padding='valid', activation='relu'))\n",
    "\n",
    "    model.add(GlobalMaxPooling1D())\n",
    "\n",
    "    model.add(Dense(units=hp.Choice(f'dense_units', values=[16, 32, 64, 128]),\n",
    "                        activation='relu'))\n",
    "    model.add(Dropout(hp.Float(f'dense_dropout', min_value=0.2, max_value=0.5, step=0.1)))\n",
    "\n",
    "    model.add(Dense(1, activation='sigmoid'))\n",
    "\n",
    "    model.compile(optimizer=Adam(learning_rate=hp.Choice('learning_rate', values=[0.001, 0.005, 0.01, 0.05, 0.1])),\n",
    "                      loss='binary_crossentropy',\n",
    "                      metrics=['accuracy'])\n",
    "    return model"
   ]
  },
  {
   "cell_type": "code",
   "execution_count": 18,
   "id": "6612bb68-06b6-4656-8bce-074103b1ace3",
   "metadata": {
    "id": "90cbdd57-52f2-4b1a-94bf-2f9e8c38cc75"
   },
   "outputs": [],
   "source": [
    "tuner = kt.RandomSearch(\n",
    "    build_model2,\n",
    "    objective='val_accuracy',\n",
    "    max_trials=33,\n",
    "    executions_per_trial=1,\n",
    "    directory=base_path+'tuner_results',\n",
    "    project_name='cnn2_randomSearch')"
   ]
  },
  {
   "cell_type": "code",
   "execution_count": 19,
   "id": "4dcf81cd-7450-4b79-ac26-37b51bbbbedd",
   "metadata": {
    "colab": {
     "base_uri": "https://localhost:8080/"
    },
    "id": "202020af-c9cb-4cbd-bae8-b6d053fb073d",
    "outputId": "aec54988-8b91-4d04-b4ac-5d0c9ad07ce5"
   },
   "outputs": [
    {
     "name": "stdout",
     "output_type": "stream",
     "text": [
      "Trial 33 Complete [00h 00m 54s]\n",
      "val_accuracy: 0.5054744482040405\n",
      "\n",
      "Best val_accuracy So Far: 0.9619829654693604\n",
      "Total elapsed time: 03h 42m 02s\n"
     ]
    }
   ],
   "source": [
    "estop = EarlyStopping(monitor='val_loss', mode='min',\n",
    "                      min_delta=1e-5, patience=PATIENCE,\n",
    "                      restore_best_weights=True, verbose=1)\n",
    "tuner.search(X_train_pad, y_train,\n",
    "             validation_data=(X_val_pad, y_val),\n",
    "             epochs=EPOCHS, batch_size=BATCH_SIZE,\n",
    "             callbacks=[estop], verbose=1)"
   ]
  },
  {
   "cell_type": "code",
   "execution_count": 20,
   "id": "1487d21e-e4ee-4e3b-9365-2aa2e2ffc533",
   "metadata": {
    "colab": {
     "base_uri": "https://localhost:8080/"
    },
    "id": "9240b82d-a7c1-48c8-bd08-be8acf0bbe17",
    "outputId": "cdace408-b9df-40d3-82ec-715e1972f26a"
   },
   "outputs": [
    {
     "name": "stdout",
     "output_type": "stream",
     "text": [
      "{'embeddings_trainable': 0, 'conv1_filters': 256, 'conv1_kernel_size': 5, 'conv2_filters': 512, 'conv2_kernel_size': 5, 'dense_units': 128, 'dense_dropout': 0.4, 'learning_rate': 0.001}\n"
     ]
    },
    {
     "name": "stderr",
     "output_type": "stream",
     "text": [
      "C:\\Users\\aleen\\AppData\\Local\\Programs\\Python\\Python312\\Lib\\site-packages\\keras\\src\\saving\\saving_lib.py:797: UserWarning: Skipping variable loading for optimizer 'adam', because it has 2 variables whereas the saved optimizer has 18 variables. \n",
      "  saveable.load_own_variables(weights_store.get(inner_path))\n"
     ]
    }
   ],
   "source": [
    "best_model2 = tuner.get_best_models(num_models=1)[0]\n",
    "best_hp2 = tuner.get_best_hyperparameters(num_trials=1)[0]\n",
    "print(best_hp2.values)"
   ]
  },
  {
   "cell_type": "code",
   "execution_count": 21,
   "id": "4cb97950-d1ad-4340-b170-4895278f7c85",
   "metadata": {
    "colab": {
     "base_uri": "https://localhost:8080/"
    },
    "id": "44c272f1-ed87-4ad7-9b16-44a2a742168f",
    "outputId": "d6a2841e-b6dd-4b77-ef54-a125bf9a7594"
   },
   "outputs": [
    {
     "name": "stdout",
     "output_type": "stream",
     "text": [
      "Best CNN Accuracy: 0.9583941698074341\n",
      "Best CNN Loss: 0.20375950634479523\n"
     ]
    }
   ],
   "source": [
    "best_loss2, best_accuracy2 = best_model2.evaluate(X_test_pad, y_test, verbose=0)\n",
    "print(\"Best CNN Accuracy:\", best_accuracy2)\n",
    "print(\"Best CNN Loss:\", best_loss2)"
   ]
  },
  {
   "cell_type": "markdown",
   "id": "f2ad6869-f979-49ac-8151-d7ee5386a290",
   "metadata": {
    "id": "f6b0ec52-9dfa-47c4-8089-871104d64859"
   },
   "source": [
    "# Tuning CNN - 3 Convolution layers"
   ]
  },
  {
   "cell_type": "code",
   "execution_count": 22,
   "id": "b9e5049c-9eb8-4315-b4be-52e18a0543a2",
   "metadata": {},
   "outputs": [],
   "source": [
    "def build_model3(hp):\n",
    "    model = Sequential()\n",
    "    model.add(Input(shape=(MAX_LEN,)))\n",
    "    model.add(Embedding(input_dim=VOCAB_SIZE, output_dim=EMBEDDING_DIM,\n",
    "                            weights=[embedding_matrix],\n",
    "                            trainable=hp.Choice('embeddings_trainable', values=[True, False])))\n",
    "    \n",
    "    model.add(Conv1D(filters=hp.Choice(f'conv1_filters', values=[64, 128, 256, 512]),\n",
    "                         kernel_size=hp.Int(f'conv1_kernel_size', min_value=2, max_value=5, step=1),\n",
    "                         strides=1, padding='valid', activation='relu'))\n",
    "    model.add(MaxPool1D(pool_size=2))\n",
    "\n",
    "    model.add(Conv1D(filters=hp.Choice(f'conv2_filters', values=[64, 128, 256, 512]),\n",
    "                         kernel_size=hp.Int(f'conv2_kernel_size', min_value=2, max_value=5, step=1),\n",
    "                         strides=1, padding='valid', activation='relu'))\n",
    "    model.add(MaxPool1D(pool_size=2))\n",
    "\n",
    "    model.add(Conv1D(filters=hp.Choice(f'conv3_filters', values=[64, 128, 256, 512]),\n",
    "                         kernel_size=hp.Int(f'conv3_kernel_size', min_value=2, max_value=5, step=1),\n",
    "                         strides=1, padding='valid', activation='relu'))\n",
    "\n",
    "    model.add(GlobalMaxPooling1D())\n",
    "\n",
    "    model.add(Dense(units=hp.Choice(f'dense_units', values=[16, 32, 64, 128]),\n",
    "                        activation='relu'))\n",
    "    model.add(Dropout(hp.Float(f'dense_dropout', min_value=0.2, max_value=0.5, step=0.1)))\n",
    "\n",
    "    model.add(Dense(1, activation='sigmoid'))\n",
    "\n",
    "    model.compile(optimizer=Adam(learning_rate=hp.Choice('learning_rate', values=[0.001, 0.005, 0.01, 0.05, 0.1])),\n",
    "                      loss='binary_crossentropy',\n",
    "                      metrics=['accuracy'])\n",
    "    return model"
   ]
  },
  {
   "cell_type": "code",
   "execution_count": 23,
   "id": "5021a534-afd3-4334-af3a-70686912f137",
   "metadata": {
    "id": "90cbdd57-52f2-4b1a-94bf-2f9e8c38cc75"
   },
   "outputs": [],
   "source": [
    "tuner = kt.RandomSearch(\n",
    "    build_model3,\n",
    "    objective='val_accuracy',\n",
    "    max_trials=33,\n",
    "    executions_per_trial=1,\n",
    "    directory=base_path+'tuner_results',\n",
    "    project_name='cnn3_randomSearch')"
   ]
  },
  {
   "cell_type": "code",
   "execution_count": 24,
   "id": "93828985-a1ac-456f-823a-3054c1194608",
   "metadata": {
    "colab": {
     "base_uri": "https://localhost:8080/"
    },
    "id": "202020af-c9cb-4cbd-bae8-b6d053fb073d",
    "outputId": "aec54988-8b91-4d04-b4ac-5d0c9ad07ce5"
   },
   "outputs": [
    {
     "name": "stdout",
     "output_type": "stream",
     "text": [
      "Trial 33 Complete [00h 06m 27s]\n",
      "val_accuracy: 0.94525545835495\n",
      "\n",
      "Best val_accuracy So Far: 0.9586374759674072\n",
      "Total elapsed time: 03h 33m 30s\n"
     ]
    }
   ],
   "source": [
    "estop = EarlyStopping(monitor='val_loss', mode='min',\n",
    "                      min_delta=1e-5, patience=PATIENCE,\n",
    "                      restore_best_weights=True, verbose=1)\n",
    "tuner.search(X_train_pad, y_train,\n",
    "             validation_data=(X_val_pad, y_val),\n",
    "             epochs=EPOCHS, batch_size=BATCH_SIZE,\n",
    "             callbacks=[estop], verbose=1)"
   ]
  },
  {
   "cell_type": "code",
   "execution_count": 25,
   "id": "14e3ed26-0e4f-4375-9376-98b5d5b54cff",
   "metadata": {
    "colab": {
     "base_uri": "https://localhost:8080/"
    },
    "id": "9240b82d-a7c1-48c8-bd08-be8acf0bbe17",
    "outputId": "cdace408-b9df-40d3-82ec-715e1972f26a"
   },
   "outputs": [
    {
     "name": "stdout",
     "output_type": "stream",
     "text": [
      "{'embeddings_trainable': 0, 'conv1_filters': 128, 'conv1_kernel_size': 5, 'conv2_filters': 128, 'conv2_kernel_size': 3, 'conv3_filters': 512, 'conv3_kernel_size': 4, 'dense_units': 16, 'dense_dropout': 0.30000000000000004, 'learning_rate': 0.001}\n"
     ]
    },
    {
     "name": "stderr",
     "output_type": "stream",
     "text": [
      "C:\\Users\\aleen\\AppData\\Local\\Programs\\Python\\Python312\\Lib\\site-packages\\keras\\src\\saving\\saving_lib.py:797: UserWarning: Skipping variable loading for optimizer 'adam', because it has 2 variables whereas the saved optimizer has 22 variables. \n",
      "  saveable.load_own_variables(weights_store.get(inner_path))\n"
     ]
    }
   ],
   "source": [
    "best_model3 = tuner.get_best_models(num_models=1)[0]\n",
    "best_hp3 = tuner.get_best_hyperparameters(num_trials=1)[0]\n",
    "print(best_hp3.values)"
   ]
  },
  {
   "cell_type": "code",
   "execution_count": 26,
   "id": "11db49ce-764b-4e56-8af6-f77ef44bd68a",
   "metadata": {
    "colab": {
     "base_uri": "https://localhost:8080/"
    },
    "id": "44c272f1-ed87-4ad7-9b16-44a2a742168f",
    "outputId": "d6a2841e-b6dd-4b77-ef54-a125bf9a7594"
   },
   "outputs": [
    {
     "name": "stdout",
     "output_type": "stream",
     "text": [
      "Best CNN Accuracy: 0.9552311301231384\n",
      "Best CNN Loss: 0.12675246596336365\n"
     ]
    }
   ],
   "source": [
    "best_loss3, best_accuracy3 = best_model3.evaluate(X_test_pad, y_test, verbose=0)\n",
    "print(\"Best CNN Accuracy:\", best_accuracy3)\n",
    "print(\"Best CNN Loss:\", best_loss3)"
   ]
  },
  {
   "cell_type": "code",
   "execution_count": 30,
   "id": "ba751ed4-3c54-436c-a688-4fcd2406d511",
   "metadata": {},
   "outputs": [
    {
     "name": "stdout",
     "output_type": "stream",
     "text": [
      "Best number of convulation layers: 1\n"
     ]
    }
   ],
   "source": [
    "bests = {'models':[best_model1, best_model2, best_model3],\n",
    "        'accuracies':[best_accuracy1, best_accuracy2, best_accuracy3]}\n",
    "n = np.argmax(bests['accuracies'])\n",
    "print(f\"Best number of convulation layers: {n+1}\")\n",
    "best_model = bests['models'][n]"
   ]
  },
  {
   "cell_type": "code",
   "execution_count": 31,
   "id": "54b82af6-be0b-406b-974c-bbf4705985eb",
   "metadata": {
    "id": "54b82af6-be0b-406b-974c-bbf4705985eb"
   },
   "outputs": [],
   "source": [
    "best_model.save(base_path+'artifacts/tuned_cnn.keras')"
   ]
  },
  {
   "cell_type": "code",
   "execution_count": 35,
   "id": "tXJjqbNF-Ydj",
   "metadata": {
    "id": "tXJjqbNF-Ydj"
   },
   "outputs": [
    {
     "name": "stderr",
     "output_type": "stream",
     "text": [
      "C:\\Users\\aleen\\AppData\\Local\\Programs\\Python\\Python312\\Lib\\site-packages\\keras\\src\\saving\\saving_lib.py:797: UserWarning: Skipping variable loading for optimizer 'adam', because it has 16 variables whereas the saved optimizer has 2 variables. \n",
      "  saveable.load_own_variables(weights_store.get(inner_path))\n"
     ]
    },
    {
     "name": "stdout",
     "output_type": "stream",
     "text": [
      "0.9627737402915955\n"
     ]
    }
   ],
   "source": [
    "print(keras.models.load_model(base_path+'artifacts/tuned_cnn.keras').evaluate(X_test_pad, y_test, verbose=0)[1])"
   ]
  }
 ],
 "metadata": {
  "accelerator": "GPU",
  "colab": {
   "gpuType": "T4",
   "provenance": []
  },
  "kernelspec": {
   "display_name": "Python 3 (ipykernel)",
   "language": "python",
   "name": "python3"
  },
  "language_info": {
   "codemirror_mode": {
    "name": "ipython",
    "version": 3
   },
   "file_extension": ".py",
   "mimetype": "text/x-python",
   "name": "python",
   "nbconvert_exporter": "python",
   "pygments_lexer": "ipython3",
   "version": "3.12.6"
  }
 },
 "nbformat": 4,
 "nbformat_minor": 5
}
