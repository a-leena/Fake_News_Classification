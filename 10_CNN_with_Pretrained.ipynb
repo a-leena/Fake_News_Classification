{
 "cells": [
  {
   "cell_type": "code",
   "execution_count": 15,
   "id": "a961245d-b652-47a7-b1e5-53e76f21a382",
   "metadata": {
    "id": "a961245d-b652-47a7-b1e5-53e76f21a382"
   },
   "outputs": [],
   "source": [
    "import numpy as np\n",
    "import pandas as pd\n",
    "import matplotlib.pyplot as plt\n",
    "import ast\n",
    "import pickle\n",
    "from sklearn.model_selection import train_test_split\n",
    "from gensim.models import Word2Vec\n",
    "from tensorflow.keras.preprocessing.text import Tokenizer\n",
    "from tensorflow.keras.preprocessing.sequence import pad_sequences\n",
    "import keras\n",
    "from keras.models import Sequential\n",
    "from keras.layers import Input, Embedding, Conv1D, MaxPool1D, GlobalMaxPooling1D, Dense, Dropout\n",
    "from keras.callbacks import EarlyStopping, ReduceLROnPlateau\n",
    "from keras.optimizers import Adam\n",
    "import keras_tuner as kt\n",
    "from sklearn.metrics import accuracy_score, classification_report, confusion_matrix, ConfusionMatrixDisplay"
   ]
  },
  {
   "cell_type": "code",
   "execution_count": 2,
   "id": "JQ-_SHfGdQQ3",
   "metadata": {
    "colab": {
     "base_uri": "https://localhost:8080/"
    },
    "id": "JQ-_SHfGdQQ3",
    "outputId": "b0c38a37-4d99-4d7b-8ad6-7d32581e60d5"
   },
   "outputs": [],
   "source": [
    "# from google.colab import drive\n",
    "# drive.mount('/content/drive')"
   ]
  },
  {
   "cell_type": "code",
   "execution_count": 3,
   "id": "75097071-2fa1-4d8d-ac36-6ae41dc2751d",
   "metadata": {
    "id": "75097071-2fa1-4d8d-ac36-6ae41dc2751d"
   },
   "outputs": [],
   "source": [
    "EPOCHS=500\n",
    "BATCH_SIZE=128\n",
    "PATIENCE=5"
   ]
  },
  {
   "cell_type": "code",
   "execution_count": 4,
   "id": "Js8S_DIeekK7",
   "metadata": {
    "id": "Js8S_DIeekK7"
   },
   "outputs": [],
   "source": [
    "# base_path = '/content/drive/MyDrive/fake_news/'\n",
    "base_path = ''"
   ]
  },
  {
   "cell_type": "markdown",
   "id": "909b3501-47a9-4a62-a8f8-f1f62350335c",
   "metadata": {
    "id": "909b3501-47a9-4a62-a8f8-f1f62350335c"
   },
   "source": [
    "# Load Embeddings & Inputs"
   ]
  },
  {
   "cell_type": "code",
   "execution_count": 5,
   "id": "4a74def8-6dc2-47ee-a578-a7ac0b77cdbb",
   "metadata": {
    "id": "4a74def8-6dc2-47ee-a578-a7ac0b77cdbb"
   },
   "outputs": [],
   "source": [
    "with open(base_path+'artifacts/pretrained_embeddings_inputs.pkl', 'rb') as f:\n",
    "    loaded_input_items = pickle.load(f)"
   ]
  },
  {
   "cell_type": "code",
   "execution_count": 6,
   "id": "37e73226-1a13-4c85-9943-38ba673d911e",
   "metadata": {},
   "outputs": [],
   "source": [
    "embedding_matrix = loaded_input_items['embedding_matrix']\n",
    "X_train_pad = loaded_input_items['X_train_pad']\n",
    "X_val_pad = loaded_input_items['X_val_pad']\n",
    "X_test_pad = loaded_input_items['X_test_pad']\n",
    "y_train = loaded_input_items['y_train']\n",
    "y_val = loaded_input_items['y_val']\n",
    "y_test = loaded_input_items['y_test']"
   ]
  },
  {
   "cell_type": "code",
   "execution_count": 7,
   "id": "dbccad53-6c3c-4f11-9ec6-ebc7e4d7d74d",
   "metadata": {
    "id": "dbccad53-6c3c-4f11-9ec6-ebc7e4d7d74d"
   },
   "outputs": [],
   "source": [
    "VOCAB_SIZE = embedding_matrix.shape[0]\n",
    "EMBEDDING_DIM = embedding_matrix.shape[1]\n",
    "MAX_LEN = len(X_train_pad[0])"
   ]
  },
  {
   "cell_type": "code",
   "execution_count": 8,
   "id": "65d4ddfc-ab68-40c0-b455-9df92032dec7",
   "metadata": {
    "colab": {
     "base_uri": "https://localhost:8080/"
    },
    "id": "65d4ddfc-ab68-40c0-b455-9df92032dec7",
    "outputId": "a8d27d52-4884-4add-f511-abdb2603a0f7"
   },
   "outputs": [
    {
     "name": "stdout",
     "output_type": "stream",
     "text": [
      "Embedding dimension: 100\n",
      "Vocab size: 35756\n",
      "Maximum input length: 588\n"
     ]
    }
   ],
   "source": [
    "print(f\"Embedding dimension: {EMBEDDING_DIM}\\nVocab size: {VOCAB_SIZE}\\nMaximum input length: {MAX_LEN}\")"
   ]
  },
  {
   "cell_type": "markdown",
   "id": "5061a888-c678-4a41-b3c7-28b0f12221e5",
   "metadata": {},
   "source": [
    "# Basic CNN"
   ]
  },
  {
   "cell_type": "code",
   "execution_count": 9,
   "id": "89b6fa87-a467-4f94-a736-863af8d6850e",
   "metadata": {},
   "outputs": [],
   "source": [
    "model = Sequential()\n",
    "model.add(Input(shape=(MAX_LEN,)))\n",
    "model.add(Embedding(input_dim=VOCAB_SIZE, output_dim=EMBEDDING_DIM,\n",
    "                        weights=[embedding_matrix],\n",
    "                        trainable=True))\n",
    "model.add(Conv1D(filters=128, kernel_size=5, strides=1, \n",
    "                     padding='valid', activation='relu'))\n",
    "model.add(GlobalMaxPooling1D())\n",
    "model.add(Dense(64, activation='relu'))\n",
    "model.add(Dropout(0.3))\n",
    "model.add(Dense(1, activation='sigmoid'))\n",
    "model.compile(optimizer='adam', loss='binary_crossentropy', metrics=['accuracy'])"
   ]
  },
  {
   "cell_type": "code",
   "execution_count": 10,
   "id": "9ab10e1b-f605-4ed2-8e3a-63e4eda96334",
   "metadata": {},
   "outputs": [
    {
     "name": "stdout",
     "output_type": "stream",
     "text": [
      "Epoch 1/500\n",
      "\u001b[1m103/103\u001b[0m \u001b[32m━━━━━━━━━━━━━━━━━━━━\u001b[0m\u001b[37m\u001b[0m \u001b[1m12s\u001b[0m 96ms/step - accuracy: 0.7593 - loss: 0.5093 - val_accuracy: 0.8902 - val_loss: 0.2771\n",
      "Epoch 2/500\n",
      "\u001b[1m103/103\u001b[0m \u001b[32m━━━━━━━━━━━━━━━━━━━━\u001b[0m\u001b[37m\u001b[0m \u001b[1m10s\u001b[0m 98ms/step - accuracy: 0.9232 - loss: 0.2020 - val_accuracy: 0.9273 - val_loss: 0.1806\n",
      "Epoch 3/500\n",
      "\u001b[1m103/103\u001b[0m \u001b[32m━━━━━━━━━━━━━━━━━━━━\u001b[0m\u001b[37m\u001b[0m \u001b[1m10s\u001b[0m 98ms/step - accuracy: 0.9673 - loss: 0.1035 - val_accuracy: 0.9440 - val_loss: 0.1388\n",
      "Epoch 4/500\n",
      "\u001b[1m103/103\u001b[0m \u001b[32m━━━━━━━━━━━━━━━━━━━━\u001b[0m\u001b[37m\u001b[0m \u001b[1m10s\u001b[0m 98ms/step - accuracy: 0.9896 - loss: 0.0462 - val_accuracy: 0.9474 - val_loss: 0.1321\n",
      "Epoch 5/500\n",
      "\u001b[1m103/103\u001b[0m \u001b[32m━━━━━━━━━━━━━━━━━━━━\u001b[0m\u001b[37m\u001b[0m \u001b[1m10s\u001b[0m 98ms/step - accuracy: 0.9975 - loss: 0.0199 - val_accuracy: 0.9474 - val_loss: 0.1393\n",
      "Epoch 6/500\n",
      "\u001b[1m103/103\u001b[0m \u001b[32m━━━━━━━━━━━━━━━━━━━━\u001b[0m\u001b[37m\u001b[0m \u001b[1m10s\u001b[0m 98ms/step - accuracy: 0.9990 - loss: 0.0100 - val_accuracy: 0.9507 - val_loss: 0.1431\n",
      "Epoch 7/500\n",
      "\u001b[1m103/103\u001b[0m \u001b[32m━━━━━━━━━━━━━━━━━━━━\u001b[0m\u001b[37m\u001b[0m \u001b[1m10s\u001b[0m 99ms/step - accuracy: 0.9998 - loss: 0.0054 - val_accuracy: 0.9492 - val_loss: 0.1503\n",
      "Epoch 8/500\n",
      "\u001b[1m103/103\u001b[0m \u001b[32m━━━━━━━━━━━━━━━━━━━━\u001b[0m\u001b[37m\u001b[0m \u001b[1m10s\u001b[0m 98ms/step - accuracy: 1.0000 - loss: 0.0037 - val_accuracy: 0.9486 - val_loss: 0.1495\n",
      "Epoch 9/500\n",
      "\u001b[1m103/103\u001b[0m \u001b[32m━━━━━━━━━━━━━━━━━━━━\u001b[0m\u001b[37m\u001b[0m \u001b[1m10s\u001b[0m 99ms/step - accuracy: 1.0000 - loss: 0.0024 - val_accuracy: 0.9495 - val_loss: 0.1517\n",
      "Epoch 9: early stopping\n",
      "Restoring model weights from the end of the best epoch: 4.\n"
     ]
    },
    {
     "data": {
      "text/plain": [
       "<keras.src.callbacks.history.History at 0x18c521d80e0>"
      ]
     },
     "execution_count": 10,
     "metadata": {},
     "output_type": "execute_result"
    }
   ],
   "source": [
    "estop = EarlyStopping(monitor='val_loss', mode='min',\n",
    "                      min_delta=1e-5, patience=PATIENCE,\n",
    "                      restore_best_weights=True, verbose=1)\n",
    "model.fit(X_train_pad, y_train,\n",
    "             validation_data=(X_val_pad, y_val),\n",
    "             epochs=EPOCHS, batch_size=BATCH_SIZE,\n",
    "             callbacks=[estop], verbose=1)"
   ]
  },
  {
   "cell_type": "code",
   "execution_count": 11,
   "id": "0d6ceec4-d8a1-410f-8387-76cbe8a81a78",
   "metadata": {},
   "outputs": [
    {
     "name": "stdout",
     "output_type": "stream",
     "text": [
      "Basic CNN Test Accuracy: 0.9532846808433533\n",
      "Basic CNN Test Loss: 0.1253475695848465\n"
     ]
    }
   ],
   "source": [
    "test_loss, test_accuracy = model.evaluate(X_test_pad, y_test, verbose=0)\n",
    "print(\"Basic CNN Test Accuracy:\", test_accuracy)\n",
    "print(\"Basic CNN Test Loss:\", test_loss)"
   ]
  },
  {
   "cell_type": "markdown",
   "id": "f6b0ec52-9dfa-47c4-8089-871104d64859",
   "metadata": {
    "id": "f6b0ec52-9dfa-47c4-8089-871104d64859"
   },
   "source": [
    "# CNN with previously tuned Hyperparameters"
   ]
  },
  {
   "cell_type": "markdown",
   "id": "412989e1-9d82-4974-896f-b2c70bc65343",
   "metadata": {},
   "source": [
    "{'embeddings_trainable': 1, 'conv1_filters': 512, 'conv1_kernel_size': 4, 'dense_units': 16, 'dense_dropout': 0.30000000000000004, 'learning_rate': 0.001}"
   ]
  },
  {
   "cell_type": "code",
   "execution_count": 12,
   "id": "f1dc42eb-0ca2-40f8-94f3-93ade101a9cb",
   "metadata": {},
   "outputs": [],
   "source": [
    "model = Sequential()\n",
    "model.add(Input(shape=(MAX_LEN,)))\n",
    "model.add(Embedding(input_dim=VOCAB_SIZE, output_dim=EMBEDDING_DIM,\n",
    "                        weights=[embedding_matrix],\n",
    "                        trainable=True))\n",
    "model.add(Conv1D(filters=512, kernel_size=4,\n",
    "                     strides=1, padding='valid', activation='relu'))\n",
    "model.add(GlobalMaxPooling1D())\n",
    "model.add(Dense(units=16, activation='relu'))\n",
    "model.add(Dropout(0.3))\n",
    "model.add(Dense(1, activation='sigmoid'))\n",
    "model.compile(optimizer=Adam(learning_rate=0.001), \n",
    "              loss='binary_crossentropy',\n",
    "              metrics=['accuracy'])"
   ]
  },
  {
   "cell_type": "code",
   "execution_count": 13,
   "id": "202020af-c9cb-4cbd-bae8-b6d053fb073d",
   "metadata": {
    "colab": {
     "base_uri": "https://localhost:8080/"
    },
    "id": "202020af-c9cb-4cbd-bae8-b6d053fb073d",
    "outputId": "aec54988-8b91-4d04-b4ac-5d0c9ad07ce5"
   },
   "outputs": [
    {
     "name": "stdout",
     "output_type": "stream",
     "text": [
      "Epoch 1/500\n",
      "\u001b[1m103/103\u001b[0m \u001b[32m━━━━━━━━━━━━━━━━━━━━\u001b[0m\u001b[37m\u001b[0m \u001b[1m31s\u001b[0m 288ms/step - accuracy: 0.7550 - loss: 0.4677 - val_accuracy: 0.9118 - val_loss: 0.2449\n",
      "Epoch 2/500\n",
      "\u001b[1m103/103\u001b[0m \u001b[32m━━━━━━━━━━━━━━━━━━━━\u001b[0m\u001b[37m\u001b[0m \u001b[1m29s\u001b[0m 278ms/step - accuracy: 0.9216 - loss: 0.2399 - val_accuracy: 0.9431 - val_loss: 0.1642\n",
      "Epoch 3/500\n",
      "\u001b[1m103/103\u001b[0m \u001b[32m━━━━━━━━━━━━━━━━━━━━\u001b[0m\u001b[37m\u001b[0m \u001b[1m29s\u001b[0m 278ms/step - accuracy: 0.9633 - loss: 0.1635 - val_accuracy: 0.9529 - val_loss: 0.1392\n",
      "Epoch 4/500\n",
      "\u001b[1m103/103\u001b[0m \u001b[32m━━━━━━━━━━━━━━━━━━━━\u001b[0m\u001b[37m\u001b[0m \u001b[1m29s\u001b[0m 283ms/step - accuracy: 0.9822 - loss: 0.1227 - val_accuracy: 0.9556 - val_loss: 0.1251\n",
      "Epoch 5/500\n",
      "\u001b[1m103/103\u001b[0m \u001b[32m━━━━━━━━━━━━━━━━━━━━\u001b[0m\u001b[37m\u001b[0m \u001b[1m29s\u001b[0m 279ms/step - accuracy: 0.9922 - loss: 0.0983 - val_accuracy: 0.9529 - val_loss: 0.1506\n",
      "Epoch 6/500\n",
      "\u001b[1m103/103\u001b[0m \u001b[32m━━━━━━━━━━━━━━━━━━━━\u001b[0m\u001b[37m\u001b[0m \u001b[1m29s\u001b[0m 278ms/step - accuracy: 0.9958 - loss: 0.0869 - val_accuracy: 0.9592 - val_loss: 0.1328\n",
      "Epoch 7/500\n",
      "\u001b[1m103/103\u001b[0m \u001b[32m━━━━━━━━━━━━━━━━━━━━\u001b[0m\u001b[37m\u001b[0m \u001b[1m29s\u001b[0m 277ms/step - accuracy: 0.9983 - loss: 0.0758 - val_accuracy: 0.9608 - val_loss: 0.1343\n",
      "Epoch 8/500\n",
      "\u001b[1m103/103\u001b[0m \u001b[32m━━━━━━━━━━━━━━━━━━━━\u001b[0m\u001b[37m\u001b[0m \u001b[1m29s\u001b[0m 278ms/step - accuracy: 0.9990 - loss: 0.0695 - val_accuracy: 0.9602 - val_loss: 0.1397\n",
      "Epoch 9/500\n",
      "\u001b[1m103/103\u001b[0m \u001b[32m━━━━━━━━━━━━━━━━━━━━\u001b[0m\u001b[37m\u001b[0m \u001b[1m29s\u001b[0m 277ms/step - accuracy: 0.9993 - loss: 0.0634 - val_accuracy: 0.9586 - val_loss: 0.1465\n",
      "Epoch 9: early stopping\n",
      "Restoring model weights from the end of the best epoch: 4.\n"
     ]
    },
    {
     "data": {
      "text/plain": [
       "<keras.src.callbacks.history.History at 0x18c5223b560>"
      ]
     },
     "execution_count": 13,
     "metadata": {},
     "output_type": "execute_result"
    }
   ],
   "source": [
    "estop = EarlyStopping(monitor='val_loss', mode='min',\n",
    "                      min_delta=1e-5, patience=PATIENCE,\n",
    "                      restore_best_weights=True, verbose=1)\n",
    "model.fit(X_train_pad, y_train,\n",
    "             validation_data=(X_val_pad, y_val),\n",
    "             epochs=EPOCHS, batch_size=BATCH_SIZE,\n",
    "             callbacks=[estop], verbose=1)"
   ]
  },
  {
   "cell_type": "code",
   "execution_count": 14,
   "id": "44c272f1-ed87-4ad7-9b16-44a2a742168f",
   "metadata": {
    "colab": {
     "base_uri": "https://localhost:8080/"
    },
    "id": "44c272f1-ed87-4ad7-9b16-44a2a742168f",
    "outputId": "d6a2841e-b6dd-4b77-ef54-a125bf9a7594"
   },
   "outputs": [
    {
     "name": "stdout",
     "output_type": "stream",
     "text": [
      "Tuned CNN Test Accuracy: 0.9579075574874878\n",
      "Tuned CNN Test Loss: 0.12192881852388382\n"
     ]
    }
   ],
   "source": [
    "test_loss, test_accuracy = model.evaluate(X_test_pad, y_test, verbose=0)\n",
    "print(\"Tuned CNN Test Accuracy:\", test_accuracy)\n",
    "print(\"Tuned CNN Test Loss:\", test_loss)"
   ]
  },
  {
   "cell_type": "markdown",
   "id": "08e46192-ff59-47e1-ab8c-0cd99b626048",
   "metadata": {},
   "source": [
    "# Increasing Patience & Adding Learning Rate Schedule"
   ]
  },
  {
   "cell_type": "code",
   "execution_count": 16,
   "id": "6e0171e0-62aa-4897-b0f5-6153ad1c5a56",
   "metadata": {},
   "outputs": [],
   "source": [
    "model2 = Sequential()\n",
    "model2.add(Input(shape=(MAX_LEN,)))\n",
    "model2.add(Embedding(input_dim=VOCAB_SIZE, output_dim=EMBEDDING_DIM,\n",
    "                        weights=[embedding_matrix],\n",
    "                        trainable=True))\n",
    "model2.add(Conv1D(filters=512, kernel_size=4,\n",
    "                     strides=1, padding='valid', activation='relu'))\n",
    "model2.add(GlobalMaxPooling1D())\n",
    "model2.add(Dense(units=16, activation='relu'))\n",
    "model2.add(Dropout(0.3))\n",
    "model2.add(Dense(1, activation='sigmoid'))\n",
    "model2.compile(optimizer=Adam(learning_rate=0.001), \n",
    "              loss='binary_crossentropy',\n",
    "              metrics=['accuracy'])"
   ]
  },
  {
   "cell_type": "code",
   "execution_count": 17,
   "id": "bf3b9a49-21de-4814-bf73-1ba44fe5b9bf",
   "metadata": {},
   "outputs": [
    {
     "name": "stdout",
     "output_type": "stream",
     "text": [
      "Epoch 1/500\n",
      "\u001b[1m103/103\u001b[0m \u001b[32m━━━━━━━━━━━━━━━━━━━━\u001b[0m\u001b[37m\u001b[0m \u001b[1m33s\u001b[0m 310ms/step - accuracy: 0.8247 - loss: 0.3948 - val_accuracy: 0.9151 - val_loss: 0.2099 - learning_rate: 0.0010\n",
      "Epoch 2/500\n",
      "\u001b[1m103/103\u001b[0m \u001b[32m━━━━━━━━━━━━━━━━━━━━\u001b[0m\u001b[37m\u001b[0m \u001b[1m31s\u001b[0m 302ms/step - accuracy: 0.9448 - loss: 0.1545 - val_accuracy: 0.9462 - val_loss: 0.1407 - learning_rate: 0.0010\n",
      "Epoch 3/500\n",
      "\u001b[1m103/103\u001b[0m \u001b[32m━━━━━━━━━━━━━━━━━━━━\u001b[0m\u001b[37m\u001b[0m \u001b[1m29s\u001b[0m 279ms/step - accuracy: 0.9754 - loss: 0.0742 - val_accuracy: 0.9523 - val_loss: 0.1209 - learning_rate: 0.0010\n",
      "Epoch 4/500\n",
      "\u001b[1m103/103\u001b[0m \u001b[32m━━━━━━━━━━━━━━━━━━━━\u001b[0m\u001b[37m\u001b[0m \u001b[1m29s\u001b[0m 286ms/step - accuracy: 0.9916 - loss: 0.0338 - val_accuracy: 0.9544 - val_loss: 0.1212 - learning_rate: 0.0010\n",
      "Epoch 5/500\n",
      "\u001b[1m103/103\u001b[0m \u001b[32m━━━━━━━━━━━━━━━━━━━━\u001b[0m\u001b[37m\u001b[0m \u001b[1m30s\u001b[0m 288ms/step - accuracy: 0.9967 - loss: 0.0191 - val_accuracy: 0.9565 - val_loss: 0.1261 - learning_rate: 0.0010\n",
      "Epoch 6/500\n",
      "\u001b[1m103/103\u001b[0m \u001b[32m━━━━━━━━━━━━━━━━━━━━\u001b[0m\u001b[37m\u001b[0m \u001b[1m29s\u001b[0m 285ms/step - accuracy: 0.9982 - loss: 0.0118 - val_accuracy: 0.9574 - val_loss: 0.1350 - learning_rate: 0.0010\n",
      "Epoch 7/500\n",
      "\u001b[1m103/103\u001b[0m \u001b[32m━━━━━━━━━━━━━━━━━━━━\u001b[0m\u001b[37m\u001b[0m \u001b[1m29s\u001b[0m 277ms/step - accuracy: 0.9984 - loss: 0.0087 - val_accuracy: 0.9559 - val_loss: 0.1519 - learning_rate: 0.0010\n",
      "Epoch 8/500\n",
      "\u001b[1m103/103\u001b[0m \u001b[32m━━━━━━━━━━━━━━━━━━━━\u001b[0m\u001b[37m\u001b[0m \u001b[1m0s\u001b[0m 264ms/step - accuracy: 0.9994 - loss: 0.0072 \n",
      "Epoch 8: ReduceLROnPlateau reducing learning rate to 0.0005000000237487257.\n",
      "\u001b[1m103/103\u001b[0m \u001b[32m━━━━━━━━━━━━━━━━━━━━\u001b[0m\u001b[37m\u001b[0m \u001b[1m29s\u001b[0m 278ms/step - accuracy: 0.9989 - loss: 0.0076 - val_accuracy: 0.9595 - val_loss: 0.1459 - learning_rate: 0.0010\n",
      "Epoch 9/500\n",
      "\u001b[1m103/103\u001b[0m \u001b[32m━━━━━━━━━━━━━━━━━━━━\u001b[0m\u001b[37m\u001b[0m \u001b[1m29s\u001b[0m 278ms/step - accuracy: 0.9993 - loss: 0.0059 - val_accuracy: 0.9568 - val_loss: 0.1590 - learning_rate: 5.0000e-04\n",
      "Epoch 10/500\n",
      "\u001b[1m103/103\u001b[0m \u001b[32m━━━━━━━━━━━━━━━━━━━━\u001b[0m\u001b[37m\u001b[0m \u001b[1m29s\u001b[0m 278ms/step - accuracy: 0.9995 - loss: 0.0058 - val_accuracy: 0.9574 - val_loss: 0.1599 - learning_rate: 5.0000e-04\n",
      "Epoch 11/500\n",
      "\u001b[1m103/103\u001b[0m \u001b[32m━━━━━━━━━━━━━━━━━━━━\u001b[0m\u001b[37m\u001b[0m \u001b[1m29s\u001b[0m 280ms/step - accuracy: 0.9995 - loss: 0.0050 - val_accuracy: 0.9574 - val_loss: 0.1630 - learning_rate: 5.0000e-04\n",
      "Epoch 12/500\n",
      "\u001b[1m103/103\u001b[0m \u001b[32m━━━━━━━━━━━━━━━━━━━━\u001b[0m\u001b[37m\u001b[0m \u001b[1m29s\u001b[0m 278ms/step - accuracy: 0.9989 - loss: 0.0051 - val_accuracy: 0.9565 - val_loss: 0.1646 - learning_rate: 5.0000e-04\n",
      "Epoch 13/500\n",
      "\u001b[1m103/103\u001b[0m \u001b[32m━━━━━━━━━━━━━━━━━━━━\u001b[0m\u001b[37m\u001b[0m \u001b[1m0s\u001b[0m 263ms/step - accuracy: 0.9990 - loss: 0.0048 \n",
      "Epoch 13: ReduceLROnPlateau reducing learning rate to 0.0002500000118743628.\n",
      "\u001b[1m103/103\u001b[0m \u001b[32m━━━━━━━━━━━━━━━━━━━━\u001b[0m\u001b[37m\u001b[0m \u001b[1m29s\u001b[0m 277ms/step - accuracy: 0.9993 - loss: 0.0048 - val_accuracy: 0.9568 - val_loss: 0.1720 - learning_rate: 5.0000e-04\n",
      "Epoch 13: early stopping\n",
      "Restoring model weights from the end of the best epoch: 3.\n"
     ]
    },
    {
     "data": {
      "text/plain": [
       "<keras.src.callbacks.history.History at 0x18c55643bf0>"
      ]
     },
     "execution_count": 17,
     "metadata": {},
     "output_type": "execute_result"
    }
   ],
   "source": [
    "PATIENCE_ES = 10\n",
    "PATIENCE_LR = 5\n",
    "estop = EarlyStopping(monitor='val_loss', mode='min',\n",
    "                      min_delta=1e-5, patience=PATIENCE_ES,\n",
    "                      restore_best_weights=True, verbose=1)\n",
    "reduce_lr = ReduceLROnPlateau(monitor='val_loss', factor=0.5,\n",
    "                              patience=PATIENCE_LR, min_delta=1e-4,\n",
    "                              min_lr=1e-5, verbose=1)\n",
    "model2.fit(X_train_pad, y_train,\n",
    "             validation_data=(X_val_pad, y_val),\n",
    "             epochs=EPOCHS, batch_size=BATCH_SIZE,\n",
    "             callbacks=[estop, reduce_lr], verbose=1)"
   ]
  },
  {
   "cell_type": "code",
   "execution_count": 18,
   "id": "84717873-bbd3-4535-8934-b9b0f8cc0b34",
   "metadata": {},
   "outputs": [
    {
     "name": "stdout",
     "output_type": "stream",
     "text": [
      "Tuned Scheduled CNN Test Accuracy: 0.9569343328475952\n",
      "Tuned Scheduled CNN Test Loss: 0.11684489995241165\n"
     ]
    }
   ],
   "source": [
    "test_loss2, test_accuracy2 = model2.evaluate(X_test_pad, y_test, verbose=0)\n",
    "print(\"Tuned Scheduled CNN Test Accuracy:\", test_accuracy2)\n",
    "print(\"Tuned Scheduled CNN Test Loss:\", test_loss2)"
   ]
  },
  {
   "cell_type": "markdown",
   "id": "d7a2722a-7609-4f3b-9658-e9e4c8a0080b",
   "metadata": {},
   "source": [
    "# Increasing Patience"
   ]
  },
  {
   "cell_type": "code",
   "execution_count": 23,
   "id": "905c94b9-ff5b-4b4a-bbd5-32f0d51f26b9",
   "metadata": {},
   "outputs": [],
   "source": [
    "model3 = Sequential()\n",
    "model3.add(Input(shape=(MAX_LEN,)))\n",
    "model3.add(Embedding(input_dim=VOCAB_SIZE, output_dim=EMBEDDING_DIM,\n",
    "                        weights=[embedding_matrix],\n",
    "                        trainable=True))\n",
    "model3.add(Conv1D(filters=512, kernel_size=4,\n",
    "                     strides=1, padding='valid', activation='relu'))\n",
    "model3.add(GlobalMaxPooling1D())\n",
    "model3.add(Dense(units=16, activation='relu'))\n",
    "model3.add(Dropout(0.3))\n",
    "model3.add(Dense(1, activation='sigmoid'))\n",
    "model3.compile(optimizer=Adam(learning_rate=0.001), \n",
    "              loss='binary_crossentropy',\n",
    "              metrics=['accuracy'])"
   ]
  },
  {
   "cell_type": "code",
   "execution_count": 24,
   "id": "58dff8d2-6a10-4524-a82d-69615c114064",
   "metadata": {},
   "outputs": [
    {
     "name": "stdout",
     "output_type": "stream",
     "text": [
      "Epoch 1/500\n",
      "\u001b[1m103/103\u001b[0m \u001b[32m━━━━━━━━━━━━━━━━━━━━\u001b[0m\u001b[37m\u001b[0m \u001b[1m33s\u001b[0m 306ms/step - accuracy: 0.7963 - loss: 0.4370 - val_accuracy: 0.9158 - val_loss: 0.2330\n",
      "Epoch 2/500\n",
      "\u001b[1m103/103\u001b[0m \u001b[32m━━━━━━━━━━━━━━━━━━━━\u001b[0m\u001b[37m\u001b[0m \u001b[1m30s\u001b[0m 289ms/step - accuracy: 0.9326 - loss: 0.1859 - val_accuracy: 0.9468 - val_loss: 0.1505\n",
      "Epoch 3/500\n",
      "\u001b[1m103/103\u001b[0m \u001b[32m━━━━━━━━━━━━━━━━━━━━\u001b[0m\u001b[37m\u001b[0m \u001b[1m29s\u001b[0m 280ms/step - accuracy: 0.9676 - loss: 0.1058 - val_accuracy: 0.9425 - val_loss: 0.1501\n",
      "Epoch 4/500\n",
      "\u001b[1m103/103\u001b[0m \u001b[32m━━━━━━━━━━━━━━━━━━━━\u001b[0m\u001b[37m\u001b[0m \u001b[1m31s\u001b[0m 302ms/step - accuracy: 0.9849 - loss: 0.0582 - val_accuracy: 0.9565 - val_loss: 0.1197\n",
      "Epoch 5/500\n",
      "\u001b[1m103/103\u001b[0m \u001b[32m━━━━━━━━━━━━━━━━━━━━\u001b[0m\u001b[37m\u001b[0m \u001b[1m31s\u001b[0m 302ms/step - accuracy: 0.9935 - loss: 0.0325 - val_accuracy: 0.9586 - val_loss: 0.1229\n",
      "Epoch 6/500\n",
      "\u001b[1m103/103\u001b[0m \u001b[32m━━━━━━━━━━━━━━━━━━━━\u001b[0m\u001b[37m\u001b[0m \u001b[1m32s\u001b[0m 311ms/step - accuracy: 0.9966 - loss: 0.0183 - val_accuracy: 0.9577 - val_loss: 0.1299\n",
      "Epoch 7/500\n",
      "\u001b[1m103/103\u001b[0m \u001b[32m━━━━━━━━━━━━━━━━━━━━\u001b[0m\u001b[37m\u001b[0m \u001b[1m32s\u001b[0m 307ms/step - accuracy: 0.9983 - loss: 0.0112 - val_accuracy: 0.9586 - val_loss: 0.1438\n",
      "Epoch 8/500\n",
      "\u001b[1m103/103\u001b[0m \u001b[32m━━━━━━━━━━━━━━━━━━━━\u001b[0m\u001b[37m\u001b[0m \u001b[1m30s\u001b[0m 291ms/step - accuracy: 0.9986 - loss: 0.0090 - val_accuracy: 0.9568 - val_loss: 0.1491\n",
      "Epoch 9/500\n",
      "\u001b[1m103/103\u001b[0m \u001b[32m━━━━━━━━━━━━━━━━━━━━\u001b[0m\u001b[37m\u001b[0m \u001b[1m29s\u001b[0m 286ms/step - accuracy: 0.9991 - loss: 0.0067 - val_accuracy: 0.9583 - val_loss: 0.1564\n",
      "Epoch 10/500\n",
      "\u001b[1m103/103\u001b[0m \u001b[32m━━━━━━━━━━━━━━━━━━━━\u001b[0m\u001b[37m\u001b[0m \u001b[1m28s\u001b[0m 273ms/step - accuracy: 0.9990 - loss: 0.0056 - val_accuracy: 0.9608 - val_loss: 0.1615\n",
      "Epoch 11/500\n",
      "\u001b[1m103/103\u001b[0m \u001b[32m━━━━━━━━━━━━━━━━━━━━\u001b[0m\u001b[37m\u001b[0m \u001b[1m29s\u001b[0m 279ms/step - accuracy: 0.9991 - loss: 0.0060 - val_accuracy: 0.9605 - val_loss: 0.1668\n",
      "Epoch 12/500\n",
      "\u001b[1m103/103\u001b[0m \u001b[32m━━━━━━━━━━━━━━━━━━━━\u001b[0m\u001b[37m\u001b[0m \u001b[1m28s\u001b[0m 275ms/step - accuracy: 0.9995 - loss: 0.0048 - val_accuracy: 0.9583 - val_loss: 0.1722\n",
      "Epoch 13/500\n",
      "\u001b[1m103/103\u001b[0m \u001b[32m━━━━━━━━━━━━━━━━━━━━\u001b[0m\u001b[37m\u001b[0m \u001b[1m28s\u001b[0m 275ms/step - accuracy: 0.9992 - loss: 0.0054 - val_accuracy: 0.9599 - val_loss: 0.1653\n",
      "Epoch 14/500\n",
      "\u001b[1m103/103\u001b[0m \u001b[32m━━━━━━━━━━━━━━━━━━━━\u001b[0m\u001b[37m\u001b[0m \u001b[1m28s\u001b[0m 275ms/step - accuracy: 0.9994 - loss: 0.0052 - val_accuracy: 0.9568 - val_loss: 0.1866\n",
      "Epoch 14: early stopping\n",
      "Restoring model weights from the end of the best epoch: 4.\n"
     ]
    },
    {
     "data": {
      "text/plain": [
       "<keras.src.callbacks.history.History at 0x18c6ec076e0>"
      ]
     },
     "execution_count": 24,
     "metadata": {},
     "output_type": "execute_result"
    }
   ],
   "source": [
    "PATIENCE_ES = 10\n",
    "estop = EarlyStopping(monitor='val_loss', mode='min',\n",
    "                      min_delta=1e-5, patience=PATIENCE_ES,\n",
    "                      restore_best_weights=True, verbose=1)\n",
    "model3.fit(X_train_pad, y_train,\n",
    "             validation_data=(X_val_pad, y_val),\n",
    "             epochs=EPOCHS, batch_size=BATCH_SIZE,\n",
    "             callbacks=[estop], verbose=1)"
   ]
  },
  {
   "cell_type": "code",
   "execution_count": 25,
   "id": "44995747-d9d1-42f1-b27f-01597e9c5c22",
   "metadata": {},
   "outputs": [
    {
     "name": "stdout",
     "output_type": "stream",
     "text": [
      "Tuned CNN2 Test Accuracy: 0.9574209451675415\n",
      "Tuned CNN2 Test Loss: 0.12015752494335175\n"
     ]
    }
   ],
   "source": [
    "test_loss3, test_accuracy3 = model3.evaluate(X_test_pad, y_test, verbose=0)\n",
    "print(\"Tuned CNN2 Test Accuracy:\", test_accuracy3)\n",
    "print(\"Tuned CNN2 Test Loss:\", test_loss3)"
   ]
  },
  {
   "cell_type": "markdown",
   "id": "46169045-13b8-4763-8767-f883332d3fc8",
   "metadata": {
    "id": "f6b0ec52-9dfa-47c4-8089-871104d64859"
   },
   "source": [
    "# Tuned CNN - 2 Convolution layers"
   ]
  },
  {
   "cell_type": "markdown",
   "id": "f7460e84-7495-4107-9c4e-00a4dc8e36d0",
   "metadata": {},
   "source": [
    "{'embeddings_trainable': 0, 'conv1_filters': 256, 'conv1_kernel_size': 5, 'conv2_filters': 512, 'conv2_kernel_size': 5, 'dense_units': 128, 'dense_dropout': 0.4, 'learning_rate': 0.001}"
   ]
  },
  {
   "cell_type": "code",
   "execution_count": 30,
   "id": "1d829a56-a1bd-4d55-a8d4-48f7b5c81f41",
   "metadata": {},
   "outputs": [],
   "source": [
    "model_2l = Sequential()\n",
    "model_2l.add(Input(shape=(MAX_LEN,)))\n",
    "model_2l.add(Embedding(input_dim=VOCAB_SIZE, output_dim=EMBEDDING_DIM,\n",
    "                        weights=[embedding_matrix],\n",
    "                        trainable=True))\n",
    "\n",
    "model_2l.add(Conv1D(filters=256, kernel_size=5,\n",
    "                 strides=1, padding='valid', activation='relu'))\n",
    "model_2l.add(MaxPool1D(pool_size=2))\n",
    "model_2l.add(Conv1D(filters=512, kernel_size=5, \n",
    "                 strides=1, padding='valid', activation='relu'))\n",
    "model_2l.add(GlobalMaxPooling1D())\n",
    "model_2l.add(Dense(units=128, activation='relu'))\n",
    "model_2l.add(Dropout(0.4))\n",
    "model_2l.add(Dense(1, activation='sigmoid'))\n",
    "model_2l.compile(optimizer=Adam(learning_rate=0.001),\n",
    "              loss='binary_crossentropy',\n",
    "              metrics=['accuracy'])"
   ]
  },
  {
   "cell_type": "code",
   "execution_count": 31,
   "id": "4dcf81cd-7450-4b79-ac26-37b51bbbbedd",
   "metadata": {
    "colab": {
     "base_uri": "https://localhost:8080/"
    },
    "id": "202020af-c9cb-4cbd-bae8-b6d053fb073d",
    "outputId": "aec54988-8b91-4d04-b4ac-5d0c9ad07ce5"
   },
   "outputs": [
    {
     "name": "stdout",
     "output_type": "stream",
     "text": [
      "Epoch 1/500\n",
      "\u001b[1m103/103\u001b[0m \u001b[32m━━━━━━━━━━━━━━━━━━━━\u001b[0m\u001b[37m\u001b[0m \u001b[1m48s\u001b[0m 458ms/step - accuracy: 0.7848 - loss: 0.4502 - val_accuracy: 0.8808 - val_loss: 0.2688 - learning_rate: 0.0010\n",
      "Epoch 2/500\n",
      "\u001b[1m103/103\u001b[0m \u001b[32m━━━━━━━━━━━━━━━━━━━━\u001b[0m\u001b[37m\u001b[0m \u001b[1m45s\u001b[0m 439ms/step - accuracy: 0.9376 - loss: 0.1681 - val_accuracy: 0.9142 - val_loss: 0.2037 - learning_rate: 0.0010\n",
      "Epoch 3/500\n",
      "\u001b[1m103/103\u001b[0m \u001b[32m━━━━━━━━━━━━━━━━━━━━\u001b[0m\u001b[37m\u001b[0m \u001b[1m45s\u001b[0m 441ms/step - accuracy: 0.9741 - loss: 0.0736 - val_accuracy: 0.9450 - val_loss: 0.1456 - learning_rate: 0.0010\n",
      "Epoch 4/500\n",
      "\u001b[1m103/103\u001b[0m \u001b[32m━━━━━━━━━━━━━━━━━━━━\u001b[0m\u001b[37m\u001b[0m \u001b[1m45s\u001b[0m 441ms/step - accuracy: 0.9946 - loss: 0.0223 - val_accuracy: 0.9489 - val_loss: 0.1656 - learning_rate: 0.0010\n",
      "Epoch 5/500\n",
      "\u001b[1m103/103\u001b[0m \u001b[32m━━━━━━━━━━━━━━━━━━━━\u001b[0m\u001b[37m\u001b[0m \u001b[1m45s\u001b[0m 440ms/step - accuracy: 0.9988 - loss: 0.0060 - val_accuracy: 0.9456 - val_loss: 0.2234 - learning_rate: 0.0010\n",
      "Epoch 6/500\n",
      "\u001b[1m103/103\u001b[0m \u001b[32m━━━━━━━━━━━━━━━━━━━━\u001b[0m\u001b[37m\u001b[0m \u001b[1m46s\u001b[0m 443ms/step - accuracy: 0.9993 - loss: 0.0037 - val_accuracy: 0.9413 - val_loss: 0.2393 - learning_rate: 0.0010\n",
      "Epoch 7/500\n",
      "\u001b[1m103/103\u001b[0m \u001b[32m━━━━━━━━━━━━━━━━━━━━\u001b[0m\u001b[37m\u001b[0m \u001b[1m45s\u001b[0m 440ms/step - accuracy: 0.9995 - loss: 0.0021 - val_accuracy: 0.9471 - val_loss: 0.2287 - learning_rate: 0.0010\n",
      "Epoch 8/500\n",
      "\u001b[1m103/103\u001b[0m \u001b[32m━━━━━━━━━━━━━━━━━━━━\u001b[0m\u001b[37m\u001b[0m \u001b[1m0s\u001b[0m 410ms/step - accuracy: 1.0000 - loss: 5.3351e-04 \n",
      "Epoch 8: ReduceLROnPlateau reducing learning rate to 0.0005000000237487257.\n",
      "\u001b[1m103/103\u001b[0m \u001b[32m━━━━━━━━━━━━━━━━━━━━\u001b[0m\u001b[37m\u001b[0m \u001b[1m45s\u001b[0m 440ms/step - accuracy: 1.0000 - loss: 4.3856e-04 - val_accuracy: 0.9492 - val_loss: 0.2385 - learning_rate: 0.0010\n",
      "Epoch 9/500\n",
      "\u001b[1m103/103\u001b[0m \u001b[32m━━━━━━━━━━━━━━━━━━━━\u001b[0m\u001b[37m\u001b[0m \u001b[1m45s\u001b[0m 440ms/step - accuracy: 1.0000 - loss: 3.1588e-04 - val_accuracy: 0.9480 - val_loss: 0.2535 - learning_rate: 5.0000e-04\n",
      "Epoch 10/500\n",
      "\u001b[1m103/103\u001b[0m \u001b[32m━━━━━━━━━━━━━━━━━━━━\u001b[0m\u001b[37m\u001b[0m \u001b[1m45s\u001b[0m 441ms/step - accuracy: 1.0000 - loss: 1.8488e-04 - val_accuracy: 0.9504 - val_loss: 0.2462 - learning_rate: 5.0000e-04\n",
      "Epoch 11/500\n",
      "\u001b[1m103/103\u001b[0m \u001b[32m━━━━━━━━━━━━━━━━━━━━\u001b[0m\u001b[37m\u001b[0m \u001b[1m47s\u001b[0m 458ms/step - accuracy: 1.0000 - loss: 1.5642e-04 - val_accuracy: 0.9498 - val_loss: 0.2515 - learning_rate: 5.0000e-04\n",
      "Epoch 12/500\n",
      "\u001b[1m103/103\u001b[0m \u001b[32m━━━━━━━━━━━━━━━━━━━━\u001b[0m\u001b[37m\u001b[0m \u001b[1m47s\u001b[0m 453ms/step - accuracy: 1.0000 - loss: 1.2698e-04 - val_accuracy: 0.9501 - val_loss: 0.2578 - learning_rate: 5.0000e-04\n",
      "Epoch 13/500\n",
      "\u001b[1m103/103\u001b[0m \u001b[32m━━━━━━━━━━━━━━━━━━━━\u001b[0m\u001b[37m\u001b[0m \u001b[1m0s\u001b[0m 411ms/step - accuracy: 1.0000 - loss: 1.1366e-04 \n",
      "Epoch 13: ReduceLROnPlateau reducing learning rate to 0.0002500000118743628.\n",
      "\u001b[1m103/103\u001b[0m \u001b[32m━━━━━━━━━━━━━━━━━━━━\u001b[0m\u001b[37m\u001b[0m \u001b[1m46s\u001b[0m 443ms/step - accuracy: 1.0000 - loss: 2.0378e-04 - val_accuracy: 0.9495 - val_loss: 0.2590 - learning_rate: 5.0000e-04\n",
      "Epoch 13: early stopping\n",
      "Restoring model weights from the end of the best epoch: 3.\n"
     ]
    },
    {
     "data": {
      "text/plain": [
       "<keras.src.callbacks.history.History at 0x18c6ed5bf20>"
      ]
     },
     "execution_count": 31,
     "metadata": {},
     "output_type": "execute_result"
    }
   ],
   "source": [
    "PATIENCE_ES = 10\n",
    "PATIENCE_LR = 5\n",
    "estop = EarlyStopping(monitor='val_loss', mode='min',\n",
    "                      min_delta=1e-5, patience=PATIENCE_ES,\n",
    "                      restore_best_weights=True, verbose=1)\n",
    "reduce_lr = ReduceLROnPlateau(monitor='val_loss', factor=0.5,\n",
    "                              patience=PATIENCE_LR, min_delta=1e-4,\n",
    "                              min_lr=1e-5, verbose=1)\n",
    "model_2l.fit(X_train_pad, y_train,\n",
    "             validation_data=(X_val_pad, y_val),\n",
    "             epochs=EPOCHS, batch_size=BATCH_SIZE,\n",
    "             callbacks=[estop, reduce_lr], verbose=1)"
   ]
  },
  {
   "cell_type": "code",
   "execution_count": 32,
   "id": "4cb97950-d1ad-4340-b170-4895278f7c85",
   "metadata": {
    "colab": {
     "base_uri": "https://localhost:8080/"
    },
    "id": "44c272f1-ed87-4ad7-9b16-44a2a742168f",
    "outputId": "d6a2841e-b6dd-4b77-ef54-a125bf9a7594"
   },
   "outputs": [
    {
     "name": "stdout",
     "output_type": "stream",
     "text": [
      "2 Layer Tuned Scheduled CNN Accuracy: 0.9467153549194336\n",
      "2 Layer Tuned Scheduled CNN Loss: 0.15035033226013184\n"
     ]
    }
   ],
   "source": [
    "test_loss_2l, test_accuracy_2l = model_2l.evaluate(X_test_pad, y_test, verbose=0)\n",
    "print(\"2 Layer Tuned Scheduled CNN Accuracy:\", test_accuracy_2l)\n",
    "print(\"2 Layer Tuned Scheduled CNN Loss:\", test_loss_2l)"
   ]
  },
  {
   "cell_type": "markdown",
   "id": "f2ad6869-f979-49ac-8151-d7ee5386a290",
   "metadata": {
    "id": "f6b0ec52-9dfa-47c4-8089-871104d64859"
   },
   "source": [
    "# Tuned CNN - 3 Convolution layers"
   ]
  },
  {
   "cell_type": "markdown",
   "id": "3b0ff1fb-acf4-403a-8bb4-8cf0bb88a879",
   "metadata": {},
   "source": [
    "{'embeddings_trainable': 0, 'conv1_filters': 128, 'conv1_kernel_size': 5, 'conv2_filters': 128, 'conv2_kernel_size': 3, 'conv3_filters': 512, 'conv3_kernel_size': 4, 'dense_units': 16, 'dense_dropout': 0.30000000000000004, 'learning_rate': 0.001}"
   ]
  },
  {
   "cell_type": "code",
   "execution_count": 34,
   "id": "b9e5049c-9eb8-4315-b4be-52e18a0543a2",
   "metadata": {},
   "outputs": [],
   "source": [
    "model_3l = Sequential()\n",
    "model_3l.add(Input(shape=(MAX_LEN,)))\n",
    "model_3l.add(Embedding(input_dim=VOCAB_SIZE, output_dim=EMBEDDING_DIM,\n",
    "                        weights=[embedding_matrix],\n",
    "                        trainable=True))\n",
    "model_3l.add(Conv1D(filters=128, kernel_size=5,\n",
    "                 strides=1, padding='valid', activation='relu'))\n",
    "model_3l.add(MaxPool1D(pool_size=2))\n",
    "model_3l.add(Conv1D(filters=128, kernel_size=3,\n",
    "                 strides=1, padding='valid', activation='relu'))\n",
    "model_3l.add(MaxPool1D(pool_size=2))\n",
    "model_3l.add(Conv1D(filters=512, kernel_size=4,\n",
    "                 strides=1, padding='valid', activation='relu'))\n",
    "model_3l.add(GlobalMaxPooling1D())\n",
    "model_3l.add(Dense(units=16, activation='relu'))\n",
    "model_3l.add(Dropout(0.3))\n",
    "model_3l.add(Dense(1, activation='sigmoid'))\n",
    "model_3l.compile(optimizer=Adam(learning_rate=0.001),\n",
    "              loss='binary_crossentropy',\n",
    "              metrics=['accuracy'])"
   ]
  },
  {
   "cell_type": "code",
   "execution_count": 35,
   "id": "93828985-a1ac-456f-823a-3054c1194608",
   "metadata": {
    "colab": {
     "base_uri": "https://localhost:8080/"
    },
    "id": "202020af-c9cb-4cbd-bae8-b6d053fb073d",
    "outputId": "aec54988-8b91-4d04-b4ac-5d0c9ad07ce5"
   },
   "outputs": [
    {
     "name": "stdout",
     "output_type": "stream",
     "text": [
      "Epoch 1/500\n",
      "\u001b[1m103/103\u001b[0m \u001b[32m━━━━━━━━━━━━━━━━━━━━\u001b[0m\u001b[37m\u001b[0m \u001b[1m20s\u001b[0m 185ms/step - accuracy: 0.5043 - loss: 0.6962 - val_accuracy: 0.5055 - val_loss: 0.6931\n",
      "Epoch 2/500\n",
      "\u001b[1m103/103\u001b[0m \u001b[32m━━━━━━━━━━━━━━━━━━━━\u001b[0m\u001b[37m\u001b[0m \u001b[1m20s\u001b[0m 190ms/step - accuracy: 0.5056 - loss: 0.6931 - val_accuracy: 0.5055 - val_loss: 0.6931\n",
      "Epoch 3/500\n",
      "\u001b[1m103/103\u001b[0m \u001b[32m━━━━━━━━━━━━━━━━━━━━\u001b[0m\u001b[37m\u001b[0m \u001b[1m19s\u001b[0m 184ms/step - accuracy: 0.5056 - loss: 0.6931 - val_accuracy: 0.5055 - val_loss: 0.6931\n",
      "Epoch 4/500\n",
      "\u001b[1m103/103\u001b[0m \u001b[32m━━━━━━━━━━━━━━━━━━━━\u001b[0m\u001b[37m\u001b[0m \u001b[1m18s\u001b[0m 174ms/step - accuracy: 0.5056 - loss: 0.6931 - val_accuracy: 0.5055 - val_loss: 0.6931\n",
      "Epoch 5/500\n",
      "\u001b[1m103/103\u001b[0m \u001b[32m━━━━━━━━━━━━━━━━━━━━\u001b[0m\u001b[37m\u001b[0m \u001b[1m18s\u001b[0m 174ms/step - accuracy: 0.5056 - loss: 0.6931 - val_accuracy: 0.5055 - val_loss: 0.6931\n",
      "Epoch 6/500\n",
      "\u001b[1m103/103\u001b[0m \u001b[32m━━━━━━━━━━━━━━━━━━━━\u001b[0m\u001b[37m\u001b[0m \u001b[1m18s\u001b[0m 176ms/step - accuracy: 0.5056 - loss: 0.6931 - val_accuracy: 0.5055 - val_loss: 0.6931\n",
      "Epoch 7/500\n",
      "\u001b[1m103/103\u001b[0m \u001b[32m━━━━━━━━━━━━━━━━━━━━\u001b[0m\u001b[37m\u001b[0m \u001b[1m18s\u001b[0m 174ms/step - accuracy: 0.5056 - loss: 0.6931 - val_accuracy: 0.5055 - val_loss: 0.6931\n",
      "Epoch 8/500\n",
      "\u001b[1m103/103\u001b[0m \u001b[32m━━━━━━━━━━━━━━━━━━━━\u001b[0m\u001b[37m\u001b[0m \u001b[1m18s\u001b[0m 174ms/step - accuracy: 0.5056 - loss: 0.6931 - val_accuracy: 0.5055 - val_loss: 0.6931\n",
      "Epoch 8: early stopping\n",
      "Restoring model weights from the end of the best epoch: 3.\n"
     ]
    },
    {
     "data": {
      "text/plain": [
       "<keras.src.callbacks.history.History at 0x18c7776de50>"
      ]
     },
     "execution_count": 35,
     "metadata": {},
     "output_type": "execute_result"
    }
   ],
   "source": [
    "estop = EarlyStopping(monitor='val_loss', mode='min',\n",
    "                      min_delta=1e-5, patience=PATIENCE,\n",
    "                      restore_best_weights=True, verbose=1)\n",
    "model_3l.fit(X_train_pad, y_train,\n",
    "             validation_data=(X_val_pad, y_val),\n",
    "             epochs=EPOCHS, batch_size=BATCH_SIZE,\n",
    "             callbacks=[estop], verbose=1)"
   ]
  },
  {
   "cell_type": "code",
   "execution_count": 36,
   "id": "11db49ce-764b-4e56-8af6-f77ef44bd68a",
   "metadata": {
    "colab": {
     "base_uri": "https://localhost:8080/"
    },
    "id": "44c272f1-ed87-4ad7-9b16-44a2a742168f",
    "outputId": "d6a2841e-b6dd-4b77-ef54-a125bf9a7594"
   },
   "outputs": [
    {
     "name": "stdout",
     "output_type": "stream",
     "text": [
      "3 Layer Tuned Scheduled CNN Accuracy: 0.5055961012840271\n",
      "3 Layer Tuned Scheduled CNN Loss: 0.693085253238678\n"
     ]
    }
   ],
   "source": [
    "test_loss_3l, test_accuracy_3l = model_3l.evaluate(X_test_pad, y_test, verbose=0)\n",
    "print(\"3 Layer Tuned Scheduled CNN Accuracy:\", test_accuracy_3l)\n",
    "print(\"3 Layer Tuned Scheduled CNN Loss:\", test_loss_3l)"
   ]
  },
  {
   "cell_type": "code",
   "execution_count": 37,
   "id": "54b82af6-be0b-406b-974c-bbf4705985eb",
   "metadata": {
    "id": "54b82af6-be0b-406b-974c-bbf4705985eb"
   },
   "outputs": [],
   "source": [
    "model.save(base_path+'artifacts/pretrained_cnn.keras')"
   ]
  }
 ],
 "metadata": {
  "accelerator": "GPU",
  "colab": {
   "gpuType": "T4",
   "provenance": []
  },
  "kernelspec": {
   "display_name": "Python 3 (ipykernel)",
   "language": "python",
   "name": "python3"
  },
  "language_info": {
   "codemirror_mode": {
    "name": "ipython",
    "version": 3
   },
   "file_extension": ".py",
   "mimetype": "text/x-python",
   "name": "python",
   "nbconvert_exporter": "python",
   "pygments_lexer": "ipython3",
   "version": "3.12.6"
  }
 },
 "nbformat": 4,
 "nbformat_minor": 5
}
