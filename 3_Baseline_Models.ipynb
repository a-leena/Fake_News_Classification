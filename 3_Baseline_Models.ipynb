{
 "cells": [
  {
   "cell_type": "code",
   "execution_count": 1,
   "id": "15ee4ee1-d4c1-4315-863e-3a1549fbc229",
   "metadata": {},
   "outputs": [],
   "source": [
    "import pandas as pd\n",
    "import numpy as np\n",
    "import matplotlib.pyplot as plt\n",
    "from sklearn.model_selection import train_test_split\n",
    "from sklearn.feature_extraction.text import TfidfVectorizer\n",
    "from sklearn.linear_model import LogisticRegression\n",
    "from sklearn.naive_bayes import MultinomialNB\n",
    "from sklearn.svm import LinearSVC\n",
    "from sklearn.preprocessing import MinMaxScaler\n",
    "from sklearn.metrics import accuracy_score, classification_report, confusion_matrix, ConfusionMatrixDisplay\n",
    "from scipy.sparse import hstack\n",
    "import joblib"
   ]
  },
  {
   "cell_type": "markdown",
   "id": "97d5f3e5-a8af-42b1-b868-bdb7c97a36df",
   "metadata": {},
   "source": [
    "# Prepare Data"
   ]
  },
  {
   "cell_type": "markdown",
   "id": "0a84e307-51cf-4bf1-9ade-3b7a34383079",
   "metadata": {},
   "source": [
    "## Load Preprocessed Data"
   ]
  },
  {
   "cell_type": "code",
   "execution_count": 2,
   "id": "3289cae4-a229-47ea-86bd-51f42e6e6340",
   "metadata": {},
   "outputs": [
    {
     "data": {
      "text/html": [
       "<div>\n",
       "<style scoped>\n",
       "    .dataframe tbody tr th:only-of-type {\n",
       "        vertical-align: middle;\n",
       "    }\n",
       "\n",
       "    .dataframe tbody tr th {\n",
       "        vertical-align: top;\n",
       "    }\n",
       "\n",
       "    .dataframe thead th {\n",
       "        text-align: right;\n",
       "    }\n",
       "</style>\n",
       "<table border=\"1\" class=\"dataframe\">\n",
       "  <thead>\n",
       "    <tr style=\"text-align: right;\">\n",
       "      <th></th>\n",
       "      <th>full_text</th>\n",
       "      <th>full_tokens</th>\n",
       "      <th>full_text_lemmatized</th>\n",
       "      <th>label</th>\n",
       "    </tr>\n",
       "  </thead>\n",
       "  <tbody>\n",
       "    <tr>\n",
       "      <th>0</th>\n",
       "      <td>House Dem Aide: We Didn’t Even See Comey’s Let...</td>\n",
       "      <td>['house', 'aide', 'even', 'see', 'letter', 'ja...</td>\n",
       "      <td>house aide even see letter jason house aide ev...</td>\n",
       "      <td>1</td>\n",
       "    </tr>\n",
       "    <tr>\n",
       "      <th>1</th>\n",
       "      <td>FLYNN: Hillary Clinton, Big Woman on Campus - ...</td>\n",
       "      <td>['hillary', 'clinton', 'big', 'woman', 'campus...</td>\n",
       "      <td>hillary clinton big woman campus ever get feel...</td>\n",
       "      <td>0</td>\n",
       "    </tr>\n",
       "    <tr>\n",
       "      <th>2</th>\n",
       "      <td>Why the Truth Might Get You Fired Why the Trut...</td>\n",
       "      <td>['truth', 'might', 'get', 'fired', 'truth', 'm...</td>\n",
       "      <td>truth might get fired truth might get fired oc...</td>\n",
       "      <td>1</td>\n",
       "    </tr>\n",
       "    <tr>\n",
       "      <th>3</th>\n",
       "      <td>15 Civilians Killed In Single US Airstrike Hav...</td>\n",
       "      <td>['single', 'single', 'rate', 'american', 'high...</td>\n",
       "      <td>single single rate american higher engaged act...</td>\n",
       "      <td>1</td>\n",
       "    </tr>\n",
       "    <tr>\n",
       "      <th>4</th>\n",
       "      <td>Iranian woman jailed for fictional unpublished...</td>\n",
       "      <td>['iranian', 'woman', 'fictional', 'unpublished...</td>\n",
       "      <td>iranian woman fictional unpublished story woma...</td>\n",
       "      <td>1</td>\n",
       "    </tr>\n",
       "  </tbody>\n",
       "</table>\n",
       "</div>"
      ],
      "text/plain": [
       "                                           full_text  \\\n",
       "0  House Dem Aide: We Didn’t Even See Comey’s Let...   \n",
       "1  FLYNN: Hillary Clinton, Big Woman on Campus - ...   \n",
       "2  Why the Truth Might Get You Fired Why the Trut...   \n",
       "3  15 Civilians Killed In Single US Airstrike Hav...   \n",
       "4  Iranian woman jailed for fictional unpublished...   \n",
       "\n",
       "                                         full_tokens  \\\n",
       "0  ['house', 'aide', 'even', 'see', 'letter', 'ja...   \n",
       "1  ['hillary', 'clinton', 'big', 'woman', 'campus...   \n",
       "2  ['truth', 'might', 'get', 'fired', 'truth', 'm...   \n",
       "3  ['single', 'single', 'rate', 'american', 'high...   \n",
       "4  ['iranian', 'woman', 'fictional', 'unpublished...   \n",
       "\n",
       "                                full_text_lemmatized  label  \n",
       "0  house aide even see letter jason house aide ev...      1  \n",
       "1  hillary clinton big woman campus ever get feel...      0  \n",
       "2  truth might get fired truth might get fired oc...      1  \n",
       "3  single single rate american higher engaged act...      1  \n",
       "4  iranian woman fictional unpublished story woma...      1  "
      ]
     },
     "execution_count": 2,
     "metadata": {},
     "output_type": "execute_result"
    }
   ],
   "source": [
    "data = pd.read_csv('data/fulltext_preprocessed_data.csv')\n",
    "data.head()"
   ]
  },
  {
   "cell_type": "code",
   "execution_count": 3,
   "id": "c815b923-3fb1-4178-9a6a-f3b5b4382eb8",
   "metadata": {},
   "outputs": [
    {
     "data": {
      "text/plain": [
       "(20546, 4)"
      ]
     },
     "execution_count": 3,
     "metadata": {},
     "output_type": "execute_result"
    }
   ],
   "source": [
    "data.shape"
   ]
  },
  {
   "cell_type": "code",
   "execution_count": 4,
   "id": "34de95d4-3450-4733-bc91-9fa37c6b22ee",
   "metadata": {},
   "outputs": [
    {
     "data": {
      "text/html": [
       "<div>\n",
       "<style scoped>\n",
       "    .dataframe tbody tr th:only-of-type {\n",
       "        vertical-align: middle;\n",
       "    }\n",
       "\n",
       "    .dataframe tbody tr th {\n",
       "        vertical-align: top;\n",
       "    }\n",
       "\n",
       "    .dataframe thead th {\n",
       "        text-align: right;\n",
       "    }\n",
       "</style>\n",
       "<table border=\"1\" class=\"dataframe\">\n",
       "  <thead>\n",
       "    <tr style=\"text-align: right;\">\n",
       "      <th></th>\n",
       "      <th>average_word_length</th>\n",
       "      <th>average_sentence_length</th>\n",
       "      <th>vocabulary_richness</th>\n",
       "      <th>url_ratio</th>\n",
       "      <th>all_caps_ratio</th>\n",
       "      <th>exclamations_ratio</th>\n",
       "      <th>questions_ratio</th>\n",
       "      <th>digits_ratio</th>\n",
       "      <th>flesch_reading_ease_score</th>\n",
       "      <th>noun_ratio</th>\n",
       "      <th>verb_ratio</th>\n",
       "      <th>adjective_ratio</th>\n",
       "      <th>adverb_ratio</th>\n",
       "      <th>pronoun_ratio</th>\n",
       "      <th>proper_noun_ratio</th>\n",
       "      <th>punctuation_ratio</th>\n",
       "    </tr>\n",
       "  </thead>\n",
       "  <tbody>\n",
       "    <tr>\n",
       "      <th>0</th>\n",
       "      <td>4.737278</td>\n",
       "      <td>25.131579</td>\n",
       "      <td>0.463905</td>\n",
       "      <td>0.000000</td>\n",
       "      <td>0.011834</td>\n",
       "      <td>0.0</td>\n",
       "      <td>0.000000</td>\n",
       "      <td>0.004387</td>\n",
       "      <td>48.159824</td>\n",
       "      <td>0.136095</td>\n",
       "      <td>0.126627</td>\n",
       "      <td>0.057988</td>\n",
       "      <td>0.057988</td>\n",
       "      <td>0.102959</td>\n",
       "      <td>0.165680</td>\n",
       "      <td>0.020738</td>\n",
       "    </tr>\n",
       "    <tr>\n",
       "      <th>1</th>\n",
       "      <td>4.747504</td>\n",
       "      <td>25.030303</td>\n",
       "      <td>0.543509</td>\n",
       "      <td>0.000000</td>\n",
       "      <td>0.009986</td>\n",
       "      <td>0.0</td>\n",
       "      <td>0.000954</td>\n",
       "      <td>0.007393</td>\n",
       "      <td>54.114539</td>\n",
       "      <td>0.194009</td>\n",
       "      <td>0.119829</td>\n",
       "      <td>0.064194</td>\n",
       "      <td>0.052782</td>\n",
       "      <td>0.111270</td>\n",
       "      <td>0.102710</td>\n",
       "      <td>0.027427</td>\n",
       "    </tr>\n",
       "    <tr>\n",
       "      <th>2</th>\n",
       "      <td>4.934295</td>\n",
       "      <td>25.224138</td>\n",
       "      <td>0.469551</td>\n",
       "      <td>0.006410</td>\n",
       "      <td>0.006410</td>\n",
       "      <td>0.0</td>\n",
       "      <td>0.000519</td>\n",
       "      <td>0.002986</td>\n",
       "      <td>45.803364</td>\n",
       "      <td>0.196314</td>\n",
       "      <td>0.111378</td>\n",
       "      <td>0.085737</td>\n",
       "      <td>0.048878</td>\n",
       "      <td>0.081731</td>\n",
       "      <td>0.103365</td>\n",
       "      <td>0.028171</td>\n",
       "    </tr>\n",
       "    <tr>\n",
       "      <th>3</th>\n",
       "      <td>4.732852</td>\n",
       "      <td>23.222222</td>\n",
       "      <td>0.453069</td>\n",
       "      <td>0.001805</td>\n",
       "      <td>0.034296</td>\n",
       "      <td>0.0</td>\n",
       "      <td>0.000000</td>\n",
       "      <td>0.009747</td>\n",
       "      <td>52.086600</td>\n",
       "      <td>0.209386</td>\n",
       "      <td>0.120939</td>\n",
       "      <td>0.075812</td>\n",
       "      <td>0.027076</td>\n",
       "      <td>0.050542</td>\n",
       "      <td>0.124549</td>\n",
       "      <td>0.018276</td>\n",
       "    </tr>\n",
       "    <tr>\n",
       "      <th>4</th>\n",
       "      <td>5.104294</td>\n",
       "      <td>37.600000</td>\n",
       "      <td>0.595092</td>\n",
       "      <td>0.000000</td>\n",
       "      <td>0.000000</td>\n",
       "      <td>0.0</td>\n",
       "      <td>0.000000</td>\n",
       "      <td>0.005848</td>\n",
       "      <td>27.212727</td>\n",
       "      <td>0.257669</td>\n",
       "      <td>0.153374</td>\n",
       "      <td>0.049080</td>\n",
       "      <td>0.012270</td>\n",
       "      <td>0.067485</td>\n",
       "      <td>0.092025</td>\n",
       "      <td>0.021442</td>\n",
       "    </tr>\n",
       "  </tbody>\n",
       "</table>\n",
       "</div>"
      ],
      "text/plain": [
       "   average_word_length  average_sentence_length  vocabulary_richness  \\\n",
       "0             4.737278                25.131579             0.463905   \n",
       "1             4.747504                25.030303             0.543509   \n",
       "2             4.934295                25.224138             0.469551   \n",
       "3             4.732852                23.222222             0.453069   \n",
       "4             5.104294                37.600000             0.595092   \n",
       "\n",
       "   url_ratio  all_caps_ratio  exclamations_ratio  questions_ratio  \\\n",
       "0   0.000000        0.011834                 0.0         0.000000   \n",
       "1   0.000000        0.009986                 0.0         0.000954   \n",
       "2   0.006410        0.006410                 0.0         0.000519   \n",
       "3   0.001805        0.034296                 0.0         0.000000   \n",
       "4   0.000000        0.000000                 0.0         0.000000   \n",
       "\n",
       "   digits_ratio  flesch_reading_ease_score  noun_ratio  verb_ratio  \\\n",
       "0      0.004387                  48.159824    0.136095    0.126627   \n",
       "1      0.007393                  54.114539    0.194009    0.119829   \n",
       "2      0.002986                  45.803364    0.196314    0.111378   \n",
       "3      0.009747                  52.086600    0.209386    0.120939   \n",
       "4      0.005848                  27.212727    0.257669    0.153374   \n",
       "\n",
       "   adjective_ratio  adverb_ratio  pronoun_ratio  proper_noun_ratio  \\\n",
       "0         0.057988      0.057988       0.102959           0.165680   \n",
       "1         0.064194      0.052782       0.111270           0.102710   \n",
       "2         0.085737      0.048878       0.081731           0.103365   \n",
       "3         0.075812      0.027076       0.050542           0.124549   \n",
       "4         0.049080      0.012270       0.067485           0.092025   \n",
       "\n",
       "   punctuation_ratio  \n",
       "0           0.020738  \n",
       "1           0.027427  \n",
       "2           0.028171  \n",
       "3           0.018276  \n",
       "4           0.021442  "
      ]
     },
     "execution_count": 4,
     "metadata": {},
     "output_type": "execute_result"
    }
   ],
   "source": [
    "style_df = pd.read_csv('data/style_features.csv').drop(columns='label')\n",
    "style_df.head()"
   ]
  },
  {
   "cell_type": "code",
   "execution_count": 5,
   "id": "859f74c3-219a-4307-9e0a-393da9713809",
   "metadata": {},
   "outputs": [
    {
     "data": {
      "text/plain": [
       "(20546, 16)"
      ]
     },
     "execution_count": 5,
     "metadata": {},
     "output_type": "execute_result"
    }
   ],
   "source": [
    "style_df.shape"
   ]
  },
  {
   "cell_type": "code",
   "execution_count": 6,
   "id": "59409cdc-0f03-4d26-826d-c5b90ecdec28",
   "metadata": {},
   "outputs": [
    {
     "data": {
      "text/html": [
       "<div>\n",
       "<style scoped>\n",
       "    .dataframe tbody tr th:only-of-type {\n",
       "        vertical-align: middle;\n",
       "    }\n",
       "\n",
       "    .dataframe tbody tr th {\n",
       "        vertical-align: top;\n",
       "    }\n",
       "\n",
       "    .dataframe thead th {\n",
       "        text-align: right;\n",
       "    }\n",
       "</style>\n",
       "<table border=\"1\" class=\"dataframe\">\n",
       "  <thead>\n",
       "    <tr style=\"text-align: right;\">\n",
       "      <th></th>\n",
       "      <th>average_word_length</th>\n",
       "      <th>average_sentence_length</th>\n",
       "      <th>vocabulary_richness</th>\n",
       "      <th>url_ratio</th>\n",
       "      <th>all_caps_ratio</th>\n",
       "      <th>exclamations_ratio</th>\n",
       "      <th>questions_ratio</th>\n",
       "      <th>digits_ratio</th>\n",
       "      <th>flesch_reading_ease_score</th>\n",
       "      <th>noun_ratio</th>\n",
       "      <th>verb_ratio</th>\n",
       "      <th>adjective_ratio</th>\n",
       "      <th>adverb_ratio</th>\n",
       "      <th>pronoun_ratio</th>\n",
       "      <th>proper_noun_ratio</th>\n",
       "      <th>punctuation_ratio</th>\n",
       "    </tr>\n",
       "  </thead>\n",
       "  <tbody>\n",
       "    <tr>\n",
       "      <th>70</th>\n",
       "      <td>5.168563</td>\n",
       "      <td>156.875000</td>\n",
       "      <td>0.470397</td>\n",
       "      <td>0.001393</td>\n",
       "      <td>0.020664</td>\n",
       "      <td>0.000363</td>\n",
       "      <td>0.000109</td>\n",
       "      <td>0.004724</td>\n",
       "      <td>-82.845740</td>\n",
       "      <td>0.231251</td>\n",
       "      <td>0.141862</td>\n",
       "      <td>0.082656</td>\n",
       "      <td>0.027862</td>\n",
       "      <td>0.043650</td>\n",
       "      <td>0.204551</td>\n",
       "      <td>0.024567</td>\n",
       "    </tr>\n",
       "    <tr>\n",
       "      <th>167</th>\n",
       "      <td>6.909091</td>\n",
       "      <td>17.000000</td>\n",
       "      <td>1.000000</td>\n",
       "      <td>0.000000</td>\n",
       "      <td>0.000000</td>\n",
       "      <td>0.000000</td>\n",
       "      <td>0.000000</td>\n",
       "      <td>0.000000</td>\n",
       "      <td>-6.355000</td>\n",
       "      <td>0.090909</td>\n",
       "      <td>0.090909</td>\n",
       "      <td>0.090909</td>\n",
       "      <td>0.000000</td>\n",
       "      <td>0.000000</td>\n",
       "      <td>0.545455</td>\n",
       "      <td>0.065934</td>\n",
       "    </tr>\n",
       "    <tr>\n",
       "      <th>214</th>\n",
       "      <td>6.071429</td>\n",
       "      <td>46.000000</td>\n",
       "      <td>0.547619</td>\n",
       "      <td>0.000000</td>\n",
       "      <td>0.000000</td>\n",
       "      <td>0.000000</td>\n",
       "      <td>0.000000</td>\n",
       "      <td>0.000000</td>\n",
       "      <td>-19.782093</td>\n",
       "      <td>0.261905</td>\n",
       "      <td>0.166667</td>\n",
       "      <td>0.023810</td>\n",
       "      <td>0.095238</td>\n",
       "      <td>0.023810</td>\n",
       "      <td>0.214286</td>\n",
       "      <td>0.012945</td>\n",
       "    </tr>\n",
       "    <tr>\n",
       "      <th>655</th>\n",
       "      <td>5.081633</td>\n",
       "      <td>19.421053</td>\n",
       "      <td>0.387755</td>\n",
       "      <td>0.108844</td>\n",
       "      <td>0.040816</td>\n",
       "      <td>0.000000</td>\n",
       "      <td>0.002741</td>\n",
       "      <td>0.046806</td>\n",
       "      <td>-50.791259</td>\n",
       "      <td>0.197279</td>\n",
       "      <td>0.081633</td>\n",
       "      <td>0.064626</td>\n",
       "      <td>0.013605</td>\n",
       "      <td>0.027211</td>\n",
       "      <td>0.309524</td>\n",
       "      <td>0.104786</td>\n",
       "    </tr>\n",
       "    <tr>\n",
       "      <th>892</th>\n",
       "      <td>7.500000</td>\n",
       "      <td>2.000000</td>\n",
       "      <td>1.000000</td>\n",
       "      <td>0.000000</td>\n",
       "      <td>0.000000</td>\n",
       "      <td>0.000000</td>\n",
       "      <td>0.000000</td>\n",
       "      <td>0.000000</td>\n",
       "      <td>-6.695000</td>\n",
       "      <td>0.500000</td>\n",
       "      <td>0.000000</td>\n",
       "      <td>0.000000</td>\n",
       "      <td>0.000000</td>\n",
       "      <td>0.000000</td>\n",
       "      <td>0.500000</td>\n",
       "      <td>0.000000</td>\n",
       "    </tr>\n",
       "    <tr>\n",
       "      <th>...</th>\n",
       "      <td>...</td>\n",
       "      <td>...</td>\n",
       "      <td>...</td>\n",
       "      <td>...</td>\n",
       "      <td>...</td>\n",
       "      <td>...</td>\n",
       "      <td>...</td>\n",
       "      <td>...</td>\n",
       "      <td>...</td>\n",
       "      <td>...</td>\n",
       "      <td>...</td>\n",
       "      <td>...</td>\n",
       "      <td>...</td>\n",
       "      <td>...</td>\n",
       "      <td>...</td>\n",
       "      <td>...</td>\n",
       "    </tr>\n",
       "    <tr>\n",
       "      <th>20019</th>\n",
       "      <td>7.222222</td>\n",
       "      <td>10.000000</td>\n",
       "      <td>1.000000</td>\n",
       "      <td>0.000000</td>\n",
       "      <td>0.000000</td>\n",
       "      <td>0.000000</td>\n",
       "      <td>0.000000</td>\n",
       "      <td>0.000000</td>\n",
       "      <td>-12.785000</td>\n",
       "      <td>0.333333</td>\n",
       "      <td>0.111111</td>\n",
       "      <td>0.222222</td>\n",
       "      <td>0.000000</td>\n",
       "      <td>0.000000</td>\n",
       "      <td>0.222222</td>\n",
       "      <td>0.013699</td>\n",
       "    </tr>\n",
       "    <tr>\n",
       "      <th>20020</th>\n",
       "      <td>3.000000</td>\n",
       "      <td>5.000000</td>\n",
       "      <td>1.000000</td>\n",
       "      <td>0.333333</td>\n",
       "      <td>0.000000</td>\n",
       "      <td>0.000000</td>\n",
       "      <td>0.017857</td>\n",
       "      <td>0.035714</td>\n",
       "      <td>-8.725000</td>\n",
       "      <td>0.000000</td>\n",
       "      <td>0.000000</td>\n",
       "      <td>0.333333</td>\n",
       "      <td>0.000000</td>\n",
       "      <td>0.333333</td>\n",
       "      <td>0.000000</td>\n",
       "      <td>0.160714</td>\n",
       "    </tr>\n",
       "    <tr>\n",
       "      <th>20290</th>\n",
       "      <td>5.828947</td>\n",
       "      <td>60.666667</td>\n",
       "      <td>0.664474</td>\n",
       "      <td>0.000000</td>\n",
       "      <td>0.006579</td>\n",
       "      <td>0.000000</td>\n",
       "      <td>0.000000</td>\n",
       "      <td>0.023701</td>\n",
       "      <td>-2.711250</td>\n",
       "      <td>0.269737</td>\n",
       "      <td>0.039474</td>\n",
       "      <td>0.118421</td>\n",
       "      <td>0.006579</td>\n",
       "      <td>0.006579</td>\n",
       "      <td>0.190789</td>\n",
       "      <td>0.020055</td>\n",
       "    </tr>\n",
       "    <tr>\n",
       "      <th>20356</th>\n",
       "      <td>5.130769</td>\n",
       "      <td>35.750000</td>\n",
       "      <td>0.769231</td>\n",
       "      <td>0.000000</td>\n",
       "      <td>0.030769</td>\n",
       "      <td>0.000000</td>\n",
       "      <td>0.000000</td>\n",
       "      <td>0.007326</td>\n",
       "      <td>-6.282273</td>\n",
       "      <td>0.169231</td>\n",
       "      <td>0.107692</td>\n",
       "      <td>0.076923</td>\n",
       "      <td>0.023077</td>\n",
       "      <td>0.092308</td>\n",
       "      <td>0.207692</td>\n",
       "      <td>0.013431</td>\n",
       "    </tr>\n",
       "    <tr>\n",
       "      <th>20358</th>\n",
       "      <td>6.526316</td>\n",
       "      <td>30.000000</td>\n",
       "      <td>0.447368</td>\n",
       "      <td>0.026316</td>\n",
       "      <td>0.000000</td>\n",
       "      <td>0.000000</td>\n",
       "      <td>0.002375</td>\n",
       "      <td>0.035629</td>\n",
       "      <td>-66.843333</td>\n",
       "      <td>0.078947</td>\n",
       "      <td>0.026316</td>\n",
       "      <td>0.000000</td>\n",
       "      <td>0.000000</td>\n",
       "      <td>0.000000</td>\n",
       "      <td>0.736842</td>\n",
       "      <td>0.085511</td>\n",
       "    </tr>\n",
       "  </tbody>\n",
       "</table>\n",
       "<p>136 rows × 16 columns</p>\n",
       "</div>"
      ],
      "text/plain": [
       "       average_word_length  average_sentence_length  vocabulary_richness  \\\n",
       "70                5.168563               156.875000             0.470397   \n",
       "167               6.909091                17.000000             1.000000   \n",
       "214               6.071429                46.000000             0.547619   \n",
       "655               5.081633                19.421053             0.387755   \n",
       "892               7.500000                 2.000000             1.000000   \n",
       "...                    ...                      ...                  ...   \n",
       "20019             7.222222                10.000000             1.000000   \n",
       "20020             3.000000                 5.000000             1.000000   \n",
       "20290             5.828947                60.666667             0.664474   \n",
       "20356             5.130769                35.750000             0.769231   \n",
       "20358             6.526316                30.000000             0.447368   \n",
       "\n",
       "       url_ratio  all_caps_ratio  exclamations_ratio  questions_ratio  \\\n",
       "70      0.001393        0.020664            0.000363         0.000109   \n",
       "167     0.000000        0.000000            0.000000         0.000000   \n",
       "214     0.000000        0.000000            0.000000         0.000000   \n",
       "655     0.108844        0.040816            0.000000         0.002741   \n",
       "892     0.000000        0.000000            0.000000         0.000000   \n",
       "...          ...             ...                 ...              ...   \n",
       "20019   0.000000        0.000000            0.000000         0.000000   \n",
       "20020   0.333333        0.000000            0.000000         0.017857   \n",
       "20290   0.000000        0.006579            0.000000         0.000000   \n",
       "20356   0.000000        0.030769            0.000000         0.000000   \n",
       "20358   0.026316        0.000000            0.000000         0.002375   \n",
       "\n",
       "       digits_ratio  flesch_reading_ease_score  noun_ratio  verb_ratio  \\\n",
       "70         0.004724                 -82.845740    0.231251    0.141862   \n",
       "167        0.000000                  -6.355000    0.090909    0.090909   \n",
       "214        0.000000                 -19.782093    0.261905    0.166667   \n",
       "655        0.046806                 -50.791259    0.197279    0.081633   \n",
       "892        0.000000                  -6.695000    0.500000    0.000000   \n",
       "...             ...                        ...         ...         ...   \n",
       "20019      0.000000                 -12.785000    0.333333    0.111111   \n",
       "20020      0.035714                  -8.725000    0.000000    0.000000   \n",
       "20290      0.023701                  -2.711250    0.269737    0.039474   \n",
       "20356      0.007326                  -6.282273    0.169231    0.107692   \n",
       "20358      0.035629                 -66.843333    0.078947    0.026316   \n",
       "\n",
       "       adjective_ratio  adverb_ratio  pronoun_ratio  proper_noun_ratio  \\\n",
       "70            0.082656      0.027862       0.043650           0.204551   \n",
       "167           0.090909      0.000000       0.000000           0.545455   \n",
       "214           0.023810      0.095238       0.023810           0.214286   \n",
       "655           0.064626      0.013605       0.027211           0.309524   \n",
       "892           0.000000      0.000000       0.000000           0.500000   \n",
       "...                ...           ...            ...                ...   \n",
       "20019         0.222222      0.000000       0.000000           0.222222   \n",
       "20020         0.333333      0.000000       0.333333           0.000000   \n",
       "20290         0.118421      0.006579       0.006579           0.190789   \n",
       "20356         0.076923      0.023077       0.092308           0.207692   \n",
       "20358         0.000000      0.000000       0.000000           0.736842   \n",
       "\n",
       "       punctuation_ratio  \n",
       "70              0.024567  \n",
       "167             0.065934  \n",
       "214             0.012945  \n",
       "655             0.104786  \n",
       "892             0.000000  \n",
       "...                  ...  \n",
       "20019           0.013699  \n",
       "20020           0.160714  \n",
       "20290           0.020055  \n",
       "20356           0.013431  \n",
       "20358           0.085511  \n",
       "\n",
       "[136 rows x 16 columns]"
      ]
     },
     "execution_count": 6,
     "metadata": {},
     "output_type": "execute_result"
    }
   ],
   "source": [
    "style_df.loc[style_df['flesch_reading_ease_score']<0]"
   ]
  },
  {
   "cell_type": "code",
   "execution_count": 7,
   "id": "f41cf921-3a27-478b-b58f-e5c578d33018",
   "metadata": {},
   "outputs": [],
   "source": [
    "X = data['full_text_lemmatized'].astype(str)\n",
    "y = data['label']"
   ]
  },
  {
   "cell_type": "code",
   "execution_count": 8,
   "id": "7aab062d-cc59-4304-9eea-53c88e006bc1",
   "metadata": {},
   "outputs": [
    {
     "data": {
      "text/plain": [
       "label\n",
       "0    10387\n",
       "1    10159\n",
       "Name: count, dtype: int64"
      ]
     },
     "execution_count": 8,
     "metadata": {},
     "output_type": "execute_result"
    }
   ],
   "source": [
    "y.value_counts()"
   ]
  },
  {
   "cell_type": "code",
   "execution_count": 9,
   "id": "57fccf2c-2c05-4d67-9b80-2d0b5352edfa",
   "metadata": {},
   "outputs": [],
   "source": [
    "# quite balanced labels"
   ]
  },
  {
   "cell_type": "markdown",
   "id": "2ad98d2f-7eeb-481d-a66b-4b62b8b9fe07",
   "metadata": {},
   "source": [
    "## Train-Test Split"
   ]
  },
  {
   "cell_type": "code",
   "execution_count": 10,
   "id": "de72ff41-a36a-47db-bb1e-d8cbbe370dd3",
   "metadata": {},
   "outputs": [],
   "source": [
    "X_train_text, X_test_text, y_train, y_test = train_test_split(X, y, test_size=0.2, random_state=42, stratify=y)"
   ]
  },
  {
   "cell_type": "code",
   "execution_count": 11,
   "id": "06a27230-6ff4-4796-ae46-f4da8a7efd2a",
   "metadata": {},
   "outputs": [],
   "source": [
    "X_train_style = style_df.loc[X_train_text.index].values\n",
    "X_test_style = style_df.loc[X_test_text.index].values"
   ]
  },
  {
   "cell_type": "markdown",
   "id": "6c8d53ec-edb0-4388-a2f9-003cddcba262",
   "metadata": {},
   "source": [
    "## TF-IDF Features"
   ]
  },
  {
   "cell_type": "code",
   "execution_count": 12,
   "id": "a140f994-1ada-4f9b-a963-eb55df177caf",
   "metadata": {},
   "outputs": [],
   "source": [
    "# sparse matrices are obtained"
   ]
  },
  {
   "cell_type": "code",
   "execution_count": 13,
   "id": "8418ae2b-5dba-472d-b565-71a6afabd4fc",
   "metadata": {},
   "outputs": [],
   "source": [
    "tfidf = TfidfVectorizer(ngram_range=(1,3), max_features=50000)\n",
    "X_train_tfidf = tfidf.fit_transform(X_train_text)\n",
    "X_test_tfidf = tfidf.transform(X_test_text)"
   ]
  },
  {
   "cell_type": "code",
   "execution_count": 14,
   "id": "840162c3-7406-45b3-9dc1-13b536ce3a31",
   "metadata": {},
   "outputs": [
    {
     "data": {
      "text/plain": [
       "['artifacts/tfidf_vectorizer.pkl']"
      ]
     },
     "execution_count": 14,
     "metadata": {},
     "output_type": "execute_result"
    }
   ],
   "source": [
    "joblib.dump(tfidf, 'artifacts/tfidf_vectorizer.pkl')"
   ]
  },
  {
   "cell_type": "markdown",
   "id": "74519862-5ab8-498e-a374-d957ce53689c",
   "metadata": {},
   "source": [
    "# Baseline Models"
   ]
  },
  {
   "cell_type": "markdown",
   "id": "e987036c-0b71-49ce-b52a-38d3093da819",
   "metadata": {},
   "source": [
    "* Linear models are better compared to tree-based models when the data is very high-dimensional and sparse. Since, models like decision trees, random forest, and boosting models, do not scale well on such data.\n",
    "* So, we will use Logistic Regression, Naive Bayes, and Linear SVM as baselines."
   ]
  },
  {
   "cell_type": "code",
   "execution_count": 15,
   "id": "dcbd101c-3c23-4566-91cc-ae223f12721a",
   "metadata": {},
   "outputs": [],
   "source": [
    "models = {\n",
    "    'Logistic Regression': LogisticRegression(max_iter=1000, n_jobs=-1, random_state=42),\n",
    "    'Naive Bayes': MultinomialNB(),\n",
    "    'Linear SVM': LinearSVC(random_state=42)\n",
    "}"
   ]
  },
  {
   "cell_type": "code",
   "execution_count": 16,
   "id": "90f096eb-a76c-4b8e-90ce-ecade6e20cb1",
   "metadata": {},
   "outputs": [],
   "source": [
    "def evaluate_model(name, model, X_train, y_train, X_test, y_test):\n",
    "    model.fit(X_train, y_train)\n",
    "    y_pred = model.predict(X_test)\n",
    "    print(f\"\\n\\n==================== {name} ====================\\n\")\n",
    "    accuracy = accuracy_score(y_test, y_pred)\n",
    "    print(f\"Test Accuracy:{accuracy*100:.1f}%\\n\")\n",
    "    print(classification_report(y_test, y_pred))\n",
    "    cm = confusion_matrix(y_test, y_pred)\n",
    "    fig, ax = plt.subplots(figsize=(3,3))\n",
    "    disp = ConfusionMatrixDisplay(confusion_matrix=cm, display_labels=['real','fake'])\n",
    "    disp.plot(cmap='Blues', colorbar=False, ax=ax)\n",
    "    plt.title(f'Confusion matrix for {name}')\n",
    "    plt.show()\n",
    "    return model,accuracy"
   ]
  },
  {
   "cell_type": "markdown",
   "id": "e4dee423-67ab-4ad4-9be6-9b95aea65276",
   "metadata": {},
   "source": [
    "## TF-IDF Only"
   ]
  },
  {
   "cell_type": "code",
   "execution_count": 17,
   "id": "80edd4bc-b6ca-4f34-9350-f3dacfb41133",
   "metadata": {},
   "outputs": [
    {
     "name": "stdout",
     "output_type": "stream",
     "text": [
      "\n",
      "\n",
      "==================== Logistic Regression ====================\n",
      "\n",
      "Test Accuracy:94.6%\n",
      "\n",
      "              precision    recall  f1-score   support\n",
      "\n",
      "           0       0.95      0.95      0.95      2078\n",
      "           1       0.95      0.94      0.95      2032\n",
      "\n",
      "    accuracy                           0.95      4110\n",
      "   macro avg       0.95      0.95      0.95      4110\n",
      "weighted avg       0.95      0.95      0.95      4110\n",
      "\n"
     ]
    },
    {
     "data": {
      "image/png": "[encoded data removed]",
      "text/plain": [
       "<Figure size 300x300 with 1 Axes>"
      ]
     },
     "metadata": {},
     "output_type": "display_data"
    },
    {
     "name": "stdout",
     "output_type": "stream",
     "text": [
      "\n",
      "\n",
      "==================== Naive Bayes ====================\n",
      "\n",
      "Test Accuracy:89.6%\n",
      "\n",
      "              precision    recall  f1-score   support\n",
      "\n",
      "           0       0.84      0.99      0.91      2078\n",
      "           1       0.98      0.80      0.88      2032\n",
      "\n",
      "    accuracy                           0.90      4110\n",
      "   macro avg       0.91      0.90      0.90      4110\n",
      "weighted avg       0.91      0.90      0.90      4110\n",
      "\n"
     ]
    },
    {
     "data": {
      "image/png": "[encoded data removed]",
      "text/plain": [
       "<Figure size 300x300 with 1 Axes>"
      ]
     },
     "metadata": {},
     "output_type": "display_data"
    },
    {
     "name": "stdout",
     "output_type": "stream",
     "text": [
      "\n",
      "\n",
      "==================== Linear SVM ====================\n",
      "\n",
      "Test Accuracy:96.3%\n",
      "\n",
      "              precision    recall  f1-score   support\n",
      "\n",
      "           0       0.96      0.96      0.96      2078\n",
      "           1       0.96      0.96      0.96      2032\n",
      "\n",
      "    accuracy                           0.96      4110\n",
      "   macro avg       0.96      0.96      0.96      4110\n",
      "weighted avg       0.96      0.96      0.96      4110\n",
      "\n"
     ]
    },
    {
     "data": {
      "image/png": "[encoded data removed]",
      "text/plain": [
       "<Figure size 300x300 with 1 Axes>"
      ]
     },
     "metadata": {},
     "output_type": "display_data"
    }
   ],
   "source": [
    "models_trained = {}\n",
    "for name, model in models.items():\n",
    "    fitted_model, accuracy = evaluate_model(name, model, X_train_tfidf, y_train, X_test_tfidf, y_test)\n",
    "    models_trained[name+\" Tfidf\"] = {'fitted_model': fitted_model, 'test_accuracy':accuracy}"
   ]
  },
  {
   "cell_type": "markdown",
   "id": "8f63c2a5-bc12-4eaa-89d7-1147d1109d77",
   "metadata": {},
   "source": [
    "## TF-IDF + Style Features"
   ]
  },
  {
   "cell_type": "code",
   "execution_count": 18,
   "id": "acaeffa1-797f-4505-a8ab-e1c35a4f0dc5",
   "metadata": {},
   "outputs": [
    {
     "data": {
      "text/plain": [
       "['artifacts/scaler.pkl']"
      ]
     },
     "execution_count": 18,
     "metadata": {},
     "output_type": "execute_result"
    }
   ],
   "source": [
    "scaler = MinMaxScaler()\n",
    "X_train_style_scaled = scaler.fit_transform(X_train_style)\n",
    "X_test_style_scaled = scaler.transform(X_test_style)\n",
    "joblib.dump(scaler, 'artifacts/scaler.pkl')"
   ]
  },
  {
   "cell_type": "code",
   "execution_count": 19,
   "id": "dac4a47a-ee9a-4e29-9d73-6694947276eb",
   "metadata": {},
   "outputs": [],
   "source": [
    "# combining sparse tfidf with dense scaled style features\n",
    "X_train_combined_scaled = hstack([X_train_tfidf, X_train_style_scaled])\n",
    "X_test_combined_scaled = hstack([X_test_tfidf, X_test_style_scaled])"
   ]
  },
  {
   "cell_type": "code",
   "execution_count": 20,
   "id": "1092c991-a909-42e6-9e41-9db56e4ade7f",
   "metadata": {},
   "outputs": [
    {
     "name": "stdout",
     "output_type": "stream",
     "text": [
      "\n",
      "\n",
      "==================== Logistic Regression ====================\n",
      "\n",
      "Test Accuracy:94.7%\n",
      "\n",
      "              precision    recall  f1-score   support\n",
      "\n",
      "           0       0.95      0.95      0.95      2078\n",
      "           1       0.95      0.95      0.95      2032\n",
      "\n",
      "    accuracy                           0.95      4110\n",
      "   macro avg       0.95      0.95      0.95      4110\n",
      "weighted avg       0.95      0.95      0.95      4110\n",
      "\n"
     ]
    },
    {
     "data": {
      "image/png": "[encoded data removed]",
      "text/plain": [
       "<Figure size 300x300 with 1 Axes>"
      ]
     },
     "metadata": {},
     "output_type": "display_data"
    },
    {
     "name": "stdout",
     "output_type": "stream",
     "text": [
      "\n",
      "\n",
      "==================== Naive Bayes ====================\n",
      "\n",
      "Test Accuracy:92.1%\n",
      "\n",
      "              precision    recall  f1-score   support\n",
      "\n",
      "           0       0.88      0.98      0.93      2078\n",
      "           1       0.98      0.86      0.92      2032\n",
      "\n",
      "    accuracy                           0.92      4110\n",
      "   macro avg       0.93      0.92      0.92      4110\n",
      "weighted avg       0.93      0.92      0.92      4110\n",
      "\n"
     ]
    },
    {
     "data": {
      "image/png": "[encoded data removed]",
      "text/plain": [
       "<Figure size 300x300 with 1 Axes>"
      ]
     },
     "metadata": {},
     "output_type": "display_data"
    },
    {
     "name": "stdout",
     "output_type": "stream",
     "text": [
      "\n",
      "\n",
      "==================== Linear SVM ====================\n",
      "\n",
      "Test Accuracy:96.5%\n",
      "\n",
      "              precision    recall  f1-score   support\n",
      "\n",
      "           0       0.97      0.96      0.97      2078\n",
      "           1       0.96      0.97      0.96      2032\n",
      "\n",
      "    accuracy                           0.97      4110\n",
      "   macro avg       0.97      0.97      0.97      4110\n",
      "weighted avg       0.97      0.97      0.97      4110\n",
      "\n"
     ]
    },
    {
     "data": {
      "image/png": "[encoded data removed]",
      "text/plain": [
       "<Figure size 300x300 with 1 Axes>"
      ]
     },
     "metadata": {},
     "output_type": "display_data"
    }
   ],
   "source": [
    "for name, model in models.items():\n",
    "    fitted_model, accuracy = evaluate_model(name, model, X_train_combined_scaled, y_train, X_test_combined_scaled, y_test)\n",
    "    models_trained[name+\" Combined\"] = {'fitted_model': fitted_model, 'test_accuracy':accuracy}"
   ]
  },
  {
   "cell_type": "markdown",
   "id": "2754ef53-6dff-401f-b2cf-03b37b901ddb",
   "metadata": {},
   "source": [
    "## Save Best Model"
   ]
  },
  {
   "cell_type": "code",
   "execution_count": 21,
   "id": "70986796-a9fa-4297-892b-8a7b1929b9d8",
   "metadata": {},
   "outputs": [
    {
     "name": "stdout",
     "output_type": "stream",
     "text": [
      "Best baseline model: Linear SVM Combined\n",
      "Best test accuracy: 0.9652068126520681\n"
     ]
    }
   ],
   "source": [
    "max_accuracy = float('-inf')\n",
    "best_model_name = None\n",
    "for name, model_info in models_trained.items():\n",
    "    if model_info['test_accuracy'] > max_accuracy:\n",
    "        max_accuracy = model_info['test_accuracy']\n",
    "        best_model_name = name\n",
    "print(f\"Best baseline model: {best_model_name}\\nBest test accuracy: {max_accuracy}\")"
   ]
  },
  {
   "cell_type": "markdown",
   "id": "0f28aabf-9030-4923-877c-b6cf2ff3cae0",
   "metadata": {},
   "source": [
    "* As understood from the distribution plots for the stylometric features, they don't contribute significantly in the classification of news, but they do provide minute information which have helped all the 3 models perform slightly better.\n",
    "* With both TF-IDF only and combined datasets, Linear SVC performed the best in terms of accuracy and average precision, recall, and f1-score.\n",
    "* The improvement observed after including the scaled stylometric features were almost negligible for logistic regression and linear svc (0.1% and 0.2% increase, respectively), but slightly appreciable for naive bayes (2.5% increase). Naive bayes was also better at detecting real news than the other 2 models, but not so at identifying the fake ones."
   ]
  },
  {
   "cell_type": "code",
   "execution_count": 22,
   "id": "7d7821b0-cf20-4b41-a2d7-6063a10f7d20",
   "metadata": {},
   "outputs": [
    {
     "data": {
      "text/plain": [
       "['artifacts/fake_news_baseline_classifier.pkl']"
      ]
     },
     "execution_count": 22,
     "metadata": {},
     "output_type": "execute_result"
    }
   ],
   "source": [
    "joblib.dump(models_trained[best_model_name]['fitted_model'], 'artifacts/fake_news_baseline_classifier.pkl')"
   ]
  }
 ],
 "metadata": {
  "kernelspec": {
   "display_name": "Python 3 (ipykernel)",
   "language": "python",
   "name": "python3"
  },
  "language_info": {
   "codemirror_mode": {
    "name": "ipython",
    "version": 3
   },
   "file_extension": ".py",
   "mimetype": "text/x-python",
   "name": "python",
   "nbconvert_exporter": "python",
   "pygments_lexer": "ipython3",
   "version": "3.12.6"
  }
 },
 "nbformat": 4,
 "nbformat_minor": 5
}
