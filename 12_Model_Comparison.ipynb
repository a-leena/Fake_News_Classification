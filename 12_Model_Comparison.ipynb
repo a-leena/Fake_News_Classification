{
 "cells": [
  {
   "cell_type": "code",
   "execution_count": 1,
   "id": "9d498613-af53-4610-b0ea-af35ab4a3755",
   "metadata": {},
   "outputs": [],
   "source": [
    "import numpy as np\n",
    "import pandas as pd\n",
    "from sklearn.model_selection import train_test_split\n",
    "from sklearn.preprocessing import MinMaxScaler\n",
    "from sklearn.metrics import accuracy_score\n",
    "from scipy.sparse import hstack\n",
    "import matplotlib.pyplot as plt\n",
    "from keras.models import load_model\n",
    "from keras.optimizers import Adam\n",
    "import joblib\n",
    "import pickle"
   ]
  },
  {
   "cell_type": "markdown",
   "id": "13e2a04a-8f13-4268-a8c5-2e618a294113",
   "metadata": {},
   "source": [
    "# Load Test Data"
   ]
  },
  {
   "cell_type": "code",
   "execution_count": 2,
   "id": "9ce656de-f8ce-4a62-96b4-2e6b170bc2f7",
   "metadata": {},
   "outputs": [],
   "source": [
    "# Inputs for TF-IDF trained models\n",
    "data = pd.read_csv('data/fulltext_preprocessed_data.csv')\n",
    "style_df = pd.read_csv('data/style_features.csv').drop(columns='label')\n",
    "X = data['full_text_lemmatized'].astype(str)\n",
    "y = data['label']\n",
    "\n",
    "X_train_text, X_test_text, _, y_test_full = train_test_split(X, y, test_size=0.2, random_state=42, stratify=y)\n",
    "X_test_style = style_df.loc[X_test_text.index].values\n",
    "\n",
    "tfidf = joblib.load('artifacts/tfidf_vectorizer.pkl')\n",
    "X_test_tfidf = tfidf.transform(X_test_text)\n",
    "\n",
    "scaler = joblib.load('artifacts/scaler.pkl')\n",
    "X_test_style_scaled = scaler.transform(X_test_style)\n",
    "\n",
    "X_test_combined_scaled = hstack([X_test_tfidf, X_test_style_scaled])"
   ]
  },
  {
   "cell_type": "code",
   "execution_count": 3,
   "id": "be3195c4-cb2b-48ce-8a48-a9940b2612d4",
   "metadata": {},
   "outputs": [],
   "source": [
    "# Inputs for Word Embeddings trained models\n",
    "with open('artifacts/pretrained_embeddings_inputs.pkl', 'rb') as f:\n",
    "    loaded_input_items = pickle.load(f)\n",
    "X_test_pad = loaded_input_items['X_test_pad']\n",
    "y_test = loaded_input_items['y_test']"
   ]
  },
  {
   "cell_type": "markdown",
   "id": "4bed8667-b545-4be6-828f-7f96021c523e",
   "metadata": {},
   "source": [
    "# Load Models"
   ]
  },
  {
   "cell_type": "code",
   "execution_count": 4,
   "id": "6a0dc36f-ef9b-44ea-b6fc-5cba9ce62a28",
   "metadata": {},
   "outputs": [],
   "source": [
    "# dictionary of model names and saved model paths\n",
    "model_paths = {\n",
    "    'Baseline (TF-IDF + custom stylometric)': 'fake_news_baseline_classifier.pkl',\n",
    "    'ANN (TF-IDF + custom stylometric)': 'tfidf_ann.keras',\n",
    "    'Tuned CNN (custom Word2Vec embeddings)': 'tuned_cnn.keras',\n",
    "    'LSTM (custom Word2Vec embeddings)': 'simple_lstm.keras',\n",
    "    'GRU (custom Word2Vec embeddings)': 'simple_gru.keras',\n",
    "    'CNN (GloVE embeddings)': 'pretrained_cnn.keras',\n",
    "    'GRU (GloVE embeddings)': 'pretrained_gru.keras'\n",
    "}"
   ]
  },
  {
   "cell_type": "code",
   "execution_count": 5,
   "id": "446e9d5d-04e2-4dff-8fa6-05f803348201",
   "metadata": {},
   "outputs": [
    {
     "name": "stdout",
     "output_type": "stream",
     "text": [
      "Baseline (TF-IDF + custom stylometric) artifacts/fake_news_baseline_classifier.pkl\n",
      "ANN (TF-IDF + custom stylometric) artifacts/tfidf_ann.keras\n",
      "Tuned CNN (custom Word2Vec embeddings) artifacts/tuned_cnn.keras\n"
     ]
    },
    {
     "name": "stderr",
     "output_type": "stream",
     "text": [
      "C:\\Users\\aleen\\AppData\\Local\\Programs\\Python\\Python312\\Lib\\site-packages\\keras\\src\\saving\\saving_lib.py:797: UserWarning: Skipping variable loading for optimizer 'adam', because it has 16 variables whereas the saved optimizer has 2 variables. \n",
      "  saveable.load_own_variables(weights_store.get(inner_path))\n"
     ]
    },
    {
     "name": "stdout",
     "output_type": "stream",
     "text": [
      "LSTM (custom Word2Vec embeddings) artifacts/simple_lstm.keras\n"
     ]
    },
    {
     "name": "stderr",
     "output_type": "stream",
     "text": [
      "C:\\Users\\aleen\\AppData\\Local\\Programs\\Python\\Python312\\Lib\\site-packages\\keras\\src\\saving\\saving_lib.py:797: UserWarning: Skipping variable loading for optimizer 'adam', because it has 16 variables whereas the saved optimizer has 20 variables. \n",
      "  saveable.load_own_variables(weights_store.get(inner_path))\n"
     ]
    },
    {
     "name": "stdout",
     "output_type": "stream",
     "text": [
      "GRU (custom Word2Vec embeddings) artifacts/simple_gru.keras\n",
      "CNN (GloVE embeddings) artifacts/pretrained_cnn.keras\n",
      "GRU (GloVE embeddings) artifacts/pretrained_gru.keras\n"
     ]
    }
   ],
   "source": [
    "models = {}\n",
    "for name, path in model_paths.items():\n",
    "    model_path = 'artifacts/'+path\n",
    "    print(name, model_path)\n",
    "    if 'Baseline' in name:\n",
    "        models[name] = joblib.load(model_path)\n",
    "    else:\n",
    "        models[name] = load_model(model_path)\n",
    "        models[name].compile(optimizer=Adam(learning_rate=0.001), \n",
    "                      loss='binary_crossentropy',\n",
    "                      metrics=['accuracy'])"
   ]
  },
  {
   "cell_type": "markdown",
   "id": "bbcec7be-88cb-4993-9815-c4ac5bd38b73",
   "metadata": {},
   "source": [
    "# Plot Model Performances"
   ]
  },
  {
   "cell_type": "code",
   "execution_count": 6,
   "id": "81abf5f7-9f5d-492a-9bdd-addafbcbdda6",
   "metadata": {},
   "outputs": [
    {
     "name": "stdout",
     "output_type": "stream",
     "text": [
      "Baseline (TF-IDF + custom stylometric)\n",
      "ANN (TF-IDF + custom stylometric)\n",
      "Tuned CNN (custom Word2Vec embeddings)\n",
      "LSTM (custom Word2Vec embeddings)\n",
      "GRU (custom Word2Vec embeddings)\n",
      "CNN (GloVE embeddings)\n",
      "GRU (GloVE embeddings)\n"
     ]
    }
   ],
   "source": [
    "model_accuracies = {}\n",
    "for name, model in models.items():\n",
    "    print(name)\n",
    "    if 'Baseline' in name:\n",
    "        y_pred = model.predict(X_test_combined_scaled)\n",
    "        model_accuracies[name] = accuracy_score(y_test_full, y_pred)\n",
    "    elif 'ANN' in name:\n",
    "        model_accuracies[name] = model.evaluate(X_test_combined_scaled, y_test_full, verbose=0)[1]\n",
    "    else:\n",
    "        model_accuracies[name] = model.evaluate(X_test_pad, y_test, verbose=0)[1]"
   ]
  },
  {
   "cell_type": "code",
   "execution_count": 7,
   "id": "851b94d9-01af-4c37-b62a-494f19ff646e",
   "metadata": {},
   "outputs": [
    {
     "name": "stdout",
     "output_type": "stream",
     "text": [
      "{'Baseline (TF-IDF + custom stylometric)': 0.9652068126520681, 'ANN (TF-IDF + custom stylometric)': 0.954501211643219, 'Tuned CNN (custom Word2Vec embeddings)': 0.9627737402915955, 'LSTM (custom Word2Vec embeddings)': 0.9552311301231384, 'GRU (custom Word2Vec embeddings)': 0.9630170464515686, 'CNN (GloVE embeddings)': 0.9579075574874878, 'GRU (GloVE embeddings)': 0.9479318857192993}\n"
     ]
    }
   ],
   "source": [
    "print(model_accuracies)"
   ]
  },
  {
   "cell_type": "code",
   "execution_count": 20,
   "id": "725dd608-14b1-4bd9-9e04-52c4a7324252",
   "metadata": {},
   "outputs": [
    {
     "data": {
      "image/png": "[encoded data removed]",
      "text/plain": [
       "<Figure size 1000x600 with 1 Axes>"
      ]
     },
     "metadata": {},
     "output_type": "display_data"
    }
   ],
   "source": [
    "plt.figure(figsize=(10,6))\n",
    "labels = [\n",
    "    \"Baseline\\n(TF-IDF+style)\",\n",
    "    \"ANN\\n(TF-IDF+style)\",\n",
    "    \"Tuned CNN\\n(Word2Vec)\",\n",
    "    \"LSTM\\n(Word2Vec)\",\n",
    "    \"GRU\\n(Word2Vec)\",\n",
    "    \"CNN\\n(GloVe)\",\n",
    "    \"GRU\\n(GloVe)\"\n",
    "]\n",
    "plt.bar(labels, [np.round(val*100, 1) for val in model_accuracies.values()], color='skyblue')\n",
    "plt.ylabel(\"Accuracy\")\n",
    "plt.ylim(90, 100)\n",
    "plt.title(\"Model Comparison on Fake News Classification\")\n",
    "plt.grid(True)\n",
    "plt.tight_layout()\n",
    "plt.savefig('model_comparison.png', dpi=720)\n",
    "plt.show()"
   ]
  }
 ],
 "metadata": {
  "kernelspec": {
   "display_name": "Python 3 (ipykernel)",
   "language": "python",
   "name": "python3"
  },
  "language_info": {
   "codemirror_mode": {
    "name": "ipython",
    "version": 3
   },
   "file_extension": ".py",
   "mimetype": "text/x-python",
   "name": "python",
   "nbconvert_exporter": "python",
   "pygments_lexer": "ipython3",
   "version": "3.12.6"
  }
 },
 "nbformat": 4,
 "nbformat_minor": 5
}
