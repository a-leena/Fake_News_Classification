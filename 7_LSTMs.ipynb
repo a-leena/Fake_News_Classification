{
 "cells": [
  {
   "cell_type": "code",
   "execution_count": 1,
   "id": "e807dcab-8988-43ba-95de-b47926314e92",
   "metadata": {
    "execution": {
     "iopub.execute_input": "2025-09-22T07:51:20.911381Z",
     "iopub.status.busy": "2025-09-22T07:51:20.911198Z",
     "iopub.status.idle": "2025-09-22T07:51:36.229588Z",
     "shell.execute_reply": "2025-09-22T07:51:36.228990Z",
     "shell.execute_reply.started": "2025-09-22T07:51:20.911364Z"
    }
   },
   "outputs": [
    {
     "name": "stderr",
     "output_type": "stream",
     "text": [
      "2025-09-22 07:51:24.493546: E external/local_xla/xla/stream_executor/cuda/cuda_fft.cc:477] Unable to register cuFFT factory: Attempting to register factory for plugin cuFFT when one has already been registered\n",
      "WARNING: All log messages before absl::InitializeLog() is called are written to STDERR\n",
      "E0000 00:00:1758527484.677370      36 cuda_dnn.cc:8310] Unable to register cuDNN factory: Attempting to register factory for plugin cuDNN when one has already been registered\n",
      "E0000 00:00:1758527484.739046      36 cuda_blas.cc:1418] Unable to register cuBLAS factory: Attempting to register factory for plugin cuBLAS when one has already been registered\n"
     ]
    }
   ],
   "source": [
    "import pandas as pd\n",
    "import pickle\n",
    "import keras\n",
    "from keras.models import Sequential\n",
    "from keras.layers import Input, Embedding, LSTM, Bidirectional, Dense, Dropout\n",
    "from keras.optimizers import Adam\n",
    "from keras.callbacks import EarlyStopping\n",
    "import keras_tuner as kt\n",
    "from sklearn.metrics import classification_report, confusion_matrix, ConfusionMatrixDisplay"
   ]
  },
  {
   "cell_type": "code",
   "execution_count": 2,
   "id": "1743ab23-7b1e-4d20-9bf4-835f6ef038a9",
   "metadata": {
    "execution": {
     "iopub.execute_input": "2025-09-22T07:51:39.836359Z",
     "iopub.status.busy": "2025-09-22T07:51:39.835851Z",
     "iopub.status.idle": "2025-09-22T07:51:39.893317Z",
     "shell.execute_reply": "2025-09-22T07:51:39.892770Z",
     "shell.execute_reply.started": "2025-09-22T07:51:39.836334Z"
    }
   },
   "outputs": [],
   "source": [
    "from tensorflow.keras import mixed_precision\n",
    "mixed_precision.set_global_policy(\"mixed_float16\")"
   ]
  },
  {
   "cell_type": "code",
   "execution_count": 3,
   "id": "d0c7f199-3090-456a-b7ae-718f4ac722e2",
   "metadata": {
    "execution": {
     "iopub.execute_input": "2025-09-22T07:51:40.145840Z",
     "iopub.status.busy": "2025-09-22T07:51:40.145603Z",
     "iopub.status.idle": "2025-09-22T07:51:40.149319Z",
     "shell.execute_reply": "2025-09-22T07:51:40.148686Z",
     "shell.execute_reply.started": "2025-09-22T07:51:40.145821Z"
    }
   },
   "outputs": [],
   "source": [
    "EPOCHS=20\n",
    "BATCH_SIZE=64\n",
    "PATIENCE=5"
   ]
  },
  {
   "cell_type": "code",
   "execution_count": 4,
   "id": "d530bccb-9b29-4b19-a242-d59632f65b1e",
   "metadata": {
    "execution": {
     "iopub.execute_input": "2025-09-22T07:51:45.716873Z",
     "iopub.status.busy": "2025-09-22T07:51:45.716589Z",
     "iopub.status.idle": "2025-09-22T07:51:45.721066Z",
     "shell.execute_reply": "2025-09-22T07:51:45.719827Z",
     "shell.execute_reply.started": "2025-09-22T07:51:45.716848Z"
    }
   },
   "outputs": [],
   "source": [
    "BASE_IN = '/kaggle/input/'\n",
    "BASE_OUT = '/kaggle/working/'"
   ]
  },
  {
   "cell_type": "markdown",
   "id": "017511a8-38fa-4e6b-b94d-aa6ebf2fec37",
   "metadata": {},
   "source": [
    "# Load Embeddings & Inputs"
   ]
  },
  {
   "cell_type": "code",
   "execution_count": 5,
   "id": "36de8b62-4aff-4d22-a122-dfc8f058b23b",
   "metadata": {
    "execution": {
     "iopub.execute_input": "2025-09-22T07:51:47.814100Z",
     "iopub.status.busy": "2025-09-22T07:51:47.813642Z",
     "iopub.status.idle": "2025-09-22T07:51:50.094512Z",
     "shell.execute_reply": "2025-09-22T07:51:50.093902Z",
     "shell.execute_reply.started": "2025-09-22T07:51:47.814076Z"
    }
   },
   "outputs": [],
   "source": [
    "with open(BASE_IN+'artifacts/embeddings_inputs.pkl', 'rb') as f:\n",
    "    loaded_input_items = pickle.load(f)"
   ]
  },
  {
   "cell_type": "code",
   "execution_count": 6,
   "id": "eb8683d5-5fe2-4804-ac40-65fe48ecf8d3",
   "metadata": {
    "execution": {
     "iopub.execute_input": "2025-09-22T07:51:50.095713Z",
     "iopub.status.busy": "2025-09-22T07:51:50.095473Z",
     "iopub.status.idle": "2025-09-22T07:51:50.099583Z",
     "shell.execute_reply": "2025-09-22T07:51:50.098832Z",
     "shell.execute_reply.started": "2025-09-22T07:51:50.095695Z"
    }
   },
   "outputs": [],
   "source": [
    "embedding_matrix = loaded_input_items['embedding_matrix']\n",
    "X_train_pad = loaded_input_items['X_train_pad']\n",
    "X_val_pad = loaded_input_items['X_val_pad']\n",
    "X_test_pad = loaded_input_items['X_test_pad']\n",
    "y_train = loaded_input_items['y_train']\n",
    "y_val = loaded_input_items['y_val']\n",
    "y_test = loaded_input_items['y_test']"
   ]
  },
  {
   "cell_type": "code",
   "execution_count": 7,
   "id": "0e1f33fa-5efe-4307-8ed3-a06db25a4ac0",
   "metadata": {
    "execution": {
     "iopub.execute_input": "2025-09-22T07:51:50.565018Z",
     "iopub.status.busy": "2025-09-22T07:51:50.564704Z",
     "iopub.status.idle": "2025-09-22T07:51:50.570016Z",
     "shell.execute_reply": "2025-09-22T07:51:50.568993Z",
     "shell.execute_reply.started": "2025-09-22T07:51:50.564994Z"
    }
   },
   "outputs": [
    {
     "name": "stdout",
     "output_type": "stream",
     "text": [
      "Embedding dimension: 500\n",
      "Vocab size: 35756\n",
      "Maximum input length: 588\n"
     ]
    }
   ],
   "source": [
    "VOCAB_SIZE = embedding_matrix.shape[0]\n",
    "EMBEDDING_DIM = embedding_matrix.shape[1]\n",
    "MAX_LEN = len(X_train_pad[0])\n",
    "print(f\"Embedding dimension: {EMBEDDING_DIM}\\nVocab size: {VOCAB_SIZE}\\nMaximum input length: {MAX_LEN}\")"
   ]
  },
  {
   "cell_type": "markdown",
   "id": "639574fe-8afd-4105-ad4b-7ef32c4b7e47",
   "metadata": {},
   "source": [
    "# LSTM"
   ]
  },
  {
   "cell_type": "markdown",
   "id": "d21e3bb9-37e5-443d-b4e7-19904a731983",
   "metadata": {},
   "source": [
    "* Each LSTM unit (that repeats for each time step) has 4 neural network layers interacting within.\n",
    "* We have forget gate ($f_{t}$), input gate ($i_{t}$), and output gate ($o_{t}$), all of which are aggregations of the previous time step's hidden state and current time step's input with different weight matrices (and associated bias vectors). All these gates usually use sigmoid activation to output values between 0 and 1 indicating which information should be retained and which discarded.\n",
    "* Then we have a layer that applies tanh activation function on another aggregation (because different weight matrix and bias vector), which outputs vector of candidate values ($\\tilde{C}_{t}$) to add to the current time step's cell state.\n",
    "* Then we find the new cell state ($C_{t}$) by doing pointwise addition of pointwise multiplications of $f_{t}$ and $C_{t-1}$ and $i_{t}$ and $\\tilde{C}_{t}$.\n",
    "* Finally we find the current time step's hidden state by doing pointwise mutliplication of $o_{t}$ and tanh($C_{t}$). "
   ]
  },
  {
   "cell_type": "markdown",
   "id": "eade71ab-02ca-44d8-a66c-0528f6df067b",
   "metadata": {},
   "source": [
    "## Trainable = False"
   ]
  },
  {
   "cell_type": "code",
   "execution_count": 8,
   "id": "efa9f310-8128-4179-9bec-859dd9a18694",
   "metadata": {
    "execution": {
     "iopub.execute_input": "2025-09-21T14:53:40.957193Z",
     "iopub.status.busy": "2025-09-21T14:53:40.956976Z",
     "iopub.status.idle": "2025-09-21T14:53:43.069248Z",
     "shell.execute_reply": "2025-09-21T14:53:43.068682Z",
     "shell.execute_reply.started": "2025-09-21T14:53:40.957176Z"
    }
   },
   "outputs": [
    {
     "name": "stderr",
     "output_type": "stream",
     "text": [
      "I0000 00:00:1758466421.575205      74 gpu_device.cc:2022] Created device /job:localhost/replica:0/task:0/device:GPU:0 with 15513 MB memory:  -> device: 0, name: Tesla P100-PCIE-16GB, pci bus id: 0000:00:04.0, compute capability: 6.0\n"
     ]
    },
    {
     "data": {
      "text/html": [
       "<pre style=\"white-space:pre;overflow-x:auto;line-height:normal;font-family:Menlo,'DejaVu Sans Mono',consolas,'Courier New',monospace\"><span style=\"font-weight: bold\">Model: \"sequential\"</span>\n",
       "</pre>\n"
      ],
      "text/plain": [
       "\u001b[1mModel: \"sequential\"\u001b[0m\n"
      ]
     },
     "metadata": {},
     "output_type": "display_data"
    },
    {
     "data": {
      "text/html": [
       "<pre style=\"white-space:pre;overflow-x:auto;line-height:normal;font-family:Menlo,'DejaVu Sans Mono',consolas,'Courier New',monospace\">┏━━━━━━━━━━━━━━━━━━━━━━━━━━━━━━━━━┳━━━━━━━━━━━━━━━━━━━━━━━━┳━━━━━━━━━━━━━━━┓\n",
       "┃<span style=\"font-weight: bold\"> Layer (type)                    </span>┃<span style=\"font-weight: bold\"> Output Shape           </span>┃<span style=\"font-weight: bold\">       Param # </span>┃\n",
       "┡━━━━━━━━━━━━━━━━━━━━━━━━━━━━━━━━━╇━━━━━━━━━━━━━━━━━━━━━━━━╇━━━━━━━━━━━━━━━┩\n",
       "│ embedding (<span style=\"color: #0087ff; text-decoration-color: #0087ff\">Embedding</span>)           │ (<span style=\"color: #00d7ff; text-decoration-color: #00d7ff\">None</span>, <span style=\"color: #00af00; text-decoration-color: #00af00\">588</span>, <span style=\"color: #00af00; text-decoration-color: #00af00\">500</span>)       │    <span style=\"color: #00af00; text-decoration-color: #00af00\">17,878,000</span> │\n",
       "├─────────────────────────────────┼────────────────────────┼───────────────┤\n",
       "│ lstm (<span style=\"color: #0087ff; text-decoration-color: #0087ff\">LSTM</span>)                     │ (<span style=\"color: #00d7ff; text-decoration-color: #00d7ff\">None</span>, <span style=\"color: #00af00; text-decoration-color: #00af00\">128</span>)            │       <span style=\"color: #00af00; text-decoration-color: #00af00\">322,048</span> │\n",
       "├─────────────────────────────────┼────────────────────────┼───────────────┤\n",
       "│ dense (<span style=\"color: #0087ff; text-decoration-color: #0087ff\">Dense</span>)                   │ (<span style=\"color: #00d7ff; text-decoration-color: #00d7ff\">None</span>, <span style=\"color: #00af00; text-decoration-color: #00af00\">1</span>)              │           <span style=\"color: #00af00; text-decoration-color: #00af00\">129</span> │\n",
       "└─────────────────────────────────┴────────────────────────┴───────────────┘\n",
       "</pre>\n"
      ],
      "text/plain": [
       "┏━━━━━━━━━━━━━━━━━━━━━━━━━━━━━━━━━┳━━━━━━━━━━━━━━━━━━━━━━━━┳━━━━━━━━━━━━━━━┓\n",
       "┃\u001b[1m \u001b[0m\u001b[1mLayer (type)                   \u001b[0m\u001b[1m \u001b[0m┃\u001b[1m \u001b[0m\u001b[1mOutput Shape          \u001b[0m\u001b[1m \u001b[0m┃\u001b[1m \u001b[0m\u001b[1m      Param #\u001b[0m\u001b[1m \u001b[0m┃\n",
       "┡━━━━━━━━━━━━━━━━━━━━━━━━━━━━━━━━━╇━━━━━━━━━━━━━━━━━━━━━━━━╇━━━━━━━━━━━━━━━┩\n",
       "│ embedding (\u001b[38;5;33mEmbedding\u001b[0m)           │ (\u001b[38;5;45mNone\u001b[0m, \u001b[38;5;34m588\u001b[0m, \u001b[38;5;34m500\u001b[0m)       │    \u001b[38;5;34m17,878,000\u001b[0m │\n",
       "├─────────────────────────────────┼────────────────────────┼───────────────┤\n",
       "│ lstm (\u001b[38;5;33mLSTM\u001b[0m)                     │ (\u001b[38;5;45mNone\u001b[0m, \u001b[38;5;34m128\u001b[0m)            │       \u001b[38;5;34m322,048\u001b[0m │\n",
       "├─────────────────────────────────┼────────────────────────┼───────────────┤\n",
       "│ dense (\u001b[38;5;33mDense\u001b[0m)                   │ (\u001b[38;5;45mNone\u001b[0m, \u001b[38;5;34m1\u001b[0m)              │           \u001b[38;5;34m129\u001b[0m │\n",
       "└─────────────────────────────────┴────────────────────────┴───────────────┘\n"
      ]
     },
     "metadata": {},
     "output_type": "display_data"
    },
    {
     "data": {
      "text/html": [
       "<pre style=\"white-space:pre;overflow-x:auto;line-height:normal;font-family:Menlo,'DejaVu Sans Mono',consolas,'Courier New',monospace\"><span style=\"font-weight: bold\"> Total params: </span><span style=\"color: #00af00; text-decoration-color: #00af00\">18,200,177</span> (69.43 MB)\n",
       "</pre>\n"
      ],
      "text/plain": [
       "\u001b[1m Total params: \u001b[0m\u001b[38;5;34m18,200,177\u001b[0m (69.43 MB)\n"
      ]
     },
     "metadata": {},
     "output_type": "display_data"
    },
    {
     "data": {
      "text/html": [
       "<pre style=\"white-space:pre;overflow-x:auto;line-height:normal;font-family:Menlo,'DejaVu Sans Mono',consolas,'Courier New',monospace\"><span style=\"font-weight: bold\"> Trainable params: </span><span style=\"color: #00af00; text-decoration-color: #00af00\">322,177</span> (1.23 MB)\n",
       "</pre>\n"
      ],
      "text/plain": [
       "\u001b[1m Trainable params: \u001b[0m\u001b[38;5;34m322,177\u001b[0m (1.23 MB)\n"
      ]
     },
     "metadata": {},
     "output_type": "display_data"
    },
    {
     "data": {
      "text/html": [
       "<pre style=\"white-space:pre;overflow-x:auto;line-height:normal;font-family:Menlo,'DejaVu Sans Mono',consolas,'Courier New',monospace\"><span style=\"font-weight: bold\"> Non-trainable params: </span><span style=\"color: #00af00; text-decoration-color: #00af00\">17,878,000</span> (68.20 MB)\n",
       "</pre>\n"
      ],
      "text/plain": [
       "\u001b[1m Non-trainable params: \u001b[0m\u001b[38;5;34m17,878,000\u001b[0m (68.20 MB)\n"
      ]
     },
     "metadata": {},
     "output_type": "display_data"
    }
   ],
   "source": [
    "model = Sequential()\n",
    "model.add(Input(shape=(MAX_LEN,)))\n",
    "model.add(Embedding(input_dim=VOCAB_SIZE,\n",
    "                    output_dim=EMBEDDING_DIM,\n",
    "                    weights=[embedding_matrix],\n",
    "                    trainable=False))\n",
    "# params => 35756*500 = 17878000\n",
    "model.add(LSTM(128, dropout=0.3, recurrent_dropout=0.3))\n",
    "# params => ((500+128)*128+128)*4 = 322048\n",
    "model.add(Dense(1, activation='sigmoid'))\n",
    "# params => 128*1 + 1 = 129\n",
    "model.summary()"
   ]
  },
  {
   "cell_type": "code",
   "execution_count": 9,
   "id": "e3729e70-1968-4db9-84ce-d291402bb2ef",
   "metadata": {
    "execution": {
     "iopub.execute_input": "2025-09-21T14:53:43.070120Z",
     "iopub.status.busy": "2025-09-21T14:53:43.069915Z",
     "iopub.status.idle": "2025-09-21T16:27:10.459077Z",
     "shell.execute_reply": "2025-09-21T16:27:10.458366Z",
     "shell.execute_reply.started": "2025-09-21T14:53:43.070104Z"
    }
   },
   "outputs": [
    {
     "name": "stdout",
     "output_type": "stream",
     "text": [
      "Epoch 1/20\n",
      "\u001b[1m206/206\u001b[0m \u001b[32m━━━━━━━━━━━━━━━━━━━━\u001b[0m\u001b[37m\u001b[0m \u001b[1m288s\u001b[0m 1s/step - accuracy: 0.5829 - loss: 0.6599 - val_accuracy: 0.7768 - val_loss: 0.5401\n",
      "Epoch 2/20\n",
      "\u001b[1m206/206\u001b[0m \u001b[32m━━━━━━━━━━━━━━━━━━━━\u001b[0m\u001b[37m\u001b[0m \u001b[1m275s\u001b[0m 1s/step - accuracy: 0.7404 - loss: 0.5650 - val_accuracy: 0.5484 - val_loss: 0.6680\n",
      "Epoch 3/20\n",
      "\u001b[1m206/206\u001b[0m \u001b[32m━━━━━━━━━━━━━━━━━━━━\u001b[0m\u001b[37m\u001b[0m \u001b[1m275s\u001b[0m 1s/step - accuracy: 0.6609 - loss: 0.6122 - val_accuracy: 0.8002 - val_loss: 0.4964\n",
      "Epoch 4/20\n",
      "\u001b[1m206/206\u001b[0m \u001b[32m━━━━━━━━━━━━━━━━━━━━\u001b[0m\u001b[37m\u001b[0m \u001b[1m276s\u001b[0m 1s/step - accuracy: 0.6948 - loss: 0.5930 - val_accuracy: 0.5642 - val_loss: 0.6398\n",
      "Epoch 5/20\n",
      "\u001b[1m206/206\u001b[0m \u001b[32m━━━━━━━━━━━━━━━━━━━━\u001b[0m\u001b[37m\u001b[0m \u001b[1m278s\u001b[0m 1s/step - accuracy: 0.5872 - loss: 0.6437 - val_accuracy: 0.7515 - val_loss: 0.5657\n",
      "Epoch 6/20\n",
      "\u001b[1m206/206\u001b[0m \u001b[32m━━━━━━━━━━━━━━━━━━━━\u001b[0m\u001b[37m\u001b[0m \u001b[1m279s\u001b[0m 1s/step - accuracy: 0.7079 - loss: 0.5558 - val_accuracy: 0.6682 - val_loss: 0.6622\n",
      "Epoch 7/20\n",
      "\u001b[1m206/206\u001b[0m \u001b[32m━━━━━━━━━━━━━━━━━━━━\u001b[0m\u001b[37m\u001b[0m \u001b[1m279s\u001b[0m 1s/step - accuracy: 0.7625 - loss: 0.5237 - val_accuracy: 0.7616 - val_loss: 0.4339\n",
      "Epoch 8/20\n",
      "\u001b[1m206/206\u001b[0m \u001b[32m━━━━━━━━━━━━━━━━━━━━\u001b[0m\u001b[37m\u001b[0m \u001b[1m278s\u001b[0m 1s/step - accuracy: 0.7777 - loss: 0.4655 - val_accuracy: 0.8206 - val_loss: 0.4331\n",
      "Epoch 9/20\n",
      "\u001b[1m206/206\u001b[0m \u001b[32m━━━━━━━━━━━━━━━━━━━━\u001b[0m\u001b[37m\u001b[0m \u001b[1m279s\u001b[0m 1s/step - accuracy: 0.8329 - loss: 0.4174 - val_accuracy: 0.8580 - val_loss: 0.3438\n",
      "Epoch 10/20\n",
      "\u001b[1m206/206\u001b[0m \u001b[32m━━━━━━━━━━━━━━━━━━━━\u001b[0m\u001b[37m\u001b[0m \u001b[1m277s\u001b[0m 1s/step - accuracy: 0.8471 - loss: 0.3639 - val_accuracy: 0.8680 - val_loss: 0.3197\n",
      "Epoch 11/20\n",
      "\u001b[1m206/206\u001b[0m \u001b[32m━━━━━━━━━━━━━━━━━━━━\u001b[0m\u001b[37m\u001b[0m \u001b[1m280s\u001b[0m 1s/step - accuracy: 0.8727 - loss: 0.3232 - val_accuracy: 0.8863 - val_loss: 0.2815\n",
      "Epoch 12/20\n",
      "\u001b[1m206/206\u001b[0m \u001b[32m━━━━━━━━━━━━━━━━━━━━\u001b[0m\u001b[37m\u001b[0m \u001b[1m283s\u001b[0m 1s/step - accuracy: 0.8863 - loss: 0.2875 - val_accuracy: 0.9170 - val_loss: 0.2318\n",
      "Epoch 13/20\n",
      "\u001b[1m206/206\u001b[0m \u001b[32m━━━━━━━━━━━━━━━━━━━━\u001b[0m\u001b[37m\u001b[0m \u001b[1m284s\u001b[0m 1s/step - accuracy: 0.9158 - loss: 0.2373 - val_accuracy: 0.9322 - val_loss: 0.2017\n",
      "Epoch 14/20\n",
      "\u001b[1m206/206\u001b[0m \u001b[32m━━━━━━━━━━━━━━━━━━━━\u001b[0m\u001b[37m\u001b[0m \u001b[1m283s\u001b[0m 1s/step - accuracy: 0.9247 - loss: 0.2100 - val_accuracy: 0.9343 - val_loss: 0.1871\n",
      "Epoch 15/20\n",
      "\u001b[1m206/206\u001b[0m \u001b[32m━━━━━━━━━━━━━━━━━━━━\u001b[0m\u001b[37m\u001b[0m \u001b[1m283s\u001b[0m 1s/step - accuracy: 0.9351 - loss: 0.1862 - val_accuracy: 0.9383 - val_loss: 0.1766\n",
      "Epoch 16/20\n",
      "\u001b[1m206/206\u001b[0m \u001b[32m━━━━━━━━━━━━━━━━━━━━\u001b[0m\u001b[37m\u001b[0m \u001b[1m282s\u001b[0m 1s/step - accuracy: 0.9437 - loss: 0.1606 - val_accuracy: 0.9446 - val_loss: 0.1491\n",
      "Epoch 17/20\n",
      "\u001b[1m206/206\u001b[0m \u001b[32m━━━━━━━━━━━━━━━━━━━━\u001b[0m\u001b[37m\u001b[0m \u001b[1m282s\u001b[0m 1s/step - accuracy: 0.9454 - loss: 0.1548 - val_accuracy: 0.9498 - val_loss: 0.1421\n",
      "Epoch 18/20\n",
      "\u001b[1m206/206\u001b[0m \u001b[32m━━━━━━━━━━━━━━━━━━━━\u001b[0m\u001b[37m\u001b[0m \u001b[1m283s\u001b[0m 1s/step - accuracy: 0.9491 - loss: 0.1410 - val_accuracy: 0.9495 - val_loss: 0.1320\n",
      "Epoch 19/20\n",
      "\u001b[1m206/206\u001b[0m \u001b[32m━━━━━━━━━━━━━━━━━━━━\u001b[0m\u001b[37m\u001b[0m \u001b[1m282s\u001b[0m 1s/step - accuracy: 0.9543 - loss: 0.1242 - val_accuracy: 0.9532 - val_loss: 0.1313\n",
      "Epoch 20/20\n",
      "\u001b[1m206/206\u001b[0m \u001b[32m━━━━━━━━━━━━━━━━━━━━\u001b[0m\u001b[37m\u001b[0m \u001b[1m281s\u001b[0m 1s/step - accuracy: 0.9576 - loss: 0.1199 - val_accuracy: 0.9568 - val_loss: 0.1171\n",
      "Restoring model weights from the end of the best epoch: 20.\n"
     ]
    },
    {
     "data": {
      "text/plain": [
       "<keras.src.callbacks.history.History at 0x7902284e9950>"
      ]
     },
     "execution_count": 9,
     "metadata": {},
     "output_type": "execute_result"
    }
   ],
   "source": [
    "model.compile(optimizer='adam', loss='binary_crossentropy', metrics=['accuracy'])\n",
    "estop = EarlyStopping(monitor='val_loss', mode='min', \n",
    "                      min_delta=1e-5, patience=PATIENCE,\n",
    "                      restore_best_weights=True, verbose=1)\n",
    "model.fit(X_train_pad, y_train,\n",
    "          validation_data=(X_val_pad, y_val),\n",
    "          epochs=EPOCHS, batch_size=BATCH_SIZE,\n",
    "          callbacks=[estop], verbose=1)"
   ]
  },
  {
   "cell_type": "code",
   "execution_count": 10,
   "id": "2290c4f8-9836-4419-92cb-df717ea59105",
   "metadata": {
    "execution": {
     "iopub.execute_input": "2025-09-21T16:27:10.460020Z",
     "iopub.status.busy": "2025-09-21T16:27:10.459820Z",
     "iopub.status.idle": "2025-09-21T16:27:50.453422Z",
     "shell.execute_reply": "2025-09-21T16:27:50.452634Z",
     "shell.execute_reply.started": "2025-09-21T16:27:10.460005Z"
    }
   },
   "outputs": [
    {
     "name": "stdout",
     "output_type": "stream",
     "text": [
      "LSTM Test accuracy: 0.9515815377235413\n",
      "lSTM Test loss: 0.12178731709718704\n"
     ]
    }
   ],
   "source": [
    "lstm_loss, lstm_accuracy = model.evaluate(X_test_pad, y_test, verbose=0)\n",
    "print(\"LSTM Test accuracy:\", lstm_accuracy)\n",
    "print(\"lSTM Test loss:\", lstm_loss)"
   ]
  },
  {
   "cell_type": "code",
   "execution_count": 12,
   "id": "eeb78110-ea42-4514-abef-e18208304f76",
   "metadata": {
    "execution": {
     "iopub.execute_input": "2025-09-21T16:28:17.511790Z",
     "iopub.status.busy": "2025-09-21T16:28:17.511327Z",
     "iopub.status.idle": "2025-09-21T16:28:17.883658Z",
     "shell.execute_reply": "2025-09-21T16:28:17.883111Z",
     "shell.execute_reply.started": "2025-09-21T16:28:17.511768Z"
    }
   },
   "outputs": [],
   "source": [
    "model.save(BASE_OUT+'lstm.keras')"
   ]
  },
  {
   "cell_type": "code",
   "execution_count": null,
   "id": "40f1b972-adb4-4ac6-bb69-3612e4128578",
   "metadata": {},
   "outputs": [],
   "source": [
    "# def build_model(hp):\n",
    "#     model = Sequential()\n",
    "#     model.add(Input(shape=(MAX_LEN,)))\n",
    "#     model.add(Embedding(input_dim=VOCAB_SIZE,\n",
    "#                         output_dim=EMBEDDING_DIM,\n",
    "#                         weights=[embedding_matrix],\n",
    "#                         trainable=False))\n",
    "#     model.add(LSTM(units=hp.Choice('units', values=[64, 128, 256]), \n",
    "#                    dropout=hp.Float('dropout', min_value=0.2, max_value=0.5, step=0.1), \n",
    "#                    recurrent_dropout=hp.Float('recurrent_dropout', min_value=0.2, max_value=0.5, step=0.1)))\n",
    "    \n",
    "#     model.add(Dense(1, activation='sigmoid'))\n",
    "    \n",
    "#     model.compile(optimizer=Adam(learning_rate=hp.Choice('learning_rate', values=[1e-4, 1e-3, 1e-2])),\n",
    "#                                  loss='binary_crossentropy', metrics=['accuracy'])\n",
    "#     return model"
   ]
  },
  {
   "cell_type": "code",
   "execution_count": null,
   "id": "1ee8b4d1-1cb4-4b35-8707-e3754b86a44f",
   "metadata": {},
   "outputs": [],
   "source": [
    "# tuner = kt.RandomSearch(\n",
    "#     build_model,\n",
    "#     objective='val_accuracy',\n",
    "#     max_trials=25,\n",
    "#     executions_per_trial=1,\n",
    "#     directory=BASE_OUT+'tuner',\n",
    "#     project_name='lstm_randomsearch'\n",
    "# )"
   ]
  },
  {
   "cell_type": "code",
   "execution_count": null,
   "id": "9cf9e802-a963-4ee6-90c4-25e4044f29a1",
   "metadata": {},
   "outputs": [],
   "source": [
    "# tuner.search(X_train_pad, y_train,\n",
    "#             validation_data=(X_val_pad, y_val),\n",
    "#             epochs=EPOCHS, batch_size=BATCH_SIZE,\n",
    "#             verbose=1)"
   ]
  },
  {
   "cell_type": "code",
   "execution_count": null,
   "id": "80768dbc-1d29-474c-9ce3-091e2436ba93",
   "metadata": {},
   "outputs": [],
   "source": [
    "# best_model1 = tuner.get_best_models(num_models=1)[0]\n",
    "# best_hps1 = tuner.get_best_hyperparameters(num_trials=1)[0]\n",
    "# print(best_hps1.values)"
   ]
  },
  {
   "cell_type": "code",
   "execution_count": null,
   "id": "75d52b65-011b-4346-b8fb-663fcd4db8b3",
   "metadata": {
    "execution": {
     "iopub.status.busy": "2025-09-22T07:08:21.779143Z",
     "iopub.status.idle": "2025-09-22T07:08:21.779354Z",
     "shell.execute_reply": "2025-09-22T07:08:21.779263Z",
     "shell.execute_reply.started": "2025-09-22T07:08:21.779254Z"
    }
   },
   "outputs": [],
   "source": [
    "# best_loss1, best_accuracy1 = best_model1.evaluate(X_test_pad, y_test, verbose=0)\n",
    "# print(\"Tuned LSTM (trainable=False) test accuracy:\",best_accuracy1)\n",
    "# print(\"Tuned LSTM (trainable=False) test loss:\", best_loss1)"
   ]
  },
  {
   "cell_type": "markdown",
   "id": "e695b2f2-9f0b-4fe4-b4ab-6c6c7055ba45",
   "metadata": {},
   "source": [
    "## Trainable = True"
   ]
  },
  {
   "cell_type": "code",
   "execution_count": 8,
   "id": "7935c0a2-3772-40d2-8132-ab4ee6741b30",
   "metadata": {
    "execution": {
     "iopub.execute_input": "2025-09-22T07:52:45.668503Z",
     "iopub.status.busy": "2025-09-22T07:52:45.668223Z",
     "iopub.status.idle": "2025-09-22T07:52:47.898842Z",
     "shell.execute_reply": "2025-09-22T07:52:47.898316Z",
     "shell.execute_reply.started": "2025-09-22T07:52:45.668483Z"
    }
   },
   "outputs": [
    {
     "name": "stderr",
     "output_type": "stream",
     "text": [
      "I0000 00:00:1758527566.441060      36 gpu_device.cc:2022] Created device /job:localhost/replica:0/task:0/device:GPU:0 with 15513 MB memory:  -> device: 0, name: Tesla P100-PCIE-16GB, pci bus id: 0000:00:04.0, compute capability: 6.0\n"
     ]
    },
    {
     "data": {
      "text/html": [
       "<pre style=\"white-space:pre;overflow-x:auto;line-height:normal;font-family:Menlo,'DejaVu Sans Mono',consolas,'Courier New',monospace\"><span style=\"font-weight: bold\">Model: \"sequential\"</span>\n",
       "</pre>\n"
      ],
      "text/plain": [
       "\u001b[1mModel: \"sequential\"\u001b[0m\n"
      ]
     },
     "metadata": {},
     "output_type": "display_data"
    },
    {
     "data": {
      "text/html": [
       "<pre style=\"white-space:pre;overflow-x:auto;line-height:normal;font-family:Menlo,'DejaVu Sans Mono',consolas,'Courier New',monospace\">┏━━━━━━━━━━━━━━━━━━━━━━━━━━━━━━━━━┳━━━━━━━━━━━━━━━━━━━━━━━━┳━━━━━━━━━━━━━━━┓\n",
       "┃<span style=\"font-weight: bold\"> Layer (type)                    </span>┃<span style=\"font-weight: bold\"> Output Shape           </span>┃<span style=\"font-weight: bold\">       Param # </span>┃\n",
       "┡━━━━━━━━━━━━━━━━━━━━━━━━━━━━━━━━━╇━━━━━━━━━━━━━━━━━━━━━━━━╇━━━━━━━━━━━━━━━┩\n",
       "│ embedding (<span style=\"color: #0087ff; text-decoration-color: #0087ff\">Embedding</span>)           │ (<span style=\"color: #00d7ff; text-decoration-color: #00d7ff\">None</span>, <span style=\"color: #00af00; text-decoration-color: #00af00\">588</span>, <span style=\"color: #00af00; text-decoration-color: #00af00\">500</span>)       │    <span style=\"color: #00af00; text-decoration-color: #00af00\">17,878,000</span> │\n",
       "├─────────────────────────────────┼────────────────────────┼───────────────┤\n",
       "│ lstm (<span style=\"color: #0087ff; text-decoration-color: #0087ff\">LSTM</span>)                     │ (<span style=\"color: #00d7ff; text-decoration-color: #00d7ff\">None</span>, <span style=\"color: #00af00; text-decoration-color: #00af00\">128</span>)            │       <span style=\"color: #00af00; text-decoration-color: #00af00\">322,048</span> │\n",
       "├─────────────────────────────────┼────────────────────────┼───────────────┤\n",
       "│ dense (<span style=\"color: #0087ff; text-decoration-color: #0087ff\">Dense</span>)                   │ (<span style=\"color: #00d7ff; text-decoration-color: #00d7ff\">None</span>, <span style=\"color: #00af00; text-decoration-color: #00af00\">1</span>)              │           <span style=\"color: #00af00; text-decoration-color: #00af00\">129</span> │\n",
       "└─────────────────────────────────┴────────────────────────┴───────────────┘\n",
       "</pre>\n"
      ],
      "text/plain": [
       "┏━━━━━━━━━━━━━━━━━━━━━━━━━━━━━━━━━┳━━━━━━━━━━━━━━━━━━━━━━━━┳━━━━━━━━━━━━━━━┓\n",
       "┃\u001b[1m \u001b[0m\u001b[1mLayer (type)                   \u001b[0m\u001b[1m \u001b[0m┃\u001b[1m \u001b[0m\u001b[1mOutput Shape          \u001b[0m\u001b[1m \u001b[0m┃\u001b[1m \u001b[0m\u001b[1m      Param #\u001b[0m\u001b[1m \u001b[0m┃\n",
       "┡━━━━━━━━━━━━━━━━━━━━━━━━━━━━━━━━━╇━━━━━━━━━━━━━━━━━━━━━━━━╇━━━━━━━━━━━━━━━┩\n",
       "│ embedding (\u001b[38;5;33mEmbedding\u001b[0m)           │ (\u001b[38;5;45mNone\u001b[0m, \u001b[38;5;34m588\u001b[0m, \u001b[38;5;34m500\u001b[0m)       │    \u001b[38;5;34m17,878,000\u001b[0m │\n",
       "├─────────────────────────────────┼────────────────────────┼───────────────┤\n",
       "│ lstm (\u001b[38;5;33mLSTM\u001b[0m)                     │ (\u001b[38;5;45mNone\u001b[0m, \u001b[38;5;34m128\u001b[0m)            │       \u001b[38;5;34m322,048\u001b[0m │\n",
       "├─────────────────────────────────┼────────────────────────┼───────────────┤\n",
       "│ dense (\u001b[38;5;33mDense\u001b[0m)                   │ (\u001b[38;5;45mNone\u001b[0m, \u001b[38;5;34m1\u001b[0m)              │           \u001b[38;5;34m129\u001b[0m │\n",
       "└─────────────────────────────────┴────────────────────────┴───────────────┘\n"
      ]
     },
     "metadata": {},
     "output_type": "display_data"
    },
    {
     "data": {
      "text/html": [
       "<pre style=\"white-space:pre;overflow-x:auto;line-height:normal;font-family:Menlo,'DejaVu Sans Mono',consolas,'Courier New',monospace\"><span style=\"font-weight: bold\"> Total params: </span><span style=\"color: #00af00; text-decoration-color: #00af00\">18,200,177</span> (69.43 MB)\n",
       "</pre>\n"
      ],
      "text/plain": [
       "\u001b[1m Total params: \u001b[0m\u001b[38;5;34m18,200,177\u001b[0m (69.43 MB)\n"
      ]
     },
     "metadata": {},
     "output_type": "display_data"
    },
    {
     "data": {
      "text/html": [
       "<pre style=\"white-space:pre;overflow-x:auto;line-height:normal;font-family:Menlo,'DejaVu Sans Mono',consolas,'Courier New',monospace\"><span style=\"font-weight: bold\"> Trainable params: </span><span style=\"color: #00af00; text-decoration-color: #00af00\">18,200,177</span> (69.43 MB)\n",
       "</pre>\n"
      ],
      "text/plain": [
       "\u001b[1m Trainable params: \u001b[0m\u001b[38;5;34m18,200,177\u001b[0m (69.43 MB)\n"
      ]
     },
     "metadata": {},
     "output_type": "display_data"
    },
    {
     "data": {
      "text/html": [
       "<pre style=\"white-space:pre;overflow-x:auto;line-height:normal;font-family:Menlo,'DejaVu Sans Mono',consolas,'Courier New',monospace\"><span style=\"font-weight: bold\"> Non-trainable params: </span><span style=\"color: #00af00; text-decoration-color: #00af00\">0</span> (0.00 B)\n",
       "</pre>\n"
      ],
      "text/plain": [
       "\u001b[1m Non-trainable params: \u001b[0m\u001b[38;5;34m0\u001b[0m (0.00 B)\n"
      ]
     },
     "metadata": {},
     "output_type": "display_data"
    }
   ],
   "source": [
    "model = Sequential()\n",
    "model.add(Input(shape=(MAX_LEN,)))\n",
    "model.add(Embedding(input_dim=VOCAB_SIZE,\n",
    "                    output_dim=EMBEDDING_DIM,\n",
    "                    weights=[embedding_matrix],\n",
    "                    trainable=True))\n",
    "# params => 35756*500 = 17878000\n",
    "model.add(LSTM(128, dropout=0.3, recurrent_dropout=0.3))\n",
    "# params => ((500+128)*128+128)*4 = 322048\n",
    "model.add(Dense(1, activation='sigmoid'))\n",
    "# params => 128*1 + 1 = 129\n",
    "model.summary()"
   ]
  },
  {
   "cell_type": "code",
   "execution_count": 9,
   "id": "d540ef6d-d3e3-4ff2-9889-870e6b741785",
   "metadata": {
    "execution": {
     "iopub.execute_input": "2025-09-22T07:52:49.069497Z",
     "iopub.status.busy": "2025-09-22T07:52:49.068967Z",
     "iopub.status.idle": "2025-09-22T09:01:30.676060Z",
     "shell.execute_reply": "2025-09-22T09:01:30.675399Z",
     "shell.execute_reply.started": "2025-09-22T07:52:49.069476Z"
    }
   },
   "outputs": [
    {
     "name": "stdout",
     "output_type": "stream",
     "text": [
      "Epoch 1/20\n",
      "\u001b[1m206/206\u001b[0m \u001b[32m━━━━━━━━━━━━━━━━━━━━\u001b[0m\u001b[37m\u001b[0m \u001b[1m354s\u001b[0m 2s/step - accuracy: 0.5284 - loss: 0.6822 - val_accuracy: 0.5277 - val_loss: 0.6795\n",
      "Epoch 2/20\n",
      "\u001b[1m206/206\u001b[0m \u001b[32m━━━━━━━━━━━━━━━━━━━━\u001b[0m\u001b[37m\u001b[0m \u001b[1m342s\u001b[0m 2s/step - accuracy: 0.5456 - loss: 0.6556 - val_accuracy: 0.5508 - val_loss: 0.6439\n",
      "Epoch 3/20\n",
      "\u001b[1m206/206\u001b[0m \u001b[32m━━━━━━━━━━━━━━━━━━━━\u001b[0m\u001b[37m\u001b[0m \u001b[1m341s\u001b[0m 2s/step - accuracy: 0.5611 - loss: 0.6648 - val_accuracy: 0.8120 - val_loss: 0.5651\n",
      "Epoch 4/20\n",
      "\u001b[1m206/206\u001b[0m \u001b[32m━━━━━━━━━━━━━━━━━━━━\u001b[0m\u001b[37m\u001b[0m \u001b[1m342s\u001b[0m 2s/step - accuracy: 0.8217 - loss: 0.4700 - val_accuracy: 0.8771 - val_loss: 0.2902\n",
      "Epoch 5/20\n",
      "\u001b[1m206/206\u001b[0m \u001b[32m━━━━━━━━━━━━━━━━━━━━\u001b[0m\u001b[37m\u001b[0m \u001b[1m342s\u001b[0m 2s/step - accuracy: 0.9161 - loss: 0.2461 - val_accuracy: 0.8966 - val_loss: 0.2819\n",
      "Epoch 6/20\n",
      "\u001b[1m206/206\u001b[0m \u001b[32m━━━━━━━━━━━━━━━━━━━━\u001b[0m\u001b[37m\u001b[0m \u001b[1m345s\u001b[0m 2s/step - accuracy: 0.9527 - loss: 0.1526 - val_accuracy: 0.9203 - val_loss: 0.2304\n",
      "Epoch 7/20\n",
      "\u001b[1m206/206\u001b[0m \u001b[32m━━━━━━━━━━━━━━━━━━━━\u001b[0m\u001b[37m\u001b[0m \u001b[1m341s\u001b[0m 2s/step - accuracy: 0.9700 - loss: 0.1009 - val_accuracy: 0.9264 - val_loss: 0.2096\n",
      "Epoch 8/20\n",
      "\u001b[1m206/206\u001b[0m \u001b[32m━━━━━━━━━━━━━━━━━━━━\u001b[0m\u001b[37m\u001b[0m \u001b[1m343s\u001b[0m 2s/step - accuracy: 0.9818 - loss: 0.0660 - val_accuracy: 0.9343 - val_loss: 0.2151\n",
      "Epoch 9/20\n",
      "\u001b[1m206/206\u001b[0m \u001b[32m━━━━━━━━━━━━━━━━━━━━\u001b[0m\u001b[37m\u001b[0m \u001b[1m343s\u001b[0m 2s/step - accuracy: 0.9893 - loss: 0.0404 - val_accuracy: 0.9218 - val_loss: 0.2743\n",
      "Epoch 10/20\n",
      "\u001b[1m206/206\u001b[0m \u001b[32m━━━━━━━━━━━━━━━━━━━━\u001b[0m\u001b[37m\u001b[0m \u001b[1m340s\u001b[0m 2s/step - accuracy: 0.9903 - loss: 0.0381 - val_accuracy: 0.9313 - val_loss: 0.2928\n",
      "Epoch 11/20\n",
      "\u001b[1m206/206\u001b[0m \u001b[32m━━━━━━━━━━━━━━━━━━━━\u001b[0m\u001b[37m\u001b[0m \u001b[1m343s\u001b[0m 2s/step - accuracy: 0.9941 - loss: 0.0236 - val_accuracy: 0.9367 - val_loss: 0.2647\n",
      "Epoch 12/20\n",
      "\u001b[1m206/206\u001b[0m \u001b[32m━━━━━━━━━━━━━━━━━━━━\u001b[0m\u001b[37m\u001b[0m \u001b[1m343s\u001b[0m 2s/step - accuracy: 0.9971 - loss: 0.0139 - val_accuracy: 0.9355 - val_loss: 0.3339\n",
      "Epoch 12: early stopping\n",
      "Restoring model weights from the end of the best epoch: 7.\n"
     ]
    },
    {
     "data": {
      "text/plain": [
       "<keras.src.callbacks.history.History at 0x7a4cc1047050>"
      ]
     },
     "execution_count": 9,
     "metadata": {},
     "output_type": "execute_result"
    }
   ],
   "source": [
    "model.compile(optimizer='adam', loss='binary_crossentropy', metrics=['accuracy'])\n",
    "estop = EarlyStopping(monitor='val_loss', mode='min', \n",
    "                      min_delta=1e-5, patience=PATIENCE,\n",
    "                      restore_best_weights=True, verbose=1)\n",
    "model.fit(X_train_pad, y_train,\n",
    "          validation_data=(X_val_pad, y_val),\n",
    "          epochs=EPOCHS, batch_size=BATCH_SIZE,\n",
    "          callbacks=[estop], verbose=1)"
   ]
  },
  {
   "cell_type": "code",
   "execution_count": 10,
   "id": "d189d565-89ec-4d92-ad01-0c6f4ec33bc5",
   "metadata": {
    "execution": {
     "iopub.execute_input": "2025-09-22T09:01:30.677487Z",
     "iopub.status.busy": "2025-09-22T09:01:30.677167Z",
     "iopub.status.idle": "2025-09-22T09:02:11.465569Z",
     "shell.execute_reply": "2025-09-22T09:02:11.464930Z",
     "shell.execute_reply.started": "2025-09-22T09:01:30.677469Z"
    }
   },
   "outputs": [
    {
     "name": "stdout",
     "output_type": "stream",
     "text": [
      "LSTM Test accuracy: 0.9267640113830566\n",
      "lSTM Test loss: 0.2077949345111847\n"
     ]
    }
   ],
   "source": [
    "lstm_loss, lstm_accuracy = model.evaluate(X_test_pad, y_test, verbose=0)\n",
    "print(\"LSTM Test accuracy:\", lstm_accuracy)\n",
    "print(\"lSTM Test loss:\", lstm_loss)"
   ]
  },
  {
   "cell_type": "code",
   "execution_count": 13,
   "id": "86f92bfb-1497-44e0-8ecc-99a4e5a2dab8",
   "metadata": {
    "execution": {
     "iopub.execute_input": "2025-09-22T09:02:45.834228Z",
     "iopub.status.busy": "2025-09-22T09:02:45.833896Z",
     "iopub.status.idle": "2025-09-22T09:02:47.421611Z",
     "shell.execute_reply": "2025-09-22T09:02:47.420820Z",
     "shell.execute_reply.started": "2025-09-22T09:02:45.834207Z"
    }
   },
   "outputs": [],
   "source": [
    "model.save(BASE_OUT+'lstm_trainable.keras')"
   ]
  },
  {
   "cell_type": "code",
   "execution_count": null,
   "id": "e623b45b-7a6a-47a1-a07b-e53254fce8f0",
   "metadata": {},
   "outputs": [],
   "source": []
  }
 ],
 "metadata": {
  "kaggle": {
   "accelerator": "gpu",
   "dataSources": [
    {
     "datasetId": 8315849,
     "sourceId": 13127082,
     "sourceType": "datasetVersion"
    }
   ],
   "dockerImageVersionId": 31090,
   "isGpuEnabled": true,
   "isInternetEnabled": true,
   "language": "python",
   "sourceType": "notebook"
  },
  "kernelspec": {
   "display_name": "Python 3 (ipykernel)",
   "language": "python",
   "name": "python3"
  },
  "language_info": {
   "codemirror_mode": {
    "name": "ipython",
    "version": 3
   },
   "file_extension": ".py",
   "mimetype": "text/x-python",
   "name": "python",
   "nbconvert_exporter": "python",
   "pygments_lexer": "ipython3",
   "version": "3.12.6"
  }
 },
 "nbformat": 4,
 "nbformat_minor": 5
}
