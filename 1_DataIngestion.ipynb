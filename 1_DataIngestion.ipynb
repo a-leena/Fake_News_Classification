{
 "cells": [
  {
   "cell_type": "code",
   "execution_count": 8,
   "id": "e91b2114-9700-447f-8187-27f27d50e8b4",
   "metadata": {},
   "outputs": [],
   "source": [
    "import pandas as pd\n",
    "\n",
    "df = pd.read_csv(\"hf://datasets/Reyansh4/Fake-News-Classification/train.csv\")"
   ]
  },
  {
   "cell_type": "code",
   "execution_count": 10,
   "id": "141bed7a-46fa-4247-9280-128b8755f0e3",
   "metadata": {},
   "outputs": [],
   "source": [
    "df.drop(columns=['id'], inplace=True)"
   ]
  },
  {
   "cell_type": "code",
   "execution_count": 11,
   "id": "33a161a9-e9f9-4a39-bb8b-a30ffec5c27b",
   "metadata": {},
   "outputs": [],
   "source": [
    "df.to_csv(\"fakeNewsClassificationData.csv\", index=False)"
   ]
  }
 ],
 "metadata": {
  "kernelspec": {
   "display_name": "Python 3 (ipykernel)",
   "language": "python",
   "name": "python3"
  },
  "language_info": {
   "codemirror_mode": {
    "name": "ipython",
    "version": 3
   },
   "file_extension": ".py",
   "mimetype": "text/x-python",
   "name": "python",
   "nbconvert_exporter": "python",
   "pygments_lexer": "ipython3",
   "version": "3.12.6"
  }
 },
 "nbformat": 4,
 "nbformat_minor": 5
}
