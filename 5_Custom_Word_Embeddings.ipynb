{
 "cells": [
  {
   "cell_type": "code",
   "execution_count": 1,
   "id": "a961245d-b652-47a7-b1e5-53e76f21a382",
   "metadata": {},
   "outputs": [],
   "source": [
    "import numpy as np\n",
    "import pandas as pd\n",
    "import matplotlib.pyplot as plt\n",
    "import ast\n",
    "import pickle\n",
    "from sklearn.model_selection import train_test_split\n",
    "from gensim.models import Word2Vec\n",
    "from tensorflow.keras.preprocessing.text import Tokenizer\n",
    "from tensorflow.keras.preprocessing.sequence import pad_sequences\n",
    "from keras.models import Sequential\n",
    "from keras.layers import Input, Embedding, Conv1D, GlobalMaxPooling1D, Dense, Dropout\n",
    "from keras.callbacks import EarlyStopping\n",
    "from keras.optimizers import Adam\n",
    "import keras_tuner as kt\n",
    "from sklearn.metrics import accuracy_score, classification_report, confusion_matrix, ConfusionMatrixDisplay"
   ]
  },
  {
   "cell_type": "markdown",
   "id": "cdc92bab-0c39-4290-ab8d-c200b2eea0f0",
   "metadata": {},
   "source": [
    "# Load Preprocessed Data"
   ]
  },
  {
   "cell_type": "code",
   "execution_count": 2,
   "id": "65243fa7-6d7b-459e-9109-dc5e5daa487a",
   "metadata": {},
   "outputs": [
    {
     "data": {
      "text/html": [
       "<div>\n",
       "<style scoped>\n",
       "    .dataframe tbody tr th:only-of-type {\n",
       "        vertical-align: middle;\n",
       "    }\n",
       "\n",
       "    .dataframe tbody tr th {\n",
       "        vertical-align: top;\n",
       "    }\n",
       "\n",
       "    .dataframe thead th {\n",
       "        text-align: right;\n",
       "    }\n",
       "</style>\n",
       "<table border=\"1\" class=\"dataframe\">\n",
       "  <thead>\n",
       "    <tr style=\"text-align: right;\">\n",
       "      <th></th>\n",
       "      <th>full_text</th>\n",
       "      <th>full_tokens</th>\n",
       "      <th>full_text_lemmatized</th>\n",
       "      <th>label</th>\n",
       "    </tr>\n",
       "  </thead>\n",
       "  <tbody>\n",
       "    <tr>\n",
       "      <th>0</th>\n",
       "      <td>House Dem Aide: We Didn’t Even See Comey’s Let...</td>\n",
       "      <td>[house, aide, even, see, letter, jason, house,...</td>\n",
       "      <td>house aide even see letter jason house aide ev...</td>\n",
       "      <td>1</td>\n",
       "    </tr>\n",
       "    <tr>\n",
       "      <th>1</th>\n",
       "      <td>FLYNN: Hillary Clinton, Big Woman on Campus - ...</td>\n",
       "      <td>[hillary, clinton, big, woman, campus, ever, g...</td>\n",
       "      <td>hillary clinton big woman campus ever get feel...</td>\n",
       "      <td>0</td>\n",
       "    </tr>\n",
       "    <tr>\n",
       "      <th>2</th>\n",
       "      <td>Why the Truth Might Get You Fired Why the Trut...</td>\n",
       "      <td>[truth, might, get, fired, truth, might, get, ...</td>\n",
       "      <td>truth might get fired truth might get fired oc...</td>\n",
       "      <td>1</td>\n",
       "    </tr>\n",
       "    <tr>\n",
       "      <th>3</th>\n",
       "      <td>15 Civilians Killed In Single US Airstrike Hav...</td>\n",
       "      <td>[single, single, rate, american, higher, engag...</td>\n",
       "      <td>single single rate american higher engaged act...</td>\n",
       "      <td>1</td>\n",
       "    </tr>\n",
       "    <tr>\n",
       "      <th>4</th>\n",
       "      <td>Iranian woman jailed for fictional unpublished...</td>\n",
       "      <td>[iranian, woman, fictional, unpublished, story...</td>\n",
       "      <td>iranian woman fictional unpublished story woma...</td>\n",
       "      <td>1</td>\n",
       "    </tr>\n",
       "  </tbody>\n",
       "</table>\n",
       "</div>"
      ],
      "text/plain": [
       "                                           full_text  \\\n",
       "0  House Dem Aide: We Didn’t Even See Comey’s Let...   \n",
       "1  FLYNN: Hillary Clinton, Big Woman on Campus - ...   \n",
       "2  Why the Truth Might Get You Fired Why the Trut...   \n",
       "3  15 Civilians Killed In Single US Airstrike Hav...   \n",
       "4  Iranian woman jailed for fictional unpublished...   \n",
       "\n",
       "                                         full_tokens  \\\n",
       "0  [house, aide, even, see, letter, jason, house,...   \n",
       "1  [hillary, clinton, big, woman, campus, ever, g...   \n",
       "2  [truth, might, get, fired, truth, might, get, ...   \n",
       "3  [single, single, rate, american, higher, engag...   \n",
       "4  [iranian, woman, fictional, unpublished, story...   \n",
       "\n",
       "                                full_text_lemmatized  label  \n",
       "0  house aide even see letter jason house aide ev...      1  \n",
       "1  hillary clinton big woman campus ever get feel...      0  \n",
       "2  truth might get fired truth might get fired oc...      1  \n",
       "3  single single rate american higher engaged act...      1  \n",
       "4  iranian woman fictional unpublished story woma...      1  "
      ]
     },
     "execution_count": 2,
     "metadata": {},
     "output_type": "execute_result"
    }
   ],
   "source": [
    "data = pd.read_csv('data/fulltext_preprocessed_data.csv')\n",
    "data['full_tokens'] = data['full_tokens'].apply(ast.literal_eval)\n",
    "data.head()"
   ]
  },
  {
   "cell_type": "code",
   "execution_count": 3,
   "id": "3df3c761-1987-4300-93d0-2ed4eb248229",
   "metadata": {},
   "outputs": [],
   "source": [
    "X = data['full_tokens']\n",
    "y = data['label']\n",
    "X_train, X_test, y_train, y_test = train_test_split(X, y, test_size=0.2, stratify=y, random_state=42) "
   ]
  },
  {
   "cell_type": "markdown",
   "id": "fc2420ec-a5df-4bed-b759-ae32b0ca6e8e",
   "metadata": {},
   "source": [
    "# Train Word2Vec"
   ]
  },
  {
   "cell_type": "code",
   "execution_count": 4,
   "id": "34666fc6-a127-4bee-b7ac-e277d35e54f2",
   "metadata": {},
   "outputs": [],
   "source": [
    "# choosing arbitrarily initially\n",
    "embedding_dim = 100\n",
    "window = 5"
   ]
  },
  {
   "cell_type": "code",
   "execution_count": 5,
   "id": "7a70a711-4137-4cce-a254-76ba8f9f1e33",
   "metadata": {},
   "outputs": [],
   "source": [
    "w2v_model = Word2Vec(\n",
    "    sentences=X_train,\n",
    "    vector_size=embedding_dim,\n",
    "    window=window,\n",
    "    min_count=1,\n",
    "    sg=1,\n",
    "    workers=4\n",
    ")"
   ]
  },
  {
   "cell_type": "markdown",
   "id": "49b72ff5-c2f6-40f2-840a-0213b4574e50",
   "metadata": {},
   "source": [
    "* vector_size=100 -> 100 values will be used in the numberical vector (embeddings) used to represent each word\n",
    "* window=5 -> looks at 5 words left and right (for context)\n",
    "* min_count=1 -> considers words appearing once or more\n",
    "* Word2Vec learns word vectors using 2 algorithms - Skip-gram (sg=1) and CBOW(Continuous Bag of Words, sg=0)\n",
    "    * CBOW works to predict a target word given context words (good for small datasets)\n",
    "    * Skip-gram works to predict the context words given a target word (good for large datasets and when capturing rare words is important)\n",
    "* workers are the number of cpu cores used\n",
    "\n",
    "* This word2vec model is trained on my own X_train dataset, so the embeddings obtained are specific to that dataset. The embeddings are actually randomly initialized and then trained just once using the specified algorithm (skip-gram or CBOW). Hence, these are called task-specific embeddings.\n",
    "\n",
    "* Pretrained embeddings will be ones that are trained on very large, general-purpose corpus (like Wikipedia, Google News, etc.). These are just downloaded and not trained on our dataset.\n",
    "\n",
    "* If this part was entirely skipped, then completely random embeddings will be initialized and then learnt directly while training the \n",
    "classifier, those values will also get updated along with all the other weights in the model. These are called embeddings learned on the fly."
   ]
  },
  {
   "cell_type": "markdown",
   "id": "bc0198a8-aa44-4757-bef0-0724c3801cc5",
   "metadata": {},
   "source": [
    "# Create Input Data"
   ]
  },
  {
   "cell_type": "code",
   "execution_count": 6,
   "id": "43559efc-3ca3-44ef-ad5b-522d11e1f28a",
   "metadata": {},
   "outputs": [],
   "source": [
    "# tokenizer = Tokenizer()\n",
    "tokenizer = Tokenizer(oov_token=\"<OOV>\")\n",
    "tokenizer.fit_on_texts(X_train)"
   ]
  },
  {
   "cell_type": "code",
   "execution_count": 7,
   "id": "28100047-09e6-4b25-8c99-767c4daecb21",
   "metadata": {},
   "outputs": [],
   "source": [
    "with open('artifacts/tokenizer.pkl', 'wb') as f:\n",
    "    pickle.dump(tokenizer, f)"
   ]
  },
  {
   "cell_type": "markdown",
   "id": "9bdfa33d-a247-4d7b-a972-401242a204ed",
   "metadata": {},
   "source": [
    "* The tokenizer builds a vocabulary only from the tokens in X_train. Then when the tokenizer is used to convert X_test\n",
    "to sequences of indices any token in X_test that wasn't encountered in X_train will be ignored by default, i.e., \n",
    "it will be dropped from the sequence. This could cause the model to lose some information, so, we can instead make the \n",
    "tokenizer map the unseen tokens to a special token called OOV (out-of-vocabulary). Hence, the unseen tokens will not be \n",
    "dropped but will get mapped to a safe index.\n",
    "\n",
    "* It is not a good practice to simply fit the tokenizer on the whole dataset (train+test) because that could lead to leakage \n",
    "of information form the test set into further model trainings."
   ]
  },
  {
   "cell_type": "markdown",
   "id": "342208cc-8396-424c-83f2-6f54a9c9e451",
   "metadata": {},
   "source": [
    "## Generating the numerical/index sequences"
   ]
  },
  {
   "cell_type": "code",
   "execution_count": 8,
   "id": "ec2ae332-b8ad-4a3f-b529-d37df8f11d4d",
   "metadata": {},
   "outputs": [],
   "source": [
    "X_train_seq = tokenizer.texts_to_sequences(X_train)\n",
    "X_test_seq = tokenizer.texts_to_sequences(X_test)"
   ]
  },
  {
   "cell_type": "code",
   "execution_count": 9,
   "id": "e4f688a7-22da-4ce6-a410-5522e2f22508",
   "metadata": {},
   "outputs": [
    {
     "name": "stdout",
     "output_type": "stream",
     "text": [
      "[53, 3, 91, 55, 288, 53, 3, 906, 952, 109, 91, 68, 30, 116, 32, 529, 18, 674, 254, 58, 482, 25, 3, 458, 288, 32, 68, 26, 176, 26, 5, 297, 560, 287, 371, 91, 4097, 193, 37, 325, 482, 25, 272, 2260, 3, 1398, 568, 2531, 2, 469, 1913, 85, 194, 9, 32, 33, 17, 2, 3, 206, 529, 3614, 355, 741, 8670, 104, 2206, 26, 226, 5208, 684, 49, 2, 254, 1559, 23, 2285, 194, 2416, 48, 3, 458, 61, 1860, 1748, 6658, 2, 435, 478, 1755, 1400, 2571, 285, 325, 716, 434, 1422, 3202, 325, 505, 331, 3939, 48, 663, 325, 1690, 1482, 89, 2051, 1130, 3, 32, 831, 753, 602, 44, 90, 136, 789, 3, 2, 62, 68, 280, 3042, 102, 64, 833, 179, 715, 3027, 121, 833, 35, 53, 3, 18, 1825, 2272]\n",
      "\n",
      "139 139\n"
     ]
    }
   ],
   "source": [
    "print(X_train_seq[5],end=\"\\n\\n\")\n",
    "print(len(X_train_seq[5]), len(X_train.iloc[5]))"
   ]
  },
  {
   "cell_type": "code",
   "execution_count": 10,
   "id": "c1a9940f-eee0-46d0-bc25-645aa7b2ac2c",
   "metadata": {},
   "outputs": [
    {
     "name": "stdout",
     "output_type": "stream",
     "text": [
      "Min length: 1\n",
      "Mean length: 306.23595833738926\n",
      "Median length: 227.0\n",
      "90th percentile: 588.0\n",
      "95th percentile: 749.75\n",
      "99th percentile: 1590.5499999999993\n",
      "Max length: 9284\n"
     ]
    }
   ],
   "source": [
    "text_lengths = [len(tokens) for tokens in data['full_tokens']]\n",
    "print(\"Min length:\", np.min(text_lengths))\n",
    "print(\"Mean length:\", np.mean(text_lengths))\n",
    "print(\"Median length:\", np.median(text_lengths))\n",
    "print(\"90th percentile:\",np.percentile(text_lengths, 90))\n",
    "print(\"95th percentile:\",np.percentile(text_lengths, 95))\n",
    "print(\"99th percentile:\",np.percentile(text_lengths, 99))\n",
    "print(\"Max length:\",max(text_lengths))"
   ]
  },
  {
   "cell_type": "markdown",
   "id": "1bb611a0-1308-4755-ae02-5c39f3914194",
   "metadata": {},
   "source": [
    "* 95% of the texts in the dataset have a length less than 750.\n",
    "* But the maximum length seen is 9284 which is extremely far from the mean and 90th, 95th, and, 99th percentiles, so it is likely to be an outlier.\n",
    "* The difference between the 90th and 95th percentiles is less than 200 tokens.\n",
    "* The differences between 95th percentile and mean and median are between 450 and 550 tokens.\n",
    "* The differences between 90th percentile and mean and median are between 280 adn 380 tokens.\n",
    "* On the other hand, the differences between 99th and 95th and 90th percentiles are between 800 and 1000 tokens.\n",
    "* To clearly see how and how many texts will be affected based on cutoffs, we will plot the cdfs of the lengths."
   ]
  },
  {
   "cell_type": "code",
   "execution_count": 11,
   "id": "4021120e-cd45-4138-8f61-e37a66b5ebad",
   "metadata": {},
   "outputs": [
    {
     "data": {
      "image/png": "[encoded data removed]",
      "text/plain": [
       "<Figure size 1500x600 with 1 Axes>"
      ]
     },
     "metadata": {},
     "output_type": "display_data"
    }
   ],
   "source": [
    "sorted_lengths = np.sort(text_lengths)\n",
    "cdf = np.arange(1, len(sorted_lengths)+1)/len(sorted_lengths)\n",
    "plt.figure(figsize=(15,6))\n",
    "plt.plot(sorted_lengths, cdf, marker='.', linestyle='none')\n",
    "plt.xlabel(\"Sequence length (tokens)\")\n",
    "plt.ylabel(\"Cumulative fraction of texts\")\n",
    "plt.title(\"CDF of Text Lengths in Dataset\")\n",
    "plt.grid(True)\n",
    "colors = ['red', 'green', 'blue', 'orange', 'pink']\n",
    "for i, cutoff in enumerate([400, 500, 600, 750, 1000]):\n",
    "    fraction = np.searchsorted(sorted_lengths, cutoff, side='right')/len(sorted_lengths)\n",
    "    plt.axvline(cutoff, color=colors[i], linestyle='--')\n",
    "    plt.text(cutoff, fraction, f\"{cutoff} -> {fraction:.2f}\", rotation=90, va='center_baseline')\n",
    "plt.show()"
   ]
  },
  {
   "cell_type": "markdown",
   "id": "7511c7b5-ee0e-4d7d-9bc7-a0c20b346d42",
   "metadata": {},
   "source": [
    "* Majority of the texts are of length less than 1000 tokens.\n",
    "* Choosing the 90th percentile means 10% of the texts are truncated, while majority are padded.\n",
    "* 80th to 90th percentiles are quite close. But to result in minimal loss while minimizing number of texts with padding, we will work with 80th percentile for now."
   ]
  },
  {
   "cell_type": "code",
   "execution_count": 12,
   "id": "04b119a7-9466-4c9a-85ac-aa62b074c51e",
   "metadata": {},
   "outputs": [],
   "source": [
    "max_len = int(np.ceil(np.percentile(text_lengths, 90)))"
   ]
  },
  {
   "cell_type": "markdown",
   "id": "6e132d75-b99a-4303-96d6-e26fa3361dae",
   "metadata": {},
   "source": [
    "## Padding the sequences"
   ]
  },
  {
   "cell_type": "code",
   "execution_count": 13,
   "id": "c30874b4-073b-4428-8679-4565fc6a3c77",
   "metadata": {},
   "outputs": [],
   "source": [
    "X_train_pad = pad_sequences(X_train_seq, maxlen=max_len, padding='post')\n",
    "X_test_pad = pad_sequences(X_test_seq, maxlen=max_len, padding='post')"
   ]
  },
  {
   "cell_type": "code",
   "execution_count": 14,
   "id": "4a763003-f02f-43ff-8319-aacd7ef89b4a",
   "metadata": {},
   "outputs": [
    {
     "name": "stdout",
     "output_type": "stream",
     "text": [
      "[  53    3   91   55  288   53    3  906  952  109   91   68   30  116\n",
      "   32  529   18  674  254   58  482   25    3  458  288   32   68   26\n",
      "  176   26    5  297  560  287  371   91 4097  193   37  325  482   25\n",
      "  272 2260    3 1398  568 2531    2  469 1913   85  194    9   32   33\n",
      "   17    2    3  206  529 3614  355  741 8670  104 2206   26  226 5208\n",
      "  684   49    2  254 1559   23 2285  194 2416   48    3  458   61 1860\n",
      " 1748 6658    2  435  478 1755 1400 2571  285  325  716  434 1422 3202\n",
      "  325  505  331 3939   48  663  325 1690 1482   89 2051 1130    3   32\n",
      "  831  753  602   44   90  136  789    3    2   62   68  280 3042  102\n",
      "   64  833  179  715 3027  121  833   35   53    3   18 1825 2272    0\n",
      "    0    0    0    0    0    0    0    0    0    0    0    0    0    0\n",
      "    0    0    0    0    0    0    0    0    0    0    0    0    0    0\n",
      "    0    0    0    0    0    0    0    0    0    0    0    0    0    0\n",
      "    0    0    0    0    0    0    0    0    0    0    0    0    0    0\n",
      "    0    0    0    0    0    0    0    0    0    0    0    0    0    0\n",
      "    0    0    0    0    0    0    0    0    0    0    0    0    0    0\n",
      "    0    0    0    0    0    0    0    0    0    0    0    0    0    0\n",
      "    0    0    0    0    0    0    0    0    0    0    0    0    0    0\n",
      "    0    0    0    0    0    0    0    0    0    0    0    0    0    0\n",
      "    0    0    0    0    0    0    0    0    0    0    0    0    0    0\n",
      "    0    0    0    0    0    0    0    0    0    0    0    0    0    0\n",
      "    0    0    0    0    0    0    0    0    0    0    0    0    0    0\n",
      "    0    0    0    0    0    0    0    0    0    0    0    0    0    0\n",
      "    0    0    0    0    0    0    0    0    0    0    0    0    0    0\n",
      "    0    0    0    0    0    0    0    0    0    0    0    0    0    0\n",
      "    0    0    0    0    0    0    0    0    0    0    0    0    0    0\n",
      "    0    0    0    0    0    0    0    0    0    0    0    0    0    0\n",
      "    0    0    0    0    0    0    0    0    0    0    0    0    0    0\n",
      "    0    0    0    0    0    0    0    0    0    0    0    0    0    0\n",
      "    0    0    0    0    0    0    0    0    0    0    0    0    0    0\n",
      "    0    0    0    0    0    0    0    0    0    0    0    0    0    0\n",
      "    0    0    0    0    0    0    0    0    0    0    0    0    0    0\n",
      "    0    0    0    0    0    0    0    0    0    0    0    0    0    0\n",
      "    0    0    0    0    0    0    0    0    0    0    0    0    0    0\n",
      "    0    0    0    0    0    0    0    0    0    0    0    0    0    0\n",
      "    0    0    0    0    0    0    0    0    0    0    0    0    0    0\n",
      "    0    0    0    0    0    0    0    0    0    0    0    0    0    0\n",
      "    0    0    0    0    0    0    0    0    0    0    0    0    0    0\n",
      "    0    0    0    0    0    0    0    0    0    0    0    0    0    0\n",
      "    0    0    0    0    0    0    0    0    0    0    0    0    0    0\n",
      "    0    0    0    0    0    0    0    0    0    0    0    0    0    0\n",
      "    0    0    0    0    0    0    0    0    0    0    0    0    0    0]\n",
      "\n",
      "139 588\n"
     ]
    }
   ],
   "source": [
    "print(X_train_pad[5], end=\"\\n\\n\")\n",
    "print(len(X_train_seq[5]),len(X_train_pad[5]))"
   ]
  },
  {
   "cell_type": "code",
   "execution_count": 15,
   "id": "3f025975-4b42-4d19-8b8e-3ccfcc1d4c03",
   "metadata": {},
   "outputs": [
    {
     "name": "stdout",
     "output_type": "stream",
     "text": [
      "[  121    33   154  2232   362  4292  2401  5070  1863   408    12    95\n",
      "    15   261   756     7  1499    12     7  1113  1042   143   398   753\n",
      "  1823  1083  3025    52   362   445     8   411   168   381   398  3454\n",
      "  1965   170  2961   873    60   107   863    92    15  3220  3151     6\n",
      "   516   116   810    62     2   750  1260  2961   873   613   381    30\n",
      "   233    76     5   233   381   170   344   644  2512   665   841  1239\n",
      "  1083  1594  3025  5070  1863  1348  2615   880  2961   873   170  8073\n",
      "   240    60   107  8862  1772   709  1664    33   116  3028  1370   400\n",
      "   663  2286  2147  2621   626   419 26960   846  3617   315    70     2\n",
      "   666   367  2621   119    70     2   666   367  2252   846    66    70\n",
      "     5   367  2282   163    92   476  1198   505  2252   251  5743     5\n",
      "    42  2253  1260  2961   873     2  3151     2     4  3571   123     4\n",
      "  1229    33  1889     2   311   600   126   622  1863   821  7704  9822\n",
      "   141   510  3047 14303     8     2  2401    72   118  5721  2834  2790\n",
      "  2867   673   364  2694    70   824   846    10  1506   170  2834    98\n",
      "    36   364   112   846   126   615   398     8  3404   116   140  1772\n",
      "  3280   846    59   876  1495   235    80  1143   951  4936    13    67\n",
      "  3393   846   203  1047   141    15   950   283    33    80  5540  3816\n",
      "   408   192   624   110   560   192  3500   398    13   841    67   312\n",
      "   449   138    67    33  1952   624   110   140   841  3454 11049   408\n",
      "   116  1748     2   187  5182  3006   126    13  3922   419  1883   841\n",
      "  1613  1229   398    47   756    48   109   506   769     6  2061   109\n",
      "  1766    33   225   316     2  9543  8826   160   398   199    13  2958\n",
      "  3077   185   464   610    91    13   405    26    24    68  2487     2\n",
      "  1804 10897   395    13   841    67   392   757   943   453   120     2\n",
      "   229    26    87   232   113     2   253    90    68   145   829    26\n",
      "    87    80   354  5386  3051    33   841  3383   189   100   453   841\n",
      "    67    30  3536    24    19   624   110    91   398   846    67   142\n",
      "   395   638   128   351  1486    82     7    80    66   110   785   139\n",
      "    24  1578   408  5254   398     5   414   398  1506  1798   398    33\n",
      "   448  1594   398  1798   965  5394    88  5016  2440  1594     8   112\n",
      "  3617  1042 10286  1463   207  1501   256   399    17  1463    67    47\n",
      "   400  3406    20   553   398   170   788  2918  1083  1594    13  1809\n",
      "  4038    82    14   219    94   141   415    67  6186  7881     2   841\n",
      "   865   398   641   865   398   647    24   411  1531   719   116    67\n",
      "   742    82   196     4   841    67  4056   865    14  1001   271  8079\n",
      "     2 13926   613   318  4114   841   865  4767    33     2     4  1239\n",
      "   415     8  2344 13313  9866     2  1180    28   412  1332    33   449\n",
      "   138    67   293  2604  1287   417   408   259  4314   841  5762   167\n",
      "   841   225  1348   116  2667   570  4572  3424     2    49   637   555\n",
      "   170   344   644  2512   613   381   846  1348  2401  2217   249     2\n",
      "  1348  2401   846   112   381  3287  2416  3771    61  3300  1810  1297\n",
      "  1685  3393   841  1546  5339  2163  2401    36     2   398    67    12\n",
      "  1583  1365   673  3631    15  1042 10286   450   824  6024    33    17\n",
      "    77   559  2252    38  1679   370  2406   507    13   507 10286   139\n",
      "  1261  2252    82   177   214 10361   170   644  3346   127   283   116\n",
      "   232 20921   181    33    17    82   837  1048 30473  1048  1506  1798\n",
      "   841  3408  1594  1548   128    58  1135  3280  3842     2   398   152\n",
      " 14192  2135    64   116  1506  1798    66    13  3842   841  3408  1594]\n",
      "\n",
      "671 588\n"
     ]
    }
   ],
   "source": [
    "print(X_train_pad[3202], end=\"\\n\\n\")\n",
    "print(len(X_train_seq[3202]), len(X_train_pad[3202]))"
   ]
  },
  {
   "cell_type": "code",
   "execution_count": 16,
   "id": "078967f3-9435-4dba-ac19-4bee8d5ca3e2",
   "metadata": {},
   "outputs": [
    {
     "name": "stdout",
     "output_type": "stream",
     "text": [
      "[('<OOV>', 1), ('said', 2), ('trump', 3), ('would', 4), ('one', 5), ('new', 6), ('time', 7), ('people', 8), ('clinton', 9), ('like', 10)]\n"
     ]
    }
   ],
   "source": [
    "print(list(tokenizer.word_index.items())[:10])"
   ]
  },
  {
   "cell_type": "code",
   "execution_count": 17,
   "id": "3e11852e-a578-47af-b135-2c566bf148ea",
   "metadata": {},
   "outputs": [],
   "source": [
    "vocab_size = len(tokenizer.word_index) + 1\n",
    "# the tokenizer starts indexing from 1 but when padding is applied 0s are added to the sequences.\n",
    "# so to accomodate 0 to the vocabulary size, 1 is added."
   ]
  },
  {
   "cell_type": "code",
   "execution_count": 18,
   "id": "ebd4b361-dfdd-47a2-a6ad-09d5f5895782",
   "metadata": {},
   "outputs": [
    {
     "name": "stdout",
     "output_type": "stream",
     "text": [
      "35756\n"
     ]
    }
   ],
   "source": [
    "print(vocab_size)"
   ]
  },
  {
   "cell_type": "markdown",
   "id": "6191239a-9196-4a4b-8b0a-02ae9424b8d3",
   "metadata": {},
   "source": [
    "# Building Embedding Matrix"
   ]
  },
  {
   "cell_type": "code",
   "execution_count": 19,
   "id": "bef618ad-43e2-469a-926a-b958c3040a4a",
   "metadata": {},
   "outputs": [
    {
     "data": {
      "text/plain": [
       "array([ 0.03212018,  0.21126531,  0.07104886,  0.10651404, -0.00334147,\n",
       "       -0.57492197,  0.24309704,  0.3769244 , -0.21508898, -0.34461936,\n",
       "        0.2257808 , -0.22543235,  0.0261388 ,  0.27930623, -0.04069815,\n",
       "       -0.21267925, -0.06264514, -0.10235297, -0.10073029, -0.65680075,\n",
       "        0.26233137, -0.0357024 ,  0.2445402 , -0.10640348, -0.10502984,\n",
       "       -0.03551445, -0.26803082,  0.27647257, -0.37293643,  0.03609973,\n",
       "        0.2101603 , -0.10730185, -0.0087979 , -0.19471566,  0.01283712,\n",
       "        0.08800182,  0.0374861 ,  0.10885932,  0.1373011 , -0.3338313 ,\n",
       "       -0.04587324, -0.28493243, -0.13089795, -0.05930045,  0.00274863,\n",
       "       -0.03001351, -0.38437158,  0.15141906, -0.04185099,  0.2132608 ,\n",
       "       -0.15448917,  0.04548088,  0.2814993 ,  0.14293256,  0.13294223,\n",
       "        0.04246589,  0.26980823, -0.0916855 , -0.40968934,  0.07281284,\n",
       "        0.11452814,  0.17781012,  0.15257706,  0.10171232, -0.21825172,\n",
       "        0.27074704,  0.12500042,  0.0773636 , -0.15842628, -0.03208493,\n",
       "       -0.00341738,  0.29280567,  0.14722279, -0.24502636,  0.13583858,\n",
       "        0.02926461, -0.07866023,  0.06199358, -0.10180467, -0.19373928,\n",
       "       -0.18319312, -0.0947789 ,  0.07477308,  0.10127679,  0.02204956,\n",
       "       -0.18348743, -0.19112305,  0.09950178,  0.35064575,  0.28306556,\n",
       "        0.19781666, -0.00315164,  0.02233594, -0.09912723,  0.45578983,\n",
       "        0.01752197, -0.27175912, -0.28264624,  0.09002876, -0.04439193],\n",
       "      dtype=float32)"
      ]
     },
     "execution_count": 19,
     "metadata": {},
     "output_type": "execute_result"
    }
   ],
   "source": [
    "w2v_model.wv['said']"
   ]
  },
  {
   "cell_type": "code",
   "execution_count": 20,
   "id": "a0279218-e0bb-4a28-a394-50ce85f1acbe",
   "metadata": {},
   "outputs": [
    {
     "data": {
      "text/plain": [
       "['said',\n",
       " 'trump',\n",
       " 'would',\n",
       " 'one',\n",
       " 'new',\n",
       " 'time',\n",
       " 'people',\n",
       " 'clinton',\n",
       " 'like',\n",
       " 'president']"
      ]
     },
     "execution_count": 20,
     "metadata": {},
     "output_type": "execute_result"
    }
   ],
   "source": [
    "w2v_model.wv.index_to_key[:10]"
   ]
  },
  {
   "cell_type": "code",
   "execution_count": 21,
   "id": "9aa6012c-637f-4736-8a30-a3afc6224837",
   "metadata": {},
   "outputs": [
    {
     "name": "stdout",
     "output_type": "stream",
     "text": [
      "0\n"
     ]
    }
   ],
   "source": [
    "print(len([t for t in w2v_model.wv.index_to_key if t not in tokenizer.word_index]))"
   ]
  },
  {
   "cell_type": "code",
   "execution_count": 22,
   "id": "97536a02-63dc-4c5a-a109-4eadb34ddfc9",
   "metadata": {},
   "outputs": [
    {
     "name": "stdout",
     "output_type": "stream",
     "text": [
      "1\n"
     ]
    }
   ],
   "source": [
    "print(len([t for t in tokenizer.word_index if t not in w2v_model.wv.index_to_key]))"
   ]
  },
  {
   "cell_type": "code",
   "execution_count": 23,
   "id": "19984709-7326-48e5-8058-277435bc8165",
   "metadata": {},
   "outputs": [],
   "source": [
    "c = 0\n",
    "known_indices = []\n",
    "embedding_matrix = np.zeros((vocab_size, embedding_dim))\n",
    "for word, index in tokenizer.word_index.items():\n",
    "    if word in w2v_model.wv.index_to_key:\n",
    "        c += 1\n",
    "        known_indices.append(index)\n",
    "        embedding_matrix[index] = w2v_model.wv[word]"
   ]
  },
  {
   "cell_type": "code",
   "execution_count": 24,
   "id": "605598df-85ba-400f-88e2-2c8feb6f928d",
   "metadata": {},
   "outputs": [
    {
     "name": "stdout",
     "output_type": "stream",
     "text": [
      "[[ 0.          0.          0.          0.          0.          0.\n",
      "   0.          0.          0.          0.          0.          0.\n",
      "   0.          0.          0.          0.          0.          0.\n",
      "   0.          0.          0.          0.          0.          0.\n",
      "   0.          0.          0.          0.          0.          0.\n",
      "   0.          0.          0.          0.          0.          0.\n",
      "   0.          0.          0.          0.          0.          0.\n",
      "   0.          0.          0.          0.          0.          0.\n",
      "   0.          0.          0.          0.          0.          0.\n",
      "   0.          0.          0.          0.          0.          0.\n",
      "   0.          0.          0.          0.          0.          0.\n",
      "   0.          0.          0.          0.          0.          0.\n",
      "   0.          0.          0.          0.          0.          0.\n",
      "   0.          0.          0.          0.          0.          0.\n",
      "   0.          0.          0.          0.          0.          0.\n",
      "   0.          0.          0.          0.          0.          0.\n",
      "   0.          0.          0.          0.        ]\n",
      " [-0.06139764 -0.09728562  0.06781776  0.04873915 -0.04648788 -0.1578352\n",
      "  -0.19127783  0.49851298  0.22886781  0.00475672 -0.07879505 -0.30220515\n",
      "   0.03532482  0.006327    0.08721419 -0.24139199 -0.10368181 -0.21479033\n",
      "  -0.0007022  -0.29190603  0.44584626 -0.2112917   0.47521597 -0.07188304\n",
      "   0.01941089 -0.01440649 -0.23286656 -0.12094704 -0.25237891 -0.40312535\n",
      "   0.03249689 -0.03264786 -0.03959584 -0.10087007 -0.13371971  0.01618398\n",
      "   0.02978354 -0.13409612 -0.23936626 -0.27264369  0.16960485  0.10343489\n",
      "  -0.01238536  0.25317109  0.07686646 -0.07113678 -0.15218188 -0.28129676\n",
      "   0.22939478 -0.07551991 -0.29932645 -0.02261029  0.03062477 -0.06343201\n",
      "  -0.12034789  0.02348329  0.10643277  0.34693834 -0.11078281  0.1169241\n",
      "   0.30083945  0.11950035  0.25434548  0.06709924 -0.38257489 -0.05214361\n",
      "   0.10916115  0.32463205 -0.19369945  0.22830629  0.17283037 -0.12296426\n",
      "   0.31816354 -0.12550826  0.14719546 -0.2121339   0.2509079  -0.18419576\n",
      "  -0.34556332  0.13703856 -0.09025257 -0.07304533 -0.14874561  0.41287825\n",
      "  -0.0802286  -0.03624718  0.08452166  0.19568902 -0.10564494 -0.26570943\n",
      "   0.1875194   0.28978661  0.14621645 -0.08649271  0.43401933  0.04809072\n",
      "   0.10726293  0.11826448 -0.00813378  0.1186408 ]\n",
      " [-0.0308964   0.15141103  0.01158535  0.11672634  0.00756238 -0.2041184\n",
      "  -0.00226146  0.27309999 -0.07786074 -0.02049344 -0.27434057 -0.20473298\n",
      "  -0.03559694  0.02632631  0.06499075 -0.15947656  0.11517115 -0.17977428\n",
      "   0.14274895 -0.42932916  0.12658815 -0.09864649  0.13303657 -0.08997294\n",
      "   0.02389669 -0.01668007 -0.32232571 -0.11085681 -0.21166581 -0.10051072\n",
      "   0.12620953  0.17156827 -0.0696893  -0.02230396 -0.0950323   0.04351038\n",
      "  -0.01031357 -0.17558573 -0.13111021 -0.18528272  0.00725647  0.08239798\n",
      "  -0.15479417  0.12052592  0.15542807 -0.14439486 -0.23743312  0.00137429\n",
      "   0.10423759  0.16286255 -0.09307665  0.06357094  0.12407235  0.0855789\n",
      "  -0.17984362  0.14845201  0.17440566  0.03327901 -0.13814273  0.06729165\n",
      "   0.15752737  0.17659612 -0.02032835  0.07196062 -0.32967204  0.00101113\n",
      "   0.01365436  0.11965701 -0.0612972   0.09487886  0.05222118  0.07212694\n",
      "   0.20997354 -0.04212919  0.17532107 -0.06548862  0.09030028 -0.02642767\n",
      "  -0.17192888  0.12012627  0.06119581 -0.11023551 -0.18772097  0.35992539\n",
      "  -0.16071184  0.04575707 -0.04985722  0.17686337  0.05114101 -0.09144237\n",
      "   0.042969   -0.01642517  0.02094069  0.15303332  0.30583274  0.00251994\n",
      "   0.06953628  0.03942941 -0.00478887  0.12747847]\n",
      " [ 0.00309026  0.08168392  0.00705309  0.04094012 -0.05784801 -0.14164233\n",
      "  -0.05128985  0.14473556 -0.01654674 -0.03913491 -0.06386746 -0.14998905\n",
      "  -0.00732753  0.08076946 -0.01366545 -0.13582373 -0.00271046 -0.13854212\n",
      "   0.09535247 -0.16694926  0.0248352  -0.05917802  0.03340123  0.01240188\n",
      "  -0.08963174  0.00350693 -0.10570315 -0.00646648 -0.08254941  0.02519943\n",
      "   0.05380126 -0.01581132 -0.08267482  0.0043821  -0.06207983 -0.03186978\n",
      "   0.07721803 -0.05395167 -0.01899714 -0.15688676 -0.04264995 -0.0242161\n",
      "  -0.02034733  0.03089704  0.04918664 -0.03061098 -0.05657443 -0.05567393\n",
      "   0.02971299  0.11300132 -0.05491198 -0.04012264  0.02991949 -0.02117364\n",
      "  -0.05967367  0.06253795  0.08464124 -0.03643756 -0.11611831 -0.03082861\n",
      "   0.11616853  0.10798085 -0.01147808  0.02211608 -0.11222119  0.04304367\n",
      "   0.074724    0.02075966 -0.04920279  0.10717695  0.02192175  0.035512\n",
      "   0.08710149 -0.0393873   0.08440135  0.05075578 -0.01457427 -0.06671685\n",
      "  -0.0458542   0.03272332  0.04601664 -0.08065763  0.03608544  0.1789722\n",
      "  -0.05334544 -0.03045188 -0.08593067  0.09446114  0.01383923  0.01440061\n",
      "   0.06380643  0.03759294  0.07570752  0.02338254  0.18126418  0.0140443\n",
      "   0.04370331 -0.05354334  0.07019113  0.01537991]]\n",
      "35754\n"
     ]
    }
   ],
   "source": [
    "print(embedding_matrix[::10000])\n",
    "print(c)"
   ]
  },
  {
   "cell_type": "markdown",
   "id": "c085b0cf-38ac-4eee-b3e9-466d2dd108e3",
   "metadata": {},
   "source": [
    "* Since both tokenizer and word2vec were trained on X_train and min_count=1 (word2vec), the only missing word in the word2vec dictionary is the oov token. The embeddings for oov token can be left as 0s, be give random values, or be computed by averaging the embeddings of all other known tokens. \n",
    "\n",
    "* If min_count was higher, leading to word2vec skipping words that occur fewer times, or if a different corpus was used for training word2vec, and there are several words from the tokenizer vocabulary (more than 5-10%) with no embeddings, then we can initialize the embeddings for them randomly and set 'trainable=True' in the Embedding layer of classifiers, so that they'll be learnt during the model training."
   ]
  },
  {
   "cell_type": "code",
   "execution_count": 25,
   "id": "e08d1102-2ff2-4988-bad1-0d49747b1b7f",
   "metadata": {},
   "outputs": [
    {
     "name": "stdout",
     "output_type": "stream",
     "text": [
      "[ 6.67408105e-03  1.49148651e-01  6.84355590e-02  1.00343444e-01\n",
      " -3.63236967e-02 -2.15296956e-01 -7.16844942e-02  2.68578383e-01\n",
      " -3.30390855e-02 -8.44060795e-02 -1.29221092e-01 -2.30105511e-01\n",
      "  1.35611215e-03  1.25924878e-01  6.30068609e-02 -1.64831314e-01\n",
      " -8.98780898e-03 -1.67719715e-01  9.88259201e-02 -3.52187339e-01\n",
      "  5.23495376e-02 -3.66099274e-02  8.34926828e-02 -3.02134539e-02\n",
      " -5.64875164e-02  1.66839261e-02 -1.89085348e-01 -3.88426545e-03\n",
      " -1.38885388e-01 -2.40472693e-02  5.71997026e-02  3.10019560e-02\n",
      " -8.47217973e-02 -2.84485834e-02 -6.83348967e-02  5.40039948e-02\n",
      "  6.42456558e-02 -1.48847339e-01 -5.64452109e-02 -2.36282975e-01\n",
      " -9.06705413e-03 -3.22986868e-02 -7.24884358e-02  2.99188603e-02\n",
      "  1.07009233e-01 -4.88084442e-02 -1.57553390e-01 -2.74577277e-02\n",
      "  9.17174321e-02  2.04323395e-01 -9.83851830e-02 -1.31276212e-02\n",
      "  4.85572243e-02  4.80161020e-03 -8.35346627e-02  1.18935265e-01\n",
      "  1.41121476e-01 -1.28561195e-02 -1.92269216e-01  1.12235108e-04\n",
      "  1.92744077e-01  1.75619424e-01 -1.94728836e-02  5.02871101e-02\n",
      " -2.38969376e-01  3.91521045e-02  8.00771305e-02  9.83566717e-02\n",
      " -1.08040111e-01  1.17865730e-01  3.41463466e-02  6.56604867e-02\n",
      "  1.91543019e-01 -1.39887664e-01  1.17137758e-01  4.85294721e-02\n",
      "  4.82882311e-02 -5.66167806e-02 -1.58478376e-01  6.30558211e-02\n",
      "  6.04143628e-02 -1.13357932e-01 -5.42474530e-02  2.51867051e-01\n",
      " -5.55514797e-02 -5.21900039e-03 -1.00138717e-01  1.98481512e-01\n",
      "  9.19552228e-02  3.02588198e-02  6.98039803e-02  3.67057274e-02\n",
      "  5.11406758e-02  9.64395956e-02  3.04740642e-01  2.53484159e-02\n",
      "  1.75261027e-02 -9.35366751e-02  4.37450809e-02  8.56888156e-02]\n"
     ]
    }
   ],
   "source": [
    "# taking mean of the embeddings of all known tokens for the oov token\n",
    "oov_token = getattr(tokenizer, 'oov_token', None)\n",
    "if oov_token and oov_token in tokenizer.word_index:\n",
    "    oov_index = tokenizer.word_index[oov_token]\n",
    "    embedding_matrix[oov_index] = np.mean([embedding_matrix[i] for i in known_indices], axis=0)\n",
    "    print(embedding_matrix[oov_index])"
   ]
  },
  {
   "cell_type": "markdown",
   "id": "06a60a0f-6f65-4d57-92eb-97d2a01d680b",
   "metadata": {},
   "source": [
    "# Classification Models"
   ]
  },
  {
   "cell_type": "markdown",
   "id": "24b43d3f-559c-45c8-b75f-2a8c292d715c",
   "metadata": {},
   "source": [
    "* Data with a sequence dimension alone such as time series, text tokens, etc. are dealt with Conv1D, while data with 2 spatial dimensions (height and width with channels) are handled using Conv2D.\n",
    "\n",
    "* A Conv1D kernel of size *n* acts as an *n-gram* detector, so, CNNs are useful for capturing local patterns like phrases that can detect fakeness. Pooling will further highlight the most important features. (However, it is better practice to use Pooling, particularly Global pooling, near the end before going to Dense layers to prevent excess loss of information.)\n",
    "\n",
    "* RNNs/LSTMs/GRUs are ideal for sequential data like text, CNNs tend to work much faster than RNNs and can sometimes be more effective too. \n",
    "    * CNNs are useful when we care more about capturing local phrase-level patterns.\n",
    "    * Simple RNNs can learn sequential dependencies but struggles with long sentences as they suffer from the vanishing gradient problem.\n",
    "    * LSTMs/GRUs are useful when we want to capture long-term sequential dependencies.\n",
    "    * Transformers are useful for both local and global dependencies."
   ]
  },
  {
   "cell_type": "markdown",
   "id": "92b57f32-b121-4c25-aded-1add38507005",
   "metadata": {},
   "source": [
    "## CNN"
   ]
  },
  {
   "cell_type": "code",
   "execution_count": 26,
   "id": "b43a8a57-b890-44fa-88c5-9276c4649fac",
   "metadata": {},
   "outputs": [],
   "source": [
    "epochs = 500\n",
    "batch_size = 128\n",
    "patience = 5"
   ]
  },
  {
   "cell_type": "code",
   "execution_count": 27,
   "id": "c8b5cf92-1195-423c-b9ee-e147623da9be",
   "metadata": {},
   "outputs": [
    {
     "data": {
      "text/html": [
       "<pre style=\"white-space:pre;overflow-x:auto;line-height:normal;font-family:Menlo,'DejaVu Sans Mono',consolas,'Courier New',monospace\"><span style=\"font-weight: bold\">Model: \"sequential\"</span>\n",
       "</pre>\n"
      ],
      "text/plain": [
       "\u001b[1mModel: \"sequential\"\u001b[0m\n"
      ]
     },
     "metadata": {},
     "output_type": "display_data"
    },
    {
     "data": {
      "text/html": [
       "<pre style=\"white-space:pre;overflow-x:auto;line-height:normal;font-family:Menlo,'DejaVu Sans Mono',consolas,'Courier New',monospace\">┏━━━━━━━━━━━━━━━━━━━━━━━━━━━━━━━━━━━━━━┳━━━━━━━━━━━━━━━━━━━━━━━━━━━━━┳━━━━━━━━━━━━━━━━━┓\n",
       "┃<span style=\"font-weight: bold\"> Layer (type)                         </span>┃<span style=\"font-weight: bold\"> Output Shape                </span>┃<span style=\"font-weight: bold\">         Param # </span>┃\n",
       "┡━━━━━━━━━━━━━━━━━━━━━━━━━━━━━━━━━━━━━━╇━━━━━━━━━━━━━━━━━━━━━━━━━━━━━╇━━━━━━━━━━━━━━━━━┩\n",
       "│ embedding (<span style=\"color: #0087ff; text-decoration-color: #0087ff\">Embedding</span>)                │ (<span style=\"color: #00d7ff; text-decoration-color: #00d7ff\">None</span>, <span style=\"color: #00af00; text-decoration-color: #00af00\">588</span>, <span style=\"color: #00af00; text-decoration-color: #00af00\">100</span>)            │       <span style=\"color: #00af00; text-decoration-color: #00af00\">3,575,600</span> │\n",
       "├──────────────────────────────────────┼─────────────────────────────┼─────────────────┤\n",
       "│ conv1d (<span style=\"color: #0087ff; text-decoration-color: #0087ff\">Conv1D</span>)                      │ (<span style=\"color: #00d7ff; text-decoration-color: #00d7ff\">None</span>, <span style=\"color: #00af00; text-decoration-color: #00af00\">584</span>, <span style=\"color: #00af00; text-decoration-color: #00af00\">128</span>)            │          <span style=\"color: #00af00; text-decoration-color: #00af00\">64,128</span> │\n",
       "├──────────────────────────────────────┼─────────────────────────────┼─────────────────┤\n",
       "│ global_max_pooling1d                 │ (<span style=\"color: #00d7ff; text-decoration-color: #00d7ff\">None</span>, <span style=\"color: #00af00; text-decoration-color: #00af00\">128</span>)                 │               <span style=\"color: #00af00; text-decoration-color: #00af00\">0</span> │\n",
       "│ (<span style=\"color: #0087ff; text-decoration-color: #0087ff\">GlobalMaxPooling1D</span>)                 │                             │                 │\n",
       "├──────────────────────────────────────┼─────────────────────────────┼─────────────────┤\n",
       "│ dense (<span style=\"color: #0087ff; text-decoration-color: #0087ff\">Dense</span>)                        │ (<span style=\"color: #00d7ff; text-decoration-color: #00d7ff\">None</span>, <span style=\"color: #00af00; text-decoration-color: #00af00\">64</span>)                  │           <span style=\"color: #00af00; text-decoration-color: #00af00\">8,256</span> │\n",
       "├──────────────────────────────────────┼─────────────────────────────┼─────────────────┤\n",
       "│ dropout (<span style=\"color: #0087ff; text-decoration-color: #0087ff\">Dropout</span>)                    │ (<span style=\"color: #00d7ff; text-decoration-color: #00d7ff\">None</span>, <span style=\"color: #00af00; text-decoration-color: #00af00\">64</span>)                  │               <span style=\"color: #00af00; text-decoration-color: #00af00\">0</span> │\n",
       "├──────────────────────────────────────┼─────────────────────────────┼─────────────────┤\n",
       "│ dense_1 (<span style=\"color: #0087ff; text-decoration-color: #0087ff\">Dense</span>)                      │ (<span style=\"color: #00d7ff; text-decoration-color: #00d7ff\">None</span>, <span style=\"color: #00af00; text-decoration-color: #00af00\">1</span>)                   │              <span style=\"color: #00af00; text-decoration-color: #00af00\">65</span> │\n",
       "└──────────────────────────────────────┴─────────────────────────────┴─────────────────┘\n",
       "</pre>\n"
      ],
      "text/plain": [
       "┏━━━━━━━━━━━━━━━━━━━━━━━━━━━━━━━━━━━━━━┳━━━━━━━━━━━━━━━━━━━━━━━━━━━━━┳━━━━━━━━━━━━━━━━━┓\n",
       "┃\u001b[1m \u001b[0m\u001b[1mLayer (type)                        \u001b[0m\u001b[1m \u001b[0m┃\u001b[1m \u001b[0m\u001b[1mOutput Shape               \u001b[0m\u001b[1m \u001b[0m┃\u001b[1m \u001b[0m\u001b[1m        Param #\u001b[0m\u001b[1m \u001b[0m┃\n",
       "┡━━━━━━━━━━━━━━━━━━━━━━━━━━━━━━━━━━━━━━╇━━━━━━━━━━━━━━━━━━━━━━━━━━━━━╇━━━━━━━━━━━━━━━━━┩\n",
       "│ embedding (\u001b[38;5;33mEmbedding\u001b[0m)                │ (\u001b[38;5;45mNone\u001b[0m, \u001b[38;5;34m588\u001b[0m, \u001b[38;5;34m100\u001b[0m)            │       \u001b[38;5;34m3,575,600\u001b[0m │\n",
       "├──────────────────────────────────────┼─────────────────────────────┼─────────────────┤\n",
       "│ conv1d (\u001b[38;5;33mConv1D\u001b[0m)                      │ (\u001b[38;5;45mNone\u001b[0m, \u001b[38;5;34m584\u001b[0m, \u001b[38;5;34m128\u001b[0m)            │          \u001b[38;5;34m64,128\u001b[0m │\n",
       "├──────────────────────────────────────┼─────────────────────────────┼─────────────────┤\n",
       "│ global_max_pooling1d                 │ (\u001b[38;5;45mNone\u001b[0m, \u001b[38;5;34m128\u001b[0m)                 │               \u001b[38;5;34m0\u001b[0m │\n",
       "│ (\u001b[38;5;33mGlobalMaxPooling1D\u001b[0m)                 │                             │                 │\n",
       "├──────────────────────────────────────┼─────────────────────────────┼─────────────────┤\n",
       "│ dense (\u001b[38;5;33mDense\u001b[0m)                        │ (\u001b[38;5;45mNone\u001b[0m, \u001b[38;5;34m64\u001b[0m)                  │           \u001b[38;5;34m8,256\u001b[0m │\n",
       "├──────────────────────────────────────┼─────────────────────────────┼─────────────────┤\n",
       "│ dropout (\u001b[38;5;33mDropout\u001b[0m)                    │ (\u001b[38;5;45mNone\u001b[0m, \u001b[38;5;34m64\u001b[0m)                  │               \u001b[38;5;34m0\u001b[0m │\n",
       "├──────────────────────────────────────┼─────────────────────────────┼─────────────────┤\n",
       "│ dense_1 (\u001b[38;5;33mDense\u001b[0m)                      │ (\u001b[38;5;45mNone\u001b[0m, \u001b[38;5;34m1\u001b[0m)                   │              \u001b[38;5;34m65\u001b[0m │\n",
       "└──────────────────────────────────────┴─────────────────────────────┴─────────────────┘\n"
      ]
     },
     "metadata": {},
     "output_type": "display_data"
    },
    {
     "data": {
      "text/html": [
       "<pre style=\"white-space:pre;overflow-x:auto;line-height:normal;font-family:Menlo,'DejaVu Sans Mono',consolas,'Courier New',monospace\"><span style=\"font-weight: bold\"> Total params: </span><span style=\"color: #00af00; text-decoration-color: #00af00\">3,648,049</span> (13.92 MB)\n",
       "</pre>\n"
      ],
      "text/plain": [
       "\u001b[1m Total params: \u001b[0m\u001b[38;5;34m3,648,049\u001b[0m (13.92 MB)\n"
      ]
     },
     "metadata": {},
     "output_type": "display_data"
    },
    {
     "data": {
      "text/html": [
       "<pre style=\"white-space:pre;overflow-x:auto;line-height:normal;font-family:Menlo,'DejaVu Sans Mono',consolas,'Courier New',monospace\"><span style=\"font-weight: bold\"> Trainable params: </span><span style=\"color: #00af00; text-decoration-color: #00af00\">72,449</span> (283.00 KB)\n",
       "</pre>\n"
      ],
      "text/plain": [
       "\u001b[1m Trainable params: \u001b[0m\u001b[38;5;34m72,449\u001b[0m (283.00 KB)\n"
      ]
     },
     "metadata": {},
     "output_type": "display_data"
    },
    {
     "data": {
      "text/html": [
       "<pre style=\"white-space:pre;overflow-x:auto;line-height:normal;font-family:Menlo,'DejaVu Sans Mono',consolas,'Courier New',monospace\"><span style=\"font-weight: bold\"> Non-trainable params: </span><span style=\"color: #00af00; text-decoration-color: #00af00\">3,575,600</span> (13.64 MB)\n",
       "</pre>\n"
      ],
      "text/plain": [
       "\u001b[1m Non-trainable params: \u001b[0m\u001b[38;5;34m3,575,600\u001b[0m (13.64 MB)\n"
      ]
     },
     "metadata": {},
     "output_type": "display_data"
    }
   ],
   "source": [
    "model_cnn = Sequential()\n",
    "model_cnn.add(Input(shape=(max_len,)))\n",
    "model_cnn.add(Embedding(input_dim=vocab_size, output_dim=embedding_dim,\n",
    "                        weights=[embedding_matrix],\n",
    "                        trainable=False))\n",
    "model_cnn.add(Conv1D(filters=128, kernel_size=5, strides=1, \n",
    "                     padding='valid', activation='relu'))\n",
    "model_cnn.add(GlobalMaxPooling1D())\n",
    "model_cnn.add(Dense(64, activation='relu'))\n",
    "model_cnn.add(Dropout(0.3))\n",
    "model_cnn.add(Dense(1, activation='sigmoid'))\n",
    "model_cnn.compile(optimizer='adam', loss='binary_crossentropy', metrics=['accuracy'])\n",
    "model_cnn.summary()"
   ]
  },
  {
   "cell_type": "markdown",
   "id": "f7a55092-97a1-4fce-b7ea-dafa965ca0de",
   "metadata": {},
   "source": [
    "* model_cnn.add(Embedding(input_dim=vocab_size, output_dim=embedding_dim,\n",
    "                        weights=[embedding_matrix], input_length=max_len,\n",
    "                        trainable=False))\n",
    "* input_dim -> size of the vocabulary\n",
    "* input_length -> maximum length of each input sequence -> this is now deprecated, so, instead\n",
    "                add an input layer before the embedding layer and give the shape there\n",
    "* embedding_matrix is the weights between the input and embedding layers\n",
    "* trainable=False -> the weights of the embedding matrix will not change during model training"
   ]
  },
  {
   "cell_type": "code",
   "execution_count": 28,
   "id": "1c01bdb8-d5f7-4fd5-b42e-e1f03051d08e",
   "metadata": {},
   "outputs": [
    {
     "name": "stdout",
     "output_type": "stream",
     "text": [
      "Epoch 1/500\n",
      "\u001b[1m103/103\u001b[0m \u001b[32m━━━━━━━━━━━━━━━━━━━━\u001b[0m\u001b[37m\u001b[0m \u001b[1m12s\u001b[0m 94ms/step - accuracy: 0.8287 - loss: 0.3881 - val_accuracy: 0.8954 - val_loss: 0.2507\n",
      "Epoch 2/500\n",
      "\u001b[1m103/103\u001b[0m \u001b[32m━━━━━━━━━━━━━━━━━━━━\u001b[0m\u001b[37m\u001b[0m \u001b[1m10s\u001b[0m 94ms/step - accuracy: 0.9332 - loss: 0.1742 - val_accuracy: 0.9352 - val_loss: 0.1683\n",
      "Epoch 3/500\n",
      "\u001b[1m103/103\u001b[0m \u001b[32m━━━━━━━━━━━━━━━━━━━━\u001b[0m\u001b[37m\u001b[0m \u001b[1m10s\u001b[0m 96ms/step - accuracy: 0.9572 - loss: 0.1200 - val_accuracy: 0.9294 - val_loss: 0.1765\n",
      "Epoch 4/500\n",
      "\u001b[1m103/103\u001b[0m \u001b[32m━━━━━━━━━━━━━━━━━━━━\u001b[0m\u001b[37m\u001b[0m \u001b[1m10s\u001b[0m 92ms/step - accuracy: 0.9708 - loss: 0.0856 - val_accuracy: 0.9446 - val_loss: 0.1416\n",
      "Epoch 5/500\n",
      "\u001b[1m103/103\u001b[0m \u001b[32m━━━━━━━━━━━━━━━━━━━━\u001b[0m\u001b[37m\u001b[0m \u001b[1m10s\u001b[0m 92ms/step - accuracy: 0.9865 - loss: 0.0461 - val_accuracy: 0.9428 - val_loss: 0.1490\n",
      "Epoch 6/500\n",
      "\u001b[1m103/103\u001b[0m \u001b[32m━━━━━━━━━━━━━━━━━━━━\u001b[0m\u001b[37m\u001b[0m \u001b[1m9s\u001b[0m 89ms/step - accuracy: 0.9928 - loss: 0.0315 - val_accuracy: 0.9370 - val_loss: 0.1760\n",
      "Epoch 7/500\n",
      "\u001b[1m103/103\u001b[0m \u001b[32m━━━━━━━━━━━━━━━━━━━━\u001b[0m\u001b[37m\u001b[0m \u001b[1m10s\u001b[0m 94ms/step - accuracy: 0.9976 - loss: 0.0168 - val_accuracy: 0.9507 - val_loss: 0.1473\n",
      "Epoch 8/500\n",
      "\u001b[1m103/103\u001b[0m \u001b[32m━━━━━━━━━━━━━━━━━━━━\u001b[0m\u001b[37m\u001b[0m \u001b[1m10s\u001b[0m 97ms/step - accuracy: 0.9994 - loss: 0.0093 - val_accuracy: 0.9516 - val_loss: 0.1494\n",
      "Epoch 9/500\n",
      "\u001b[1m103/103\u001b[0m \u001b[32m━━━━━━━━━━━━━━━━━━━━\u001b[0m\u001b[37m\u001b[0m \u001b[1m10s\u001b[0m 100ms/step - accuracy: 0.9999 - loss: 0.0052 - val_accuracy: 0.9523 - val_loss: 0.1571\n",
      "Epoch 9: early stopping\n",
      "Restoring model weights from the end of the best epoch: 4.\n"
     ]
    },
    {
     "data": {
      "text/plain": [
       "<keras.src.callbacks.history.History at 0x13a5791d970>"
      ]
     },
     "execution_count": 28,
     "metadata": {},
     "output_type": "execute_result"
    }
   ],
   "source": [
    "estop = EarlyStopping(monitor='val_loss', mode='min',\n",
    "                      min_delta=1e-5, patience=patience,\n",
    "                      restore_best_weights=True, verbose=1)\n",
    "model_cnn.fit(X_train_pad, y_train,\n",
    "              validation_split=0.2,\n",
    "              callbacks=[estop],\n",
    "              epochs=epochs, batch_size=batch_size,\n",
    "              verbose=1)"
   ]
  },
  {
   "cell_type": "code",
   "execution_count": 29,
   "id": "366afe47-9c26-4e40-836b-5746fe5ffca9",
   "metadata": {},
   "outputs": [
    {
     "name": "stdout",
     "output_type": "stream",
     "text": [
      "CNN Test Accuracy: 0.952798068523407\n",
      "CNN Test Loss: 0.12922532856464386\n"
     ]
    }
   ],
   "source": [
    "loss_cnn, accuracy_cnn = model_cnn.evaluate(X_test_pad, y_test, verbose=0)\n",
    "print(\"CNN Test Accuracy:\", accuracy_cnn)\n",
    "print(\"CNN Test Loss:\", loss_cnn)"
   ]
  },
  {
   "cell_type": "code",
   "execution_count": 30,
   "id": "10647b08-8b47-4d51-a995-5b87735cd354",
   "metadata": {},
   "outputs": [
    {
     "name": "stdout",
     "output_type": "stream",
     "text": [
      "              precision    recall  f1-score   support\n",
      "\n",
      "           0       0.94      0.97      0.95      2078\n",
      "           1       0.96      0.94      0.95      2032\n",
      "\n",
      "    accuracy                           0.95      4110\n",
      "   macro avg       0.95      0.95      0.95      4110\n",
      "weighted avg       0.95      0.95      0.95      4110\n",
      "\n"
     ]
    }
   ],
   "source": [
    "y_pred_cnn = (model_cnn.predict(X_test_pad, verbose=0) >= 0.5).astype(int)\n",
    "print(classification_report(y_test, y_pred_cnn))"
   ]
  },
  {
   "cell_type": "markdown",
   "id": "63a96acd-5da4-46bc-8a13-5c9b080f1ec9",
   "metadata": {},
   "source": [
    "## Trying different embedding dimensions and window sizes"
   ]
  },
  {
   "cell_type": "code",
   "execution_count": 31,
   "id": "5148a7c1-807a-44a7-8a96-37bcc63038c7",
   "metadata": {},
   "outputs": [],
   "source": [
    "def get_embedding_matrix(w2v_model, embedding_dim, tokenizer):\n",
    "    vocab_size = len(tokenizer.word_index) + 1\n",
    "    embedding_matrix = np.zeros((vocab_size, embedding_dim))\n",
    "    known_indices = []\n",
    "    for word, index in tokenizer.word_index.items():\n",
    "        if word in w2v_model.wv.index_to_key:\n",
    "            known_indices.append(index)\n",
    "            embedding_matrix[index] = w2v_model.wv[word]\n",
    "    oov_token = getattr(tokenizer, 'oov_token', None)\n",
    "    if oov_token and oov_token in tokenizer.word_index:\n",
    "        oov_index = tokenizer.word_index[oov_token]\n",
    "        embedding_matrix[oov_index] = np.mean([embedding_matrix[i] for i in known_indices], axis=0)\n",
    "    return embedding_matrix"
   ]
  },
  {
   "cell_type": "code",
   "execution_count": 32,
   "id": "8b24af11-1272-4803-8f39-ea008457a87d",
   "metadata": {},
   "outputs": [],
   "source": [
    "def get_model(max_len, vocab_size, embedding_dim, embedding_matrix):\n",
    "    model = Sequential()\n",
    "    model.add(Input(shape=(max_len,)))\n",
    "    model.add(Embedding(input_dim=vocab_size, output_dim=embedding_dim,\n",
    "                            weights=[embedding_matrix],\n",
    "                            trainable=False))\n",
    "    model.add(Conv1D(filters=128, kernel_size=5, strides=1, \n",
    "                         padding='valid', activation='relu'))\n",
    "    model.add(GlobalMaxPooling1D())\n",
    "    model.add(Dense(64, activation='relu'))\n",
    "    model.add(Dropout(0.3))\n",
    "    model.add(Dense(1, activation='sigmoid'))\n",
    "    model.compile(optimizer='adam', loss='binary_crossentropy', metrics=['accuracy'])\n",
    "    return model"
   ]
  },
  {
   "cell_type": "code",
   "execution_count": 33,
   "id": "c034a6ae-606b-4aec-aa34-c44837a71b6c",
   "metadata": {},
   "outputs": [],
   "source": [
    "embedding_dims = [100, 200, 300, 500]\n",
    "windows = [3, 5, 7, 9]\n",
    "best = {'params':{'embedding_dim':None, 'windows':None, 'max_len':max_len}, \n",
    "        'w2v_model':None, \n",
    "        'cnn_model':None, \n",
    "        'val_accuracy':float('-inf')}"
   ]
  },
  {
   "cell_type": "code",
   "execution_count": 34,
   "id": "c9471907-008e-40d1-a0a2-a380933b6d6c",
   "metadata": {},
   "outputs": [],
   "source": [
    "X_train_pad, X_val_pad, y_train, y_val = train_test_split(X_train_pad, y_train, test_size=0.2, stratify=y_train, random_state=42)"
   ]
  },
  {
   "cell_type": "code",
   "execution_count": 36,
   "id": "73e42ae8-fe1c-4b48-a5ea-eae84818f075",
   "metadata": {},
   "outputs": [
    {
     "name": "stdout",
     "output_type": "stream",
     "text": [
      "Embedding dim: 100, Window: 3\n",
      "Epoch 16: early stopping\n",
      "Restoring model weights from the end of the best epoch: 11.\n",
      "Best validation accuracy: 0.9531630277633667\n",
      "{'embedding_dim': 100, 'windows': 3, 'max_len': 588}\n",
      "--- updated ---\n",
      "\n",
      "Embedding dim: 100, Window: 5\n",
      "Epoch 12: early stopping\n",
      "Restoring model weights from the end of the best epoch: 7.\n",
      "Best validation accuracy: 0.9525547623634338\n",
      "\n",
      "Embedding dim: 100, Window: 7\n",
      "Epoch 12: early stopping\n",
      "Restoring model weights from the end of the best epoch: 7.\n",
      "Best validation accuracy: 0.9531630277633667\n",
      "\n",
      "Embedding dim: 100, Window: 9\n",
      "Epoch 17: early stopping\n",
      "Restoring model weights from the end of the best epoch: 12.\n",
      "Best validation accuracy: 0.9531630277633667\n",
      "\n",
      "Embedding dim: 200, Window: 3\n",
      "Epoch 13: early stopping\n",
      "Restoring model weights from the end of the best epoch: 8.\n",
      "Best validation accuracy: 0.9574209451675415\n",
      "{'embedding_dim': 200, 'windows': 3, 'max_len': 588}\n",
      "--- updated ---\n",
      "\n",
      "Embedding dim: 200, Window: 5\n",
      "Epoch 24: early stopping\n",
      "Restoring model weights from the end of the best epoch: 19.\n",
      "Best validation accuracy: 0.962895393371582\n",
      "{'embedding_dim': 200, 'windows': 5, 'max_len': 588}\n",
      "--- updated ---\n",
      "\n",
      "Embedding dim: 200, Window: 7\n",
      "Epoch 11: early stopping\n",
      "Restoring model weights from the end of the best epoch: 6.\n",
      "Best validation accuracy: 0.9552919864654541\n",
      "\n",
      "Embedding dim: 200, Window: 9\n",
      "Epoch 22: early stopping\n",
      "Restoring model weights from the end of the best epoch: 17.\n",
      "Best validation accuracy: 0.9592457413673401\n",
      "\n",
      "Embedding dim: 300, Window: 3\n",
      "Epoch 14: early stopping\n",
      "Restoring model weights from the end of the best epoch: 9.\n",
      "Best validation accuracy: 0.9604622721672058\n",
      "\n",
      "Embedding dim: 300, Window: 5\n",
      "Epoch 10: early stopping\n",
      "Restoring model weights from the end of the best epoch: 5.\n",
      "Best validation accuracy: 0.9571167826652527\n",
      "\n",
      "Embedding dim: 300, Window: 7\n",
      "Epoch 11: early stopping\n",
      "Restoring model weights from the end of the best epoch: 6.\n",
      "Best validation accuracy: 0.9580292105674744\n",
      "\n",
      "Embedding dim: 300, Window: 9\n",
      "Epoch 15: early stopping\n",
      "Restoring model weights from the end of the best epoch: 10.\n",
      "Best validation accuracy: 0.9607664346694946\n",
      "\n",
      "Embedding dim: 500, Window: 3\n",
      "Epoch 15: early stopping\n",
      "Restoring model weights from the end of the best epoch: 10.\n",
      "Best validation accuracy: 0.9601581692695618\n",
      "\n",
      "Embedding dim: 500, Window: 5\n",
      "Epoch 21: early stopping\n",
      "Restoring model weights from the end of the best epoch: 16.\n",
      "Best validation accuracy: 0.9644160866737366\n",
      "{'embedding_dim': 500, 'windows': 5, 'max_len': 588}\n",
      "--- updated ---\n",
      "\n",
      "Embedding dim: 500, Window: 7\n",
      "Epoch 19: early stopping\n",
      "Restoring model weights from the end of the best epoch: 14.\n",
      "Best validation accuracy: 0.9619829654693604\n",
      "\n",
      "Embedding dim: 500, Window: 9\n",
      "Epoch 14: early stopping\n",
      "Restoring model weights from the end of the best epoch: 9.\n",
      "Best validation accuracy: 0.9622871279716492\n",
      "\n"
     ]
    }
   ],
   "source": [
    "for embedding_dim in embedding_dims:\n",
    "    for window in windows:\n",
    "        print(f\"Embedding dim: {embedding_dim}, Window: {window}\")\n",
    "        w2v_model_trial = Word2Vec(\n",
    "            sentences=X_train,\n",
    "            vector_size=embedding_dim,\n",
    "            window=window,\n",
    "            min_count=1,\n",
    "            sg=1,\n",
    "            workers=4\n",
    "        )\n",
    "        embedding_matrix = get_embedding_matrix(w2v_model_trial, embedding_dim, tokenizer)\n",
    "\n",
    "        model = get_model(max_len, vocab_size, embedding_dim, embedding_matrix)\n",
    "        \n",
    "        estop = EarlyStopping(monitor='val_accuracy', mode='max',\n",
    "                      min_delta=1e-5, patience=patience,\n",
    "                      restore_best_weights=True, verbose=1)\n",
    "        history = model.fit(X_train_pad, y_train,\n",
    "                      validation_data=(X_val_pad, y_val),\n",
    "                      callbacks=[estop],\n",
    "                      epochs=epochs, batch_size=batch_size,\n",
    "                      verbose=0)\n",
    "        val_accuracy = max(history.history['val_accuracy'])\n",
    "        print(f\"Best validation accuracy: {val_accuracy}\")\n",
    "        \n",
    "        if val_accuracy > best['val_accuracy']:\n",
    "            best['val_accuracy'] = val_accuracy\n",
    "            best['params']['embedding_dim'] = embedding_dim\n",
    "            best['params']['windows'] = window\n",
    "            best['w2v_model'] = w2v_model_trial\n",
    "            best['cnn_model'] = model\n",
    "            print(best['params'])\n",
    "            print(\"--- updated ---\")\n",
    "        print()"
   ]
  },
  {
   "cell_type": "code",
   "execution_count": 37,
   "id": "ef4e0f8a-0a87-4b7e-a1bb-665418e577a8",
   "metadata": {},
   "outputs": [
    {
     "name": "stdout",
     "output_type": "stream",
     "text": [
      "{'embedding_dim': 500, 'windows': 5, 'max_len': 588}\n"
     ]
    }
   ],
   "source": [
    "print(best['params'])"
   ]
  },
  {
   "cell_type": "code",
   "execution_count": 38,
   "id": "000c264a-936d-4555-a116-80e6c36ba940",
   "metadata": {},
   "outputs": [],
   "source": [
    "best['w2v_model'].save('artifacts/word2vec_custom_model.model')"
   ]
  },
  {
   "cell_type": "code",
   "execution_count": 39,
   "id": "aee5ff8a-fd5c-4c08-a034-0407cb6c03cc",
   "metadata": {},
   "outputs": [],
   "source": [
    "best_embedding_matrix = get_embedding_matrix(best['w2v_model'], best['params']['embedding_dim'], tokenizer)"
   ]
  },
  {
   "cell_type": "markdown",
   "id": "ddae3b5d-ddf9-4d15-98b3-285e3f0b7b2a",
   "metadata": {},
   "source": [
    "## Trying different Maximum Lengths for padding input sequences"
   ]
  },
  {
   "cell_type": "code",
   "execution_count": 40,
   "id": "a9a00bdf-9903-4dfe-9ff0-0304db489c6e",
   "metadata": {},
   "outputs": [
    {
     "name": "stdout",
     "output_type": "stream",
     "text": [
      "Percentile: 75, Max length: 422\n",
      "Epoch 18: early stopping\n",
      "Restoring model weights from the end of the best epoch: 13.\n",
      "Best validation accuracy: 0.9586374759674072\n",
      "Percentile: 80, Max length: 471\n",
      "Epoch 14: early stopping\n",
      "Restoring model weights from the end of the best epoch: 9.\n",
      "Best validation accuracy: 0.9601581692695618\n",
      "Percentile: 85, Max length: 519\n",
      "Epoch 26: early stopping\n",
      "Restoring model weights from the end of the best epoch: 21.\n",
      "Best validation accuracy: 0.9635036587715149\n",
      "Percentile: 95, Max length: 750\n",
      "Epoch 19: early stopping\n",
      "Restoring model weights from the end of the best epoch: 14.\n",
      "Best validation accuracy: 0.9644160866737366\n",
      "\n"
     ]
    }
   ],
   "source": [
    "percentiles = [75, 80, 85, 95]\n",
    "for percentile in percentiles:\n",
    "    max_len = int(np.ceil(np.percentile(text_lengths, percentile)))\n",
    "    print(f\"Percentile: {percentile}, Max length: {max_len}\")\n",
    "    _, _, y_train, y_test = train_test_split(X, y, test_size=0.2, stratify=y, random_state=42) \n",
    "    X_train_pad = pad_sequences(X_train_seq, maxlen=max_len, padding='post')\n",
    "    X_test_pad = pad_sequences(X_test_seq, maxlen=max_len, padding='post')\n",
    "    X_train_pad, X_val_pad, y_train, y_val = train_test_split(X_train_pad, y_train, test_size=0.2, stratify=y_train, random_state=42)\n",
    "\n",
    "    model = get_model(max_len, vocab_size, best['params']['embedding_dim'], best_embedding_matrix)\n",
    "    estop = EarlyStopping(monitor='val_accuracy', mode='max',\n",
    "                      min_delta=1e-5, patience=patience,\n",
    "                      restore_best_weights=True, verbose=1)\n",
    "    history = model.fit(X_train_pad, y_train,\n",
    "                  validation_data=(X_val_pad, y_val),\n",
    "                  callbacks=[estop],\n",
    "                  epochs=epochs, batch_size=batch_size,\n",
    "                  verbose=0)\n",
    "    val_accuracy = max(history.history['val_accuracy'])\n",
    "    print(f\"Best validation accuracy: {val_accuracy}\")\n",
    "    \n",
    "    if val_accuracy > best['val_accuracy']:\n",
    "        best['val_accuracy'] = val_accuracy\n",
    "        best['params']['max_len'] = max_len\n",
    "        best['cnn_model'] = model\n",
    "        print(best['params'])\n",
    "        print(\"--- updated ---\")\n",
    "print()"
   ]
  },
  {
   "cell_type": "code",
   "execution_count": 41,
   "id": "811b6a7b-5e35-4dab-932a-b5cb1c1bc80e",
   "metadata": {},
   "outputs": [
    {
     "name": "stdout",
     "output_type": "stream",
     "text": [
      "{'embedding_dim': 500, 'windows': 5, 'max_len': 588}\n",
      "0.9644160866737366\n"
     ]
    }
   ],
   "source": [
    "print(best['params'])\n",
    "print(best['val_accuracy'])"
   ]
  },
  {
   "cell_type": "code",
   "execution_count": 42,
   "id": "05d5e059-65ac-4c9a-8fdd-03a39ccaf3f5",
   "metadata": {},
   "outputs": [
    {
     "name": "stdout",
     "output_type": "stream",
     "text": [
      "Best Test Accuracy: 0.9652068018913269\n"
     ]
    }
   ],
   "source": [
    "loss, accuracy = best['cnn_model'].evaluate(X_test_pad, y_test, verbose=0)\n",
    "print(f\"Best Test Accuracy: {accuracy}\")"
   ]
  },
  {
   "cell_type": "code",
   "execution_count": 46,
   "id": "018f1065-64c7-440e-9a09-c11d010b2665",
   "metadata": {},
   "outputs": [],
   "source": [
    "_, _, y_train, y_test = train_test_split(X, y, test_size=0.2, stratify=y, random_state=42) \n",
    "X_train_pad = pad_sequences(X_train_seq, maxlen=best['params']['max_len'], padding='post')\n",
    "X_test_pad = pad_sequences(X_test_seq, maxlen=best['params']['max_len'], padding='post')\n",
    "X_train_pad, X_val_pad, y_train, y_val = train_test_split(X_train_pad, y_train, test_size=0.2, stratify=y_train, random_state=42)\n",
    "embeddings_input = {\n",
    "    'embedding_matrix': best_embedding_matrix,\n",
    "    'X_train_pad': X_train_pad,\n",
    "    'X_val_pad': X_val_pad,\n",
    "    'X_test_pad': X_test_pad,\n",
    "    'y_train': y_train,\n",
    "    'y_val': y_val,\n",
    "    'y_test': y_test\n",
    "}"
   ]
  },
  {
   "cell_type": "code",
   "execution_count": 47,
   "id": "f25595d1-8ed4-4129-a35b-ac79f08d0d2b",
   "metadata": {},
   "outputs": [],
   "source": [
    "with open('artifacts/embeddings_inputs.pkl', 'wb') as f:\n",
    "    pickle.dump(embeddings_input, f)"
   ]
  },
  {
   "cell_type": "code",
   "execution_count": 48,
   "id": "eab8f052-0702-4a82-be97-f8d0a09ab402",
   "metadata": {},
   "outputs": [],
   "source": [
    "best['cnn_model'].save('artifacts/exploratory_cnn_model.keras')"
   ]
  },
  {
   "cell_type": "markdown",
   "id": "78e235bb-1458-45cb-9b4b-1e5d768c6956",
   "metadata": {},
   "source": [
    "* The embeddings of `dimension=500` made with `window=5`, and input data of `maximum lenghth=588` (90th percentile length) gave the highest accuracy. So, we will use these going forward."
   ]
  }
 ],
 "metadata": {
  "kernelspec": {
   "display_name": "Python 3 (ipykernel)",
   "language": "python",
   "name": "python3"
  },
  "language_info": {
   "codemirror_mode": {
    "name": "ipython",
    "version": 3
   },
   "file_extension": ".py",
   "mimetype": "text/x-python",
   "name": "python",
   "nbconvert_exporter": "python",
   "pygments_lexer": "ipython3",
   "version": "3.12.6"
  }
 },
 "nbformat": 4,
 "nbformat_minor": 5
}
